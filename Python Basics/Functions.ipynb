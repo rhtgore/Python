{
 "cells": [
  {
   "cell_type": "markdown",
   "metadata": {},
   "source": [
    "# Functions"
   ]
  },
  {
   "cell_type": "markdown",
   "metadata": {},
   "source": [
    "1. A function is a block of organized code written to carry out a specified task.\n",
    "2. Functions help break our program into smaller chunks for better readibility.\n",
    "3. Information can be passed into a function as arguments.\n",
    "4. Parameters are specified after the function name inside the parentheses.\n",
    "5. We can add as many parameters as we want. Parameters must be seperated with the comma.\n",
    "6. A function may or may not return data.\n",
    "7. In Python, a function is defined using the def keyword."
   ]
  },
  {
   "cell_type": "markdown",
   "metadata": {},
   "source": [
    "### Parameter VS Argument "
   ]
  },
  {
   "cell_type": "markdown",
   "metadata": {},
   "source": [
    "1. A parameter is the variable listed inside the parentheses in the function definition.\n",
    "2. An argument is the value that is sent to the function when it is called."
   ]
  },
  {
   "cell_type": "markdown",
   "metadata": {},
   "source": [
    "### Three types of functions in Python: "
   ]
  },
  {
   "cell_type": "markdown",
   "metadata": {},
   "source": [
    "1.Built-in function :- Python predefined functions that are readily available for use like min() , max() , sum() , print() etc.\n",
    "\n",
    "2.User-Defined Functions:- Function that we define ourselves to perform a specific task.\n",
    "\n",
    "3.Anonymous functions : Function that is defined without a name. Anonymous functions are also called as lambda functions. They are not declared with the def keyword."
   ]
  },
  {
   "cell_type": "markdown",
   "metadata": {},
   "source": [
    "### Syntax "
   ]
  },
  {
   "cell_type": "markdown",
   "metadata": {},
   "source": [
    " def FunctionName(parameters):\n",
    "\n",
    "    \"\"\" Function DocString \"\"\"\n",
    "\n",
    "    statement(s)\n",
    "\n",
    "    return [expression]"
   ]
  },
  {
   "cell_type": "markdown",
   "metadata": {},
   "source": [
    "### Modularity "
   ]
  },
  {
   "cell_type": "code",
   "execution_count": 1,
   "metadata": {},
   "outputs": [
    {
     "name": "stdout",
     "output_type": "stream",
     "text": [
      "Hello Python Lovers\n"
     ]
    }
   ],
   "source": [
    "def myfunc():\n",
    "    print(\"Hello Python Lovers\")\n",
    "    \n",
    "myfunc()"
   ]
  },
  {
   "cell_type": "code",
   "execution_count": 2,
   "metadata": {
    "scrolled": true
   },
   "outputs": [
    {
     "name": "stdout",
     "output_type": "stream",
     "text": [
      "Name: Rohit\n",
      "Useid: Rohit28\n",
      "country: India\n"
     ]
    }
   ],
   "source": [
    "def details(name, userid, country): # Function to print User details\n",
    "    print('Name:', name)\n",
    "    print('Useid:', userid)\n",
    "    print('country:', country)\n",
    "    \n",
    "details('Rohit', 'Rohit28', 'India')"
   ]
  },
  {
   "cell_type": "code",
   "execution_count": 3,
   "metadata": {},
   "outputs": [
    {
     "data": {
      "text/plain": [
       "100"
      ]
     },
     "execution_count": 3,
     "metadata": {},
     "output_type": "execute_result"
    }
   ],
   "source": [
    "def square(n): # Function to find square of a number\n",
    "    n = n*n\n",
    "    return n\n",
    "\n",
    "square(10)"
   ]
  },
  {
   "cell_type": "code",
   "execution_count": 4,
   "metadata": {},
   "outputs": [
    {
     "name": "stdout",
     "output_type": "stream",
     "text": [
      "3 is odd number\n",
      "4 is even number\n",
      "This function will check whether a number is even or odd \n"
     ]
    }
   ],
   "source": [
    "def even_odd(num):  # function to check even or odd\n",
    "    \"\"\"This function will check whether a number is even or odd \"\"\"\n",
    "    if num % 2 == 0 :\n",
    "        print(num, 'is even number')\n",
    "    else:\n",
    "        print(num, 'is odd number')\n",
    "\n",
    "even_odd(3)\n",
    "even_odd(4)\n",
    "print(even_odd.__doc__) # print function documentation string"
   ]
  },
  {
   "cell_type": "code",
   "execution_count": 5,
   "metadata": {},
   "outputs": [
    {
     "name": "stdout",
     "output_type": "stream",
     "text": [
      "Rohit Anilrao Gore\n"
     ]
    }
   ],
   "source": [
    "def fullname(firstname, secondname, lastname):\n",
    "    print('{} {} {}'.format(firstname,secondname,lastname))\n",
    "    \n",
    "fullname('Rohit', 'Anilrao', 'Gore')"
   ]
  },
  {
   "cell_type": "code",
   "execution_count": 6,
   "metadata": {},
   "outputs": [
    {
     "name": "stdout",
     "output_type": "stream",
     "text": [
      "Most Populous City :-  Mumbai\n"
     ]
    }
   ],
   "source": [
    "def myfunc(city = 'Mumbai'):\n",
    "    print('Most Populous City :- ', city)\n",
    "myfunc() # When a function is called without an argument it will use default value"
   ]
  },
  {
   "cell_type": "code",
   "execution_count": 7,
   "metadata": {},
   "outputs": [
    {
     "name": "stdout",
     "output_type": "stream",
     "text": [
      "100\n",
      "100\n"
     ]
    }
   ],
   "source": [
    "var1 = 100 # Variable with Global scope.\n",
    "def myfunc():\n",
    "    print(var1) # Value 100 will be displayed due to global scope of var1\n",
    "myfunc()\n",
    "print(var1)"
   ]
  },
  {
   "cell_type": "code",
   "execution_count": 8,
   "metadata": {},
   "outputs": [
    {
     "name": "stdout",
     "output_type": "stream",
     "text": [
      "10\n"
     ]
    },
    {
     "ename": "NameError",
     "evalue": "name 'var2' is not defined",
     "output_type": "error",
     "traceback": [
      "\u001b[1;31m---------------------------------------------------------------------------\u001b[0m",
      "\u001b[1;31mNameError\u001b[0m                                 Traceback (most recent call last)",
      "\u001b[1;32m<ipython-input-8-df2ba6bae247>\u001b[0m in \u001b[0;36m<module>\u001b[1;34m()\u001b[0m\n\u001b[0;32m      5\u001b[0m     \u001b[0mprint\u001b[0m\u001b[1;33m(\u001b[0m\u001b[0mvar2\u001b[0m\u001b[1;33m)\u001b[0m \u001b[1;31m# This will throw error because var2 has a local scope. Var2 is only accessible in myfunc1()\u001b[0m\u001b[1;33m\u001b[0m\u001b[0m\n\u001b[0;32m      6\u001b[0m \u001b[0mmyfunc1\u001b[0m\u001b[1;33m(\u001b[0m\u001b[1;33m)\u001b[0m\u001b[1;33m\u001b[0m\u001b[0m\n\u001b[1;32m----> 7\u001b[1;33m \u001b[0mmyfunc2\u001b[0m\u001b[1;33m(\u001b[0m\u001b[1;33m)\u001b[0m\u001b[1;33m\u001b[0m\u001b[0m\n\u001b[0m",
      "\u001b[1;32m<ipython-input-8-df2ba6bae247>\u001b[0m in \u001b[0;36mmyfunc2\u001b[1;34m()\u001b[0m\n\u001b[0;32m      3\u001b[0m     \u001b[0mprint\u001b[0m\u001b[1;33m(\u001b[0m\u001b[0mvar2\u001b[0m\u001b[1;33m)\u001b[0m\u001b[1;33m\u001b[0m\u001b[0m\n\u001b[0;32m      4\u001b[0m \u001b[1;32mdef\u001b[0m \u001b[0mmyfunc2\u001b[0m\u001b[1;33m(\u001b[0m\u001b[1;33m)\u001b[0m\u001b[1;33m:\u001b[0m\u001b[1;33m\u001b[0m\u001b[0m\n\u001b[1;32m----> 5\u001b[1;33m     \u001b[0mprint\u001b[0m\u001b[1;33m(\u001b[0m\u001b[0mvar2\u001b[0m\u001b[1;33m)\u001b[0m \u001b[1;31m# This will throw error because var2 has a local scope. Var2 is only accessible in myfunc1()\u001b[0m\u001b[1;33m\u001b[0m\u001b[0m\n\u001b[0m\u001b[0;32m      6\u001b[0m \u001b[0mmyfunc1\u001b[0m\u001b[1;33m(\u001b[0m\u001b[1;33m)\u001b[0m\u001b[1;33m\u001b[0m\u001b[0m\n\u001b[0;32m      7\u001b[0m \u001b[0mmyfunc2\u001b[0m\u001b[1;33m(\u001b[0m\u001b[1;33m)\u001b[0m\u001b[1;33m\u001b[0m\u001b[0m\n",
      "\u001b[1;31mNameError\u001b[0m: name 'var2' is not defined"
     ]
    }
   ],
   "source": [
    "def myfunc1():\n",
    "    var2 = 10 # Variable with Local scope\n",
    "    print(var2)\n",
    "def myfunc2():\n",
    "    print(var2) # This will throw error because var2 has a local scope. Var2 is only accessible in myfunc1()\n",
    "myfunc1()\n",
    "myfunc2()"
   ]
  },
  {
   "cell_type": "code",
   "execution_count": 9,
   "metadata": {},
   "outputs": [
    {
     "name": "stdout",
     "output_type": "stream",
     "text": [
      "99\n",
      "100\n"
     ]
    }
   ],
   "source": [
    "var1 = 100 # Variable with Global scope.\n",
    "def myfunc():\n",
    "    var1 = 99 # Local scope\n",
    "    print(var1)\n",
    "myfunc()\n",
    "print(var1) # The original value of var1 (100) will be retained due to global scope."
   ]
  },
  {
   "cell_type": "code",
   "execution_count": 10,
   "metadata": {},
   "outputs": [
    {
     "name": "stdout",
     "output_type": "stream",
     "text": [
      "\"List1\" before calling the function:-  [11, 22, 33, 44, 55]\n",
      "\"List1\" after calling the function:-  [22, 33, 44, 55]\n"
     ]
    }
   ],
   "source": [
    "list1 = [11,22,33,44,55]\n",
    "def myfunc(list1):\n",
    "    del list1[0]\n",
    "print('\"List1\" before calling the function:- ',list1)\n",
    "myfunc(list1) # Pass by reference (Any change in the parameter within the function is reflected back in the calling func\n",
    "print('\"List1\" after calling the function:- ',list1)"
   ]
  },
  {
   "cell_type": "code",
   "execution_count": 11,
   "metadata": {},
   "outputs": [
    {
     "name": "stdout",
     "output_type": "stream",
     "text": [
      "\"List1\" before calling the function:-  [11, 22, 33, 44, 55]\n",
      "\"List1\" after calling the function:-  [11, 22, 33, 44, 55, 100]\n"
     ]
    }
   ],
   "source": [
    "list1 = [11,22,33,44,55]\n",
    "def myfunc(list1):\n",
    "    list1.append(100)\n",
    "print('\"List1\" before calling the function:- ',list1)\n",
    "myfunc(list1) # Pass by reference (Any change in the parameter within the function is reflected back in the calling func\n",
    "print('\"List1\" after calling the function:- ',list1)"
   ]
  },
  {
   "cell_type": "code",
   "execution_count": 12,
   "metadata": {},
   "outputs": [
    {
     "name": "stdout",
     "output_type": "stream",
     "text": [
      "\"List1\" before calling the function:-  [11, 22, 33, 44, 55]\n",
      "\"List1\" after calling the function:-  [11, 22, 33, 44, 55]\n"
     ]
    }
   ],
   "source": [
    "list1 = [11,22,33,44,55]\n",
    "def myfunc(list1):\n",
    "    list1 = [10,100,1000,10000] # link of 'list1' with previous object is broken now as new object is assigned to 'list1\n",
    "print('\"List1\" before calling the function:- ',list1)\n",
    "myfunc(list1) # Pass by reference (Any change in the parameter within the function is reflected back in the calling func\n",
    "print('\"List1\" after calling the function:- ',list1)"
   ]
  },
  {
   "cell_type": "code",
   "execution_count": 13,
   "metadata": {},
   "outputs": [
    {
     "name": "stdout",
     "output_type": "stream",
     "text": [
      "20 10\n"
     ]
    },
    {
     "data": {
      "text/plain": [
       "(10, 20)"
      ]
     },
     "execution_count": 13,
     "metadata": {},
     "output_type": "execute_result"
    }
   ],
   "source": [
    "def swap(a,b):\n",
    "    temp = a\n",
    "    a = b # link of 'a' with previous object is broken now as new object is assigned to 'a'.\n",
    "    b = temp # link of 'b' with previous object is broken now as new object is assigned to 'b'.\n",
    "    print(a,b)\n",
    "    \n",
    "a = 10\n",
    "b = 20\n",
    "swap(a,b)\n",
    "a,b"
   ]
  },
  {
   "cell_type": "code",
   "execution_count": 14,
   "metadata": {},
   "outputs": [
    {
     "data": {
      "text/plain": [
       "24"
      ]
     },
     "execution_count": 14,
     "metadata": {},
     "output_type": "execute_result"
    }
   ],
   "source": [
    "def factorial(num): # Calculate factorial of a number using recursive function call\n",
    "    if num <= 1:\n",
    "        return 1\n",
    "    else:\n",
    "        return num * factorial(num-1)\n",
    "    \n",
    "factorial(4)"
   ]
  },
  {
   "cell_type": "code",
   "execution_count": 15,
   "metadata": {},
   "outputs": [
    {
     "data": {
      "text/plain": [
       "15"
      ]
     },
     "execution_count": 15,
     "metadata": {},
     "output_type": "execute_result"
    }
   ],
   "source": [
    "def add(num): # Sum of first n natural numbers\n",
    "    if num == 0:\n",
    "        return 0\n",
    "    else:\n",
    "        return num + add(num-1)\n",
    "    \n",
    "add(5) # Sum of first five natural numbers (1,2,3,4,5)"
   ]
  },
  {
   "cell_type": "markdown",
   "metadata": {},
   "source": [
    "## args & kwargs "
   ]
  },
  {
   "cell_type": "markdown",
   "metadata": {},
   "source": [
    "### *args "
   ]
  },
  {
   "cell_type": "markdown",
   "metadata": {},
   "source": [
    "- When we are not sure about number of arguments being passed to a function then we can use *args as function parameter.\n",
    "- *args allow us to pass the variable number of Non keyoword Arguments to function.\n",
    "- We can simply use an asterisk * before the parameter name to pass variable length arguments.\n",
    "- The arguments are always passed as a tuple.\n",
    "- We can rename it to anything as long as it is preceded by a single asterisk (*). It's best practice to keep naming it args to make is immediately recognizable."
   ]
  },
  {
   "cell_type": "markdown",
   "metadata": {},
   "source": [
    "### **kwargs "
   ]
  },
  {
   "cell_type": "markdown",
   "metadata": {},
   "source": [
    "- **kwargs allows us to pass the variable number of Keyword Arguments to the function.\n",
    "- We can simply use an double asterisk ** before the parameter name to pass variable length arguments.\n",
    "- The arguments are passed as a dictionary.\n",
    "- We can rename it to anything as long as it is preceded by a double asterisk (**). It's best practice to keep naming it kwargs to make it immediately recognizable.\n",
    "- ex: def myfunc(positional arguments, *args, named arguments, **kwargs)"
   ]
  },
  {
   "cell_type": "code",
   "execution_count": 16,
   "metadata": {},
   "outputs": [
    {
     "name": "stdout",
     "output_type": "stream",
     "text": [
      "60\n"
     ]
    }
   ],
   "source": [
    "def add(a, b, c):\n",
    "    return a+b+c\n",
    "\n",
    "print(add(10, 20, 30))"
   ]
  },
  {
   "cell_type": "code",
   "execution_count": 17,
   "metadata": {},
   "outputs": [
    {
     "ename": "SyntaxError",
     "evalue": "invalid syntax (<ipython-input-17-9ab2c47cd961>, line 2)",
     "output_type": "error",
     "traceback": [
      "\u001b[1;36m  File \u001b[1;32m\"<ipython-input-17-9ab2c47cd961>\"\u001b[1;36m, line \u001b[1;32m2\u001b[0m\n\u001b[1;33m    If we want to make argument list dynamic then *args wil come in picture'''\u001b[0m\n\u001b[1;37m                                                                              \n^\u001b[0m\n\u001b[1;31mSyntaxError\u001b[0m\u001b[1;31m:\u001b[0m invalid syntax\n"
     ]
    }
   ],
   "source": [
    "print(add(1,2,3,4)) '''This will throw below error as this function will only take two argumengts.\n",
    "If we want to make argument list dynamic then *args wil come in picture'''"
   ]
  },
  {
   "cell_type": "code",
   "execution_count": 18,
   "metadata": {},
   "outputs": [
    {
     "ename": "TypeError",
     "evalue": "add() takes 3 positional arguments but 4 were given",
     "output_type": "error",
     "traceback": [
      "\u001b[1;31m---------------------------------------------------------------------------\u001b[0m",
      "\u001b[1;31mTypeError\u001b[0m                                 Traceback (most recent call last)",
      "\u001b[1;32m<ipython-input-18-827a328f1d62>\u001b[0m in \u001b[0;36m<module>\u001b[1;34m()\u001b[0m\n\u001b[1;32m----> 1\u001b[1;33m \u001b[0mprint\u001b[0m\u001b[1;33m(\u001b[0m\u001b[0madd\u001b[0m\u001b[1;33m(\u001b[0m\u001b[1;36m1\u001b[0m\u001b[1;33m,\u001b[0m\u001b[1;36m2\u001b[0m\u001b[1;33m,\u001b[0m\u001b[1;36m3\u001b[0m\u001b[1;33m,\u001b[0m\u001b[1;36m4\u001b[0m\u001b[1;33m)\u001b[0m\u001b[1;33m)\u001b[0m\u001b[1;33m\u001b[0m\u001b[0m\n\u001b[0m",
      "\u001b[1;31mTypeError\u001b[0m: add() takes 3 positional arguments but 4 were given"
     ]
    }
   ],
   "source": [
    "print(add(1,2,3,4))"
   ]
  },
  {
   "cell_type": "code",
   "execution_count": 19,
   "metadata": {},
   "outputs": [
    {
     "name": "stdout",
     "output_type": "stream",
     "text": [
      "arg_1: 1\n",
      "arg_2: 2\n",
      "arg_3: 3\n"
     ]
    }
   ],
   "source": [
    "def some_args(arg_1, arg_2, arg_3):\n",
    "    print(\"arg_1:\", arg_1)\n",
    "    print(\"arg_2:\", arg_2)\n",
    "    print(\"arg_3:\", arg_3)\n",
    "    \n",
    "my_list = [2, 3]\n",
    "some_args(1, *my_list)"
   ]
  },
  {
   "cell_type": "code",
   "execution_count": 20,
   "metadata": {},
   "outputs": [
    {
     "name": "stdout",
     "output_type": "stream",
     "text": [
      "6\n",
      "18\n",
      "29\n"
     ]
    }
   ],
   "source": [
    "def add1(*args):\n",
    "    return sum(args)\n",
    "\n",
    "print(add1(1,2,3)) # *args will take dynamic argument list. So add() function will perform addition of any number of\n",
    "print(add1(3,4,5,6))\n",
    "print(add1(1,2,3,4,5,6,8))"
   ]
  },
  {
   "cell_type": "code",
   "execution_count": 21,
   "metadata": {},
   "outputs": [
    {
     "data": {
      "text/plain": [
       "(36, 21)"
      ]
     },
     "execution_count": 21,
     "metadata": {},
     "output_type": "execute_result"
    }
   ],
   "source": [
    "list1 = [3,4,4,6,4,7,8]\n",
    "tuple1 = (2,3,5,2,9)\n",
    "\n",
    "add1(*list1), add1(*tuple1)  # list and tuple items will be passed as argument list and sum will be returned for both cases"
   ]
  },
  {
   "cell_type": "code",
   "execution_count": 22,
   "metadata": {},
   "outputs": [
    {
     "data": {
      "text/plain": [
       "112"
      ]
     },
     "execution_count": 22,
     "metadata": {},
     "output_type": "execute_result"
    }
   ],
   "source": [
    "list1 = [1,2,3,4,5,6,7]\n",
    "list2 = [1,2,3,4,5,6,7]\n",
    "list3 = [1,2,3,4,5,6,7]\n",
    "list4 = [1,2,3,4,5,6,7]\n",
    "add1(*list1 , *list2 , *list3 , *list4 ) #All four lists are unpacked and each individual item is passed to add1() funct"
   ]
  },
  {
   "cell_type": "code",
   "execution_count": 27,
   "metadata": {},
   "outputs": [
    {
     "name": "stdout",
     "output_type": "stream",
     "text": [
      "('Rohit', 7412, 41102, 33, 'India', 'Hindi')\n"
     ]
    },
    {
     "data": {
      "text/plain": [
       "' For the above example we have no idea about the parameters passed e.g 7412 , 41102 , 33 etc.\\nIn such cases we can take help of Keyworded arguments (**kwargs) '"
      ]
     },
     "execution_count": 27,
     "metadata": {},
     "output_type": "execute_result"
    }
   ],
   "source": [
    "def UserDetails(*args):\n",
    "    print(args)\n",
    "UserDetails('Rohit' , 7412 , 41102 , 33 , 'India' , 'Hindi')\n",
    "''' For the above example we have no idea about the parameters passed e.g 7412 , 41102 , 33 etc.\n",
    "In such cases we can take help of Keyworded arguments (**kwargs) '''"
   ]
  },
  {
   "cell_type": "code",
   "execution_count": 28,
   "metadata": {},
   "outputs": [
    {
     "name": "stdout",
     "output_type": "stream",
     "text": [
      "{'Name': 'Rohit', 'ID': 7412, 'Pincode': 41102, 'Age': 29, 'Country': 'India', 'Language': 'Hindi'}\n"
     ]
    }
   ],
   "source": [
    "def UserDetails(**kwargs):\n",
    "    print(kwargs)\n",
    "UserDetails(Name='Rohit' , ID=7412 , Pincode=41102 , Age= 29 , Country= 'India' , Language= 'Hindi')"
   ]
  },
  {
   "cell_type": "code",
   "execution_count": 29,
   "metadata": {},
   "outputs": [
    {
     "name": "stdout",
     "output_type": "stream",
     "text": [
      "Name: Rohit\n",
      "ID: 7412\n",
      "Pincode: 431605\n",
      "Age: 28\n",
      "Country: India\n",
      "Language: Hindi\n"
     ]
    }
   ],
   "source": [
    "def UserDetails(**kwargs):\n",
    "    for key,val in kwargs.items():\n",
    "        print('{}: {}'.format(key,val))\n",
    "        \n",
    "UserDetails(Name='Rohit' , ID=7412 , Pincode=431605 , Age= 28 , Country= 'India' , Language= 'Hindi')"
   ]
  },
  {
   "cell_type": "code",
   "execution_count": 30,
   "metadata": {},
   "outputs": [
    {
     "name": "stdout",
     "output_type": "stream",
     "text": [
      "License No :-  BHT145\n",
      "Full Name :- Rohit Anilrao Gore\n",
      "Phone Number:-  1234567890\n",
      "Name :- Rohit\n",
      "ID :- 7412\n",
      "Pincode :- 431605\n",
      "Age :- 28\n",
      "Country :- India\n",
      "Language :- Hindi\n"
     ]
    }
   ],
   "source": [
    "def UserDetails(licenseNo, *args , phoneNo=0 , **kwargs): # Using all four arguments types\n",
    "    print('License No :- ', licenseNo)\n",
    "    j=''\n",
    "    for i in args:\n",
    "        j = j+i\n",
    "    print('Full Name :-',j)\n",
    "    print('Phone Number:- ',phoneNo)\n",
    "    for key,val in kwargs.items():\n",
    "        print(\"{} :- {}\".format(key,val))\n",
    "        \n",
    "name = ['Rohit' , ' ' , 'Anilrao' , ' ','Gore']\n",
    "mydict = {'Name': 'Rohit', 'ID': 7412, 'Pincode': 431605, 'Age': 28, 'Country': 'India', 'Language': 'Hindi'}\n",
    "UserDetails('BHT145' , *name , phoneNo=1234567890,**mydict )"
   ]
  },
  {
   "cell_type": "code",
   "execution_count": 31,
   "metadata": {
    "collapsed": true
   },
   "outputs": [],
   "source": [
    "def UserDetails(licenseNo, *args , phoneNo=0, **kwargs): # Using all four arguments types. CORRECT ORDER\n",
    "    print('Nothing')"
   ]
  },
  {
   "cell_type": "code",
   "execution_count": 32,
   "metadata": {},
   "outputs": [
    {
     "ename": "SyntaxError",
     "evalue": "invalid syntax (<ipython-input-32-6234e182dc2b>, line 1)",
     "output_type": "error",
     "traceback": [
      "\u001b[1;36m  File \u001b[1;32m\"<ipython-input-32-6234e182dc2b>\"\u001b[1;36m, line \u001b[1;32m1\u001b[0m\n\u001b[1;33m    def UserDetails(licenseNo, **kwargs , *args): # This will fail. *args MUST come before **kwargs in the argument list\u001b[0m\n\u001b[1;37m                                          ^\u001b[0m\n\u001b[1;31mSyntaxError\u001b[0m\u001b[1;31m:\u001b[0m invalid syntax\n"
     ]
    }
   ],
   "source": [
    "def UserDetails(licenseNo, **kwargs , *args): # This will fail. *args MUST come before **kwargs in the argument list\n",
    "    print('Nothing')"
   ]
  },
  {
   "cell_type": "code",
   "execution_count": 33,
   "metadata": {},
   "outputs": [
    {
     "ename": "SyntaxError",
     "evalue": "non-default argument follows default argument (<ipython-input-33-3c4a455fe51e>, line 2)",
     "output_type": "error",
     "traceback": [
      "\u001b[1;36m  File \u001b[1;32m\"<ipython-input-33-3c4a455fe51e>\"\u001b[1;36m, line \u001b[1;32m2\u001b[0m\n\u001b[1;33m    def UserDetails(ID = 1, licenseNo, *args):\u001b[0m\n\u001b[1;37m                   ^\u001b[0m\n\u001b[1;31mSyntaxError\u001b[0m\u001b[1;31m:\u001b[0m non-default argument follows default argument\n"
     ]
    }
   ],
   "source": [
    "#The below function will fail. Default argument/positional argument (licenseNo) MUST come before Keyword argument(ID)\n",
    "def UserDetails(ID = 1, licenseNo, *args):\n",
    "    print('Nothing')"
   ]
  },
  {
   "cell_type": "markdown",
   "metadata": {},
   "source": [
    "# Lambda, Filter, Map and Reduce"
   ]
  },
  {
   "cell_type": "markdown",
   "metadata": {},
   "source": [
    "### Lambda "
   ]
  },
  {
   "cell_type": "markdown",
   "metadata": {},
   "source": [
    "- Lambda function is an anonymous function (function without a name)\n",
    "- Lambda funtion can have any number of arguments but only one expression. The expression is evaluated and returned.\n",
    "- We have Lambda function when we require a nameless function for short period to time."
   ]
  },
  {
   "cell_type": "markdown",
   "metadata": {},
   "source": [
    "### Syntax "
   ]
  },
  {
   "cell_type": "markdown",
   "metadata": {},
   "source": [
    "- lambda argumnets(x) : expression\n",
    "- lambda num1, num2 : num1+num2"
   ]
  },
  {
   "cell_type": "markdown",
   "metadata": {},
   "source": [
    "### Filter "
   ]
  },
  {
   "cell_type": "markdown",
   "metadata": {},
   "source": [
    "- It is used to filter the iterables/sequence as per the conditions.\n",
    "- Filter function filters the original iterable and passes the items that returns True for the function provided to filter.\n",
    "- It is normally used with Lambda functions to filter list, tuple, or sets.\n",
    "- filter() method takes two parameters:\n",
    "- function - function tests if elements of an iterable returns true or false\n",
    "- iterable - Sequence which needs to be filtered, could be sets, lists, tuples, or any iterators"
   ]
  },
  {
   "cell_type": "markdown",
   "metadata": {},
   "source": [
    "### Syntax "
   ]
  },
  {
   "cell_type": "markdown",
   "metadata": {},
   "source": [
    "- filter (function, iterable)\n",
    "- filter (lambda n:n%2 ==1, list1)"
   ]
  },
  {
   "cell_type": "markdown",
   "metadata": {},
   "source": [
    "### Map"
   ]
  },
  {
   "cell_type": "markdown",
   "metadata": {},
   "source": [
    "- The map() function applies a given function to each item of an iterable (list, tuple etc.) and returns a list of the results.\n",
    "- map() function takes two Parameters :\n",
    "- function : The function to execute for each item of given iterable.\n",
    "- iterable : It is a iterable which is to be mapped.\n",
    "- Returns : Returns a list of the results after applying the given function to each item of a given iterable (list, tuple etc.)"
   ]
  },
  {
   "cell_type": "markdown",
   "metadata": {},
   "source": [
    "### Syntax"
   ]
  },
  {
   "cell_type": "markdown",
   "metadata": {},
   "source": [
    "- map (function, iterable)\n",
    "- map (lambda num:num*2, list1)"
   ]
  },
  {
   "cell_type": "markdown",
   "metadata": {},
   "source": [
    "### Reduce "
   ]
  },
  {
   "cell_type": "markdown",
   "metadata": {},
   "source": [
    "- The reduce() function is defined in the functools python module.The reduce() function receives two arguments, a function and an iterable.\n",
    "However, it doesn't return another iterable, instead it returns a single value."
   ]
  },
  {
   "cell_type": "markdown",
   "metadata": {},
   "source": [
    "#### Working"
   ]
  },
  {
   "cell_type": "markdown",
   "metadata": {},
   "source": [
    "1) Apply a function to the first two items in an iterable and generate a partial result.\n",
    "\n",
    "2) The function is then called again with the result obtained in step 1 and the next value in the sequence. This process keeps on repeating until there are items in the sequence.\n",
    "\n",
    "3) The final returned result is returned and printed on console."
   ]
  },
  {
   "cell_type": "markdown",
   "metadata": {},
   "source": [
    "### Syntax"
   ]
  },
  {
   "cell_type": "markdown",
   "metadata": {},
   "source": [
    "- reduce ( function, iterable)\n",
    "- reduce (lambda a, b: a+b, list1)"
   ]
  },
  {
   "cell_type": "code",
   "execution_count": 34,
   "metadata": {},
   "outputs": [
    {
     "name": "stdout",
     "output_type": "stream",
     "text": [
      "15\n"
     ]
    }
   ],
   "source": [
    "addition = lambda a: a+10 # This lambda function adds value 10 to an argument.\n",
    "print(addition(5))"
   ]
  },
  {
   "cell_type": "code",
   "execution_count": 35,
   "metadata": {},
   "outputs": [
    {
     "name": "stdout",
     "output_type": "stream",
     "text": [
      "30\n"
     ]
    }
   ],
   "source": [
    "product = lambda a,b: a*b # This lambda function takes two arguments (a,b) and returns their product (a*b).\n",
    "print(product(5,6))"
   ]
  },
  {
   "cell_type": "code",
   "execution_count": 36,
   "metadata": {},
   "outputs": [
    {
     "name": "stdout",
     "output_type": "stream",
     "text": [
      "13\n"
     ]
    }
   ],
   "source": [
    "addition = lambda a, b, c : a + b + c #This lambda function takes three arguments (a,b,c) and returns their sum (a+b+c)\n",
    "print(addition(5, 6, 2))"
   ]
  },
  {
   "cell_type": "code",
   "execution_count": 37,
   "metadata": {},
   "outputs": [
    {
     "data": {
      "text/plain": [
       "(30, 100, 280)"
      ]
     },
     "execution_count": 37,
     "metadata": {},
     "output_type": "execute_result"
    }
   ],
   "source": [
    "res = (lambda *args: sum(args)) # This lambda function can take any number of arguments and return thier sum.\n",
    "res(10,20) , res(10,20,30,40) , res(10,20,30,40,50,60,70)"
   ]
  },
  {
   "cell_type": "code",
   "execution_count": 38,
   "metadata": {},
   "outputs": [
    {
     "data": {
      "text/plain": [
       "(60, 150)"
      ]
     },
     "execution_count": 38,
     "metadata": {},
     "output_type": "execute_result"
    }
   ],
   "source": [
    "res1 = (lambda **kwargs: sum(kwargs.values())) # This lambda function can take any number of arguments and return thier s\n",
    "res1(a = 10 , b= 20 , c = 30) , res1(a = 10 , b= 20 , c = 30, d = 40 , e = 50)"
   ]
  },
  {
   "cell_type": "code",
   "execution_count": 39,
   "metadata": {},
   "outputs": [
    {
     "data": {
      "text/plain": [
       "6000"
      ]
     },
     "execution_count": 39,
     "metadata": {},
     "output_type": "execute_result"
    }
   ],
   "source": [
    "# User defined function to find product of numbers\n",
    "def product(nums):\n",
    "    total = 1\n",
    "    for i in nums:\n",
    "        total *=i\n",
    "    return total\n",
    "\n",
    "res1 = (lambda **kwargs: product(kwargs.values()))\n",
    "res1(a = 10, b = 20, c = 30)"
   ]
  },
  {
   "cell_type": "code",
   "execution_count": 40,
   "metadata": {},
   "outputs": [
    {
     "name": "stdout",
     "output_type": "stream",
     "text": [
      "15\n",
      "25\n",
      "35\n"
     ]
    }
   ],
   "source": [
    "def myfunc(n):\n",
    "    return lambda a : a + n\n",
    "add10 = myfunc(10)\n",
    "add20 = myfunc(20)\n",
    "add30 = myfunc(30)\n",
    "print(add10(5))\n",
    "print(add20(5))\n",
    "print(add30(5))"
   ]
  },
  {
   "cell_type": "code",
   "execution_count": 41,
   "metadata": {},
   "outputs": [
    {
     "data": {
      "text/plain": [
       "[1, 3, 5, 7, 9]"
      ]
     },
     "execution_count": 41,
     "metadata": {},
     "output_type": "execute_result"
    }
   ],
   "source": [
    "list1 = [1,2,3,4,5,6,7,8,9]\n",
    "\n",
    "def odd(n):\n",
    "    if n%2 == 1: return True\n",
    "    else: return False\n",
    "    \n",
    "odd_num = list(filter(odd,list1)) # This Filter function filters list1 and passes all odd numbers to filter().\n",
    "odd_num"
   ]
  },
  {
   "cell_type": "code",
   "execution_count": 42,
   "metadata": {},
   "outputs": [
    {
     "data": {
      "text/plain": [
       "[1, 3, 5, 7, 9]"
      ]
     },
     "execution_count": 42,
     "metadata": {},
     "output_type": "execute_result"
    }
   ],
   "source": [
    "list1 = [1,2,3,4,5,6,7,8,9]\n",
    "# The below Filter function filters \"list1\" and passes all odd numbers using lambda function to filter().\n",
    "odd_num = list(filter(lambda n: n%2 ==1 ,list1))\n",
    "odd_num"
   ]
  },
  {
   "cell_type": "code",
   "execution_count": 43,
   "metadata": {},
   "outputs": [
    {
     "data": {
      "text/plain": [
       "([1, 3, 5, 7, 9], [2, 6, 10, 14, 18])"
      ]
     },
     "execution_count": 43,
     "metadata": {},
     "output_type": "execute_result"
    }
   ],
   "source": [
    "def twice(n):\n",
    "    return n*2\n",
    "\n",
    "double = list(map(twice,odd_num))\n",
    "odd_num, double"
   ]
  },
  {
   "cell_type": "code",
   "execution_count": 44,
   "metadata": {},
   "outputs": [
    {
     "data": {
      "text/plain": [
       "[2, 6, 10, 14, 18]"
      ]
     },
     "execution_count": 44,
     "metadata": {},
     "output_type": "execute_result"
    }
   ],
   "source": [
    "double = list(map(lambda n: n*2, odd_num))\n",
    "double"
   ]
  },
  {
   "cell_type": "code",
   "execution_count": 45,
   "metadata": {},
   "outputs": [
    {
     "data": {
      "text/plain": [
       "50"
      ]
     },
     "execution_count": 45,
     "metadata": {},
     "output_type": "execute_result"
    }
   ],
   "source": [
    "from functools import reduce\n",
    "def add(a,b):\n",
    "    return a+b\n",
    "sum_all = reduce(add,double) # This reduce function will perform sum of all items in the list using user defined \"add()\n",
    "sum_all"
   ]
  },
  {
   "cell_type": "code",
   "execution_count": 46,
   "metadata": {},
   "outputs": [
    {
     "data": {
      "text/plain": [
       "50"
      ]
     },
     "execution_count": 46,
     "metadata": {},
     "output_type": "execute_result"
    }
   ],
   "source": [
    "#The below reduce() function will perform sum of all items in the list using lambda function.\n",
    "sum_all = reduce(lambda a,b : a+b,double)\n",
    "sum_all"
   ]
  },
  {
   "cell_type": "code",
   "execution_count": 47,
   "metadata": {},
   "outputs": [
    {
     "data": {
      "text/plain": [
       "50"
      ]
     },
     "execution_count": 47,
     "metadata": {},
     "output_type": "execute_result"
    }
   ],
   "source": [
    "# Putting all together\n",
    "\n",
    "sum_all = reduce(lambda a,b: a+b,list(map(lambda n: n*2,list(filter(lambda n: n%2==1,list1)))))\n",
    "sum_all"
   ]
  },
  {
   "cell_type": "code",
   "execution_count": 48,
   "metadata": {},
   "outputs": [
    {
     "name": "stdout",
     "output_type": "stream",
     "text": [
      "--------\n",
      "[2, 4, 6, 8, 10]\n",
      "[1, 3, 5, 7, 9]\n",
      "--------\n",
      "['TWO', 'FOUR']\n",
      "['one', 'three']\n",
      "--------\n",
      "['one']\n",
      "['88', '99', '102']\n",
      "['one', 'two2', 'three3', '88', '99', '102']\n",
      "--------\n"
     ]
    }
   ],
   "source": [
    "list1 = [1,2,3,4,5,6,7,8,9,10]\n",
    "even = list(filter(lambda n: n%2 ==0 ,list1)) # Filter even numbers from the list\n",
    "odd = list(filter(lambda n: n%2 !=0 ,list1)) # Filter odd numbers from the list\n",
    "print('--------')\n",
    "print(even)\n",
    "print(odd)\n",
    "print('--------')\n",
    "list2 = ['one' , 'TWO' , 'three' , 'FOUR']\n",
    "upper = list(filter(lambda x: x.isupper() , list2)) # filter uppercase strings from the list\n",
    "lower = list(filter(lambda x: x.islower() , list2)) # filter lowercase strings from the list\n",
    "print(upper)\n",
    "print(lower)\n",
    "print('--------')\n",
    "list3 = ['one' , 'two2' , 'three3' ,'88' , '99' , '102']\n",
    "numeric = list(filter(lambda x:x.isnumeric(), list3)) # filter numbers from the list\n",
    "alpha = list(filter(lambda x:x.isalpha(), list3)) # filter character strings from the list\n",
    "alphanum = list(filter(lambda x:x.isalnum(), list3)) # filtr numbers & character strings from the list\n",
    "print(alpha)\n",
    "print(numeric)\n",
    "print(alphanum)\n",
    "print('--------')"
   ]
  },
  {
   "cell_type": "code",
   "execution_count": 49,
   "metadata": {},
   "outputs": [
    {
     "name": "stdout",
     "output_type": "stream",
     "text": [
      "---------------\n",
      "[2, 4, 6, 8]\n",
      "[6, 8, 10, 12]\n",
      "[1, 4, 9, 16]\n",
      "---------------\n",
      "[2, 4, 6, 8]\n",
      "[6, 8, 10, 12]\n",
      "[1, 4, 9, 16]\n",
      "---------------\n"
     ]
    }
   ],
   "source": [
    "list1 = [1,2,3,4]\n",
    "list2 = [5,6,7,8]\n",
    "def double(x):\n",
    "    return x+x\n",
    "def add(x,y):\n",
    "    return x+y\n",
    "def square(x):\n",
    "    return x*x\n",
    "print('---------------')\n",
    "print(list(map(double, list1))) # Double each number using map & User defined function\n",
    "print(list(map(add, list1, list2))) # add two items using map & User defined function\n",
    "print(list(map(square, list1))) #Square numbers using map & User defined function\n",
    "print('---------------')\n",
    "print(list(map(lambda x: x + x, list1))) # Double each number using map & lambda\n",
    "print(list(map(lambda x, y: x + y, list1, list2))) # add two items using map & lambda\n",
    "print(list(map(lambda x: x*x, list1))) #Square numbers using map & lambda\n",
    "print('---------------')"
   ]
  },
  {
   "cell_type": "code",
   "execution_count": 51,
   "metadata": {},
   "outputs": [
    {
     "name": "stdout",
     "output_type": "stream",
     "text": [
      "24\n",
      "10\n",
      "Python Rocks\n",
      "Hello Hello Hello \n",
      "1\n",
      "4\n"
     ]
    }
   ],
   "source": [
    "import operator\n",
    "list2 = [1,2,3,4]\n",
    "product = reduce (operator.mul,list2) # Product of all numbers in a list\n",
    "add = reduce(operator.add,list2) # Add all numbers in the list\n",
    "concat_str = reduce(operator.add , ['Python' , ' ' , 'Rocks']) # Concatenate string using reduce\n",
    "prod = reduce(operator.mul,['Hello ' , 3]) #Repeat a string multiple times\n",
    "min_num = reduce(lambda a, b: a if a < b else b, list2) # Minimum number in the list using reduce () & lambda\n",
    "max_num = reduce(lambda a, b: a if a > b else b, list2) # Maximum number in the list using reduce () & lambda\n",
    "print(product)\n",
    "print(add)\n",
    "print(concat_str)\n",
    "print(prod)\n",
    "print(min_num)\n",
    "print(max_num)"
   ]
  },
  {
   "cell_type": "code",
   "execution_count": 52,
   "metadata": {
    "scrolled": true
   },
   "outputs": [
    {
     "data": {
      "text/plain": [
       "([1, 2, 3, 4], 1, 4)"
      ]
     },
     "execution_count": 52,
     "metadata": {},
     "output_type": "execute_result"
    }
   ],
   "source": [
    "def min_func(a,b):\n",
    "    return a if a<b else b\n",
    "\n",
    "def max_func(a,b):\n",
    "    return a if a>b else b\n",
    "\n",
    "min_num = reduce(min_func,list2)\n",
    "max_num = reduce(max_func,list2)\n",
    "\n",
    "list2, min_num, max_num"
   ]
  },
  {
   "cell_type": "code",
   "execution_count": 53,
   "metadata": {},
   "outputs": [
    {
     "name": "stdout",
     "output_type": "stream",
     "text": [
      "------\n",
      "False\n",
      "True\n",
      "False\n",
      "------\n",
      "False\n",
      "True\n",
      "True\n",
      "------\n"
     ]
    }
   ],
   "source": [
    "print('------')\n",
    "print(reduce(lambda a, b: bool(a and b), [0, 0, 1, 0, 0])) # Returns True if all values in the list are True\n",
    "print(reduce(lambda a, b: bool(a and b), [2, 3, 1, 5, 6])) # Returns True if all items in the list are True\n",
    "print(reduce(lambda a, b: bool(a and b), [8, 9, 1, 0, 9])) # Returns True if all values in the list are True\n",
    "print('------')\n",
    "print(reduce(lambda a, b: bool(a or b), [0, 0, 0, 0, 0])) # Returns True if any item in the list is True\n",
    "print(reduce(lambda a, b: bool(a or b), [2, 3, 1, 5, 6])) # Returns True if any item in the list is True\n",
    "print(reduce(lambda a, b: bool(a or b), [8, 9, 1, 0, 9])) # Returns True if any item in the list is True\n",
    "print('------')"
   ]
  },
  {
   "cell_type": "code",
   "execution_count": null,
   "metadata": {
    "collapsed": true
   },
   "outputs": [],
   "source": []
  }
 ],
 "metadata": {
  "kernelspec": {
   "display_name": "Python 3",
   "language": "python",
   "name": "python3"
  },
  "language_info": {
   "codemirror_mode": {
    "name": "ipython",
    "version": 3
   },
   "file_extension": ".py",
   "mimetype": "text/x-python",
   "name": "python",
   "nbconvert_exporter": "python",
   "pygments_lexer": "ipython3",
   "version": "3.6.3"
  }
 },
 "nbformat": 4,
 "nbformat_minor": 2
}
