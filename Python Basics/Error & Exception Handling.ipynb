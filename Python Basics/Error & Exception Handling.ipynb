{
 "cells": [
  {
   "cell_type": "markdown",
   "metadata": {},
   "source": [
    "## Error & Exception Handling "
   ]
  },
  {
   "cell_type": "markdown",
   "metadata": {},
   "source": [
    "- Python has many built-in exceptions (ArithmeticError, ZeroDivisionError, EOFError, IndexError, KeyError, SyntaxError, IndentationError, FileNotFoundError etc) that are raised when your program encounters an error.\n",
    "- When the exception occurs Python interpreter stops the current process and passes it to the calling process until it is handled. If exception is not handled the program will crash.\n",
    "- Exceptions in python can be handled using a try statement. The try block lets you test a block of code for errors.\n",
    "- The block of code which can raise an exception is placed inside the try clause. The code that will handle the exceptions is written in the except clause.\n",
    "- The finally code block will execute regardless of the result of the try and except blocks.\n",
    "- We can also use the else keyword to define a block of code to be executed if no exceptions were raised.\n",
    "- Python also allows us to create our own exceptions that can be raised from the program using the raise keyword and caught using the except clause. We can define what kind of error to raise, and the text to print to the user."
   ]
  },
  {
   "cell_type": "code",
   "execution_count": 1,
   "metadata": {},
   "outputs": [
    {
     "name": "stdout",
     "output_type": "stream",
     "text": [
      "division by zero Exception occured \n",
      "Run this block of code always\n"
     ]
    }
   ],
   "source": [
    "import sys\n",
    "try:\n",
    "    print(100/0)  # ZeroExpressionError will be encountered here. So the control will pass to except block.\n",
    "except:\n",
    "    print(sys.exc_info()[1], 'Exception occured ') # This statement will be executed.\n",
    "else:\n",
    "    print('No exception occured') # This will be skipped as code block inside try encountered an exception.\n",
    "finally:\n",
    "    print('Run this block of code always') # This will be always executed"
   ]
  },
  {
   "cell_type": "code",
   "execution_count": 2,
   "metadata": {},
   "outputs": [
    {
     "name": "stdout",
     "output_type": "stream",
     "text": [
      "Variable x is not defined\n"
     ]
    }
   ],
   "source": [
    "try:\n",
    "    print(x) # NameError exception will be encounterd as variable x is not defined.\n",
    "except:\n",
    "    print('Variable x is not defined')"
   ]
  },
  {
   "cell_type": "code",
   "execution_count": 3,
   "metadata": {},
   "outputs": [
    {
     "name": "stdout",
     "output_type": "stream",
     "text": [
      "BELOW EXCEPTION OCCURED\n",
      "name 'os' is not defined\n",
      "\n",
      "Run this block of code always\n"
     ]
    }
   ],
   "source": [
    "try:\n",
    "    os.remove(\"test3.txt\") # FileNotFoundError will be encountered as \"test3.txt\" is not present in the directory\n",
    "except: # Below statement will be executed as exception occured.\n",
    "    print(\"BELOW EXCEPTION OCCURED\")\n",
    "    print(sys.exc_info()[1])\n",
    "else:\n",
    "    print('\\nNo exception occurred')\n",
    "finally:\n",
    "    print('\\nRun this block of code always')"
   ]
  },
  {
   "cell_type": "code",
   "execution_count": 7,
   "metadata": {},
   "outputs": [
    {
     "name": "stdout",
     "output_type": "stream",
     "text": [
      "Enter first number :- 10\n",
      "Enter first number :- 0\n",
      "ZeroDivisionError exception occurred\n"
     ]
    }
   ],
   "source": [
    "# Handling specific exceptions\n",
    "try:\n",
    "    x = int(input('Enter first number :- '))\n",
    "    y = int(input('Enter first number :- ')) # If input entered is non-zero the control will move to next line\n",
    "    print(x/y)\n",
    "    os.remove(\"test3.txt\")\n",
    "except NameError:\n",
    "    print('NameError exception occurred')\n",
    "except FileNotFoundError:\n",
    "    print('FileNotFoundError exception occurred')\n",
    "except ZeroDivisionError:\n",
    "    print('ZeroDivisionError exception occurred')"
   ]
  },
  {
   "cell_type": "code",
   "execution_count": 8,
   "metadata": {},
   "outputs": [
    {
     "name": "stdout",
     "output_type": "stream",
     "text": [
      "Enter first number :- 10\n",
      "Enter first number :- 0\n",
      "ZeroDivisionError exception occurred\n"
     ]
    }
   ],
   "source": [
    "# Handling specific exceptions\n",
    "try:\n",
    "    x = int(input('Enter first number :- '))\n",
    "    y = int(input('Enter first number :- ')) # If the input entered is zero the control will move to except block.\n",
    "    print(x/y)\n",
    "    os.remove(\"test3.txt\")\n",
    "except NameError:\n",
    "    print('NameError exception occurred')\n",
    "except FileNotFoundError:\n",
    "    print('FileNotFoundError exception occurred')\n",
    "except ZeroDivisionError:\n",
    "    print('ZeroDivisionError exception occurred')"
   ]
  },
  {
   "cell_type": "code",
   "execution_count": 6,
   "metadata": {},
   "outputs": [
    {
     "name": "stdout",
     "output_type": "stream",
     "text": [
      "Enter first number :- 10\n"
     ]
    }
   ],
   "source": [
    "try:\n",
    "    x = int(input('Enter first number :- '))\n",
    "    if x > 50:\n",
    "        raise ValueError(x) # If value of x is greater than 50 ValueError exception will be encountered.\n",
    "except:\n",
    "    print(sys.exc_info()[0])"
   ]
  },
  {
   "cell_type": "markdown",
   "metadata": {},
   "source": [
    "## Build-in Exceptions "
   ]
  },
  {
   "cell_type": "code",
   "execution_count": 9,
   "metadata": {},
   "outputs": [
    {
     "name": "stdout",
     "output_type": "stream",
     "text": [
      "(<class 'OverflowError'>, OverflowError('math range error',), <traceback object at 0x000001C193011548>)\n"
     ]
    }
   ],
   "source": [
    "# OverflowError - This exception is raised when the result of a numeric calculation is too large\n",
    "try:\n",
    "    import math\n",
    "    print(math.exp(1000))\n",
    "except OverflowError:\n",
    "    print (sys.exc_info())\n",
    "else:\n",
    "    print (\"Success, no error!\")"
   ]
  },
  {
   "cell_type": "code",
   "execution_count": 10,
   "metadata": {},
   "outputs": [
    {
     "name": "stdout",
     "output_type": "stream",
     "text": [
      "Enter first number :- 0\n",
      "Enter first number :- 0\n",
      "ZeroDivisionError exception occurred\n"
     ]
    }
   ],
   "source": [
    "# ZeroDivisionError - This exception is raised when the second operator in a division is zero\n",
    "try:\n",
    "    x = int(input('Enter first number :- '))\n",
    "    y = int(input('Enter first number :- '))\n",
    "    print(x/y)\n",
    "except ZeroDivisionError:\n",
    "    print('ZeroDivisionError exception occurred')"
   ]
  },
  {
   "cell_type": "code",
   "execution_count": 11,
   "metadata": {},
   "outputs": [
    {
     "name": "stdout",
     "output_type": "stream",
     "text": [
      "NameError exception occurred\n"
     ]
    }
   ],
   "source": [
    "# NameError - This exception is raised when a variable does not exist\n",
    "try:\n",
    "    print(x1)\n",
    "except NameError:\n",
    "    print('NameError exception occurred')"
   ]
  },
  {
   "cell_type": "code",
   "execution_count": 12,
   "metadata": {},
   "outputs": [
    {
     "name": "stdout",
     "output_type": "stream",
     "text": [
      "Assertion Exception Raised.\n"
     ]
    }
   ],
   "source": [
    "# AssertionError - This exception is raised when an assert statement fails\n",
    "try:\n",
    "    a = 50\n",
    "    b = \"Asif\"\n",
    "    assert a == b\n",
    "except AssertionError:\n",
    "    print (\"Assertion Exception Raised.\")"
   ]
  },
  {
   "cell_type": "code",
   "execution_count": 13,
   "metadata": {},
   "outputs": [
    {
     "name": "stdout",
     "output_type": "stream",
     "text": [
      "ModuleNotFoundError Exception Raised.\n"
     ]
    }
   ],
   "source": [
    "# ModuleNotFoundError - This exception is raised when an imported module does not exist\n",
    "try:\n",
    "    import MyModule\n",
    "except ModuleNotFoundError:\n",
    "    print (\"ModuleNotFoundError Exception Raised.\")"
   ]
  },
  {
   "cell_type": "code",
   "execution_count": 14,
   "metadata": {},
   "outputs": [
    {
     "name": "stdout",
     "output_type": "stream",
     "text": [
      "KeyError Exception Raised.\n"
     ]
    }
   ],
   "source": [
    "# KeyError - This exception is raised when key does not exist in a dictionary\n",
    "try:\n",
    "    mydict = {1:'Asif', 2:'Basit', 3:'Michael'}\n",
    "    print (mydict[4])\n",
    "except KeyError:\n",
    "    print (\"KeyError Exception Raised.\")"
   ]
  },
  {
   "cell_type": "code",
   "execution_count": 15,
   "metadata": {},
   "outputs": [
    {
     "name": "stdout",
     "output_type": "stream",
     "text": [
      "IndexError Exception Raised.\n"
     ]
    }
   ],
   "source": [
    "# IndexError - This exception is raised when an index of a sequence does not exist.\n",
    "try:\n",
    "    mylist = [1,2,3,4,5,6]\n",
    "    print (mylist[10])\n",
    "except IndexError:\n",
    "    print (\"IndexError Exception Raised.\")"
   ]
  },
  {
   "cell_type": "code",
   "execution_count": 16,
   "metadata": {},
   "outputs": [
    {
     "name": "stdout",
     "output_type": "stream",
     "text": [
      "TypeError Exception Raised.\n"
     ]
    }
   ],
   "source": [
    "# TypeError - This exception is raised when two different datatypes are combined\n",
    "try:\n",
    "    a = 50\n",
    "    b = \"Asif\"\n",
    "    c = a/b\n",
    "except TypeError:\n",
    "    print (\"TypeError Exception Raised.\")"
   ]
  },
  {
   "cell_type": "code",
   "execution_count": 17,
   "metadata": {},
   "outputs": [
    {
     "name": "stdout",
     "output_type": "stream",
     "text": [
      "AttributeError Exception Raised.\n"
     ]
    }
   ],
   "source": [
    "# AttributeError: - This exception is raised when attribute reference or assignment fails\n",
    "try:\n",
    "    a = 10\n",
    "    b = a.upper()\n",
    "    print(b)\n",
    "except AttributeError:\n",
    "    print (\"AttributeError Exception Raised.\")"
   ]
  },
  {
   "cell_type": "code",
   "execution_count": 18,
   "metadata": {},
   "outputs": [
    {
     "name": "stdout",
     "output_type": "stream",
     "text": [
      "Enter first number :- 10\n"
     ]
    }
   ],
   "source": [
    "try:\n",
    "    x = input('Enter first number :- ')\n",
    "except:\n",
    "    print('ZeroDivisionError exception occurred')"
   ]
  },
  {
   "cell_type": "code",
   "execution_count": null,
   "metadata": {
    "collapsed": true
   },
   "outputs": [],
   "source": []
  }
 ],
 "metadata": {
  "kernelspec": {
   "display_name": "Python 3",
   "language": "python",
   "name": "python3"
  },
  "language_info": {
   "codemirror_mode": {
    "name": "ipython",
    "version": 3
   },
   "file_extension": ".py",
   "mimetype": "text/x-python",
   "name": "python",
   "nbconvert_exporter": "python",
   "pygments_lexer": "ipython3",
   "version": "3.6.3"
  }
 },
 "nbformat": 4,
 "nbformat_minor": 2
}
