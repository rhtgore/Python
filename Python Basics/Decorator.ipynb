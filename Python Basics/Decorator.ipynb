{
 "cells": [
  {
   "cell_type": "markdown",
   "metadata": {},
   "source": [
    "## Decorator"
   ]
  },
  {
   "cell_type": "markdown",
   "metadata": {},
   "source": [
    "- Decorator is very powerful and useful tool in Python as it allows us to wrap another in order to extend the behavior of wrapped function without permanently modifying it.\n",
    "- In Decorator, function are taken as the argument into another function and then called inside the wrapper function.\n",
    "- Advantages:\n",
    "- Logging and debugging\n",
    "- Access control and authentication"
   ]
  },
  {
   "cell_type": "code",
   "execution_count": 1,
   "metadata": {},
   "outputs": [
    {
     "name": "stdout",
     "output_type": "stream",
     "text": [
      "Result is: 2\n",
      "Result is: -2\n"
     ]
    }
   ],
   "source": [
    "def subtract(num1, num2):\n",
    "    res = num1 - num2\n",
    "    print('Result is:',res)\n",
    "\n",
    "subtract(4,2)\n",
    "subtract(2,4)"
   ]
  },
  {
   "cell_type": "code",
   "execution_count": 2,
   "metadata": {},
   "outputs": [
    {
     "name": "stdout",
     "output_type": "stream",
     "text": [
      "Result is: 2\n"
     ]
    }
   ],
   "source": [
    "''' We now want subtract() function to always subtract lower number from higher one without modifying this function.\n",
    "So when we pass (2,4) it should perform 4-2 not 2-4. To acheive this we will create a decorator function'''\n",
    "\n",
    "def sub_decorator(func):\n",
    "    def wrapper(num1,num2):\n",
    "        if num1 < num2:\n",
    "            num1,num2 = num2,num1\n",
    "            return func(num1,num2)\n",
    "    return wrapper\n",
    "sub = sub_decorator(subtract)\n",
    "sub(2,4)"
   ]
  },
  {
   "cell_type": "code",
   "execution_count": 3,
   "metadata": {},
   "outputs": [
    {
     "name": "stdout",
     "output_type": "stream",
     "text": [
      "Result is: 2\n"
     ]
    }
   ],
   "source": [
    "@sub_decorator # we can use @ syntax for decorating a function in one step\n",
    "def subtract(num1, num2):\n",
    "    res = num1 - num2\n",
    "    print('Result is:', res)\n",
    "    \n",
    "subtract(2,4)"
   ]
  },
  {
   "cell_type": "code",
   "execution_count": 4,
   "metadata": {},
   "outputs": [
    {
     "name": "stdout",
     "output_type": "stream",
     "text": [
      "Linux installation has started \n",
      "\n",
      "Windows installation has started \n",
      "\n",
      "Mac installation has started \n",
      "\n",
      "\n",
      "Please accept terms & conditions\n",
      "Linux installation has started \n",
      "\n",
      "Please accept terms & conditions\n",
      "Windows installation has started \n",
      " \n",
      "Please accept terms & conditions\n",
      "Mac installation has started \n",
      "\n"
     ]
    }
   ],
   "source": [
    "def InstallLinux():\n",
    "    print('Linux installation has started \\n')\n",
    "def InstallWindows():\n",
    "    print('Windows installation has started \\n')\n",
    "def InstallMac():\n",
    "    print('Mac installation has started \\n')\n",
    "    \n",
    "InstallLinux()\n",
    "InstallWindows()\n",
    "InstallMac()\n",
    "print()\n",
    "\n",
    "''' Now suppose if we want to print message :- \"Please accept terms & conditions\" before every installation\n",
    "then easy way will be to create one decorator function which will present this message instead of modifying all funct'''\n",
    "\n",
    "def InstallDecorator(func):\n",
    "    def wrapper():\n",
    "        print('Please accept terms & conditions')\n",
    "        return func()\n",
    "    return wrapper()\n",
    "\n",
    "@InstallDecorator # we can use @ syntax for decorating a function in one step\n",
    "def InstallLinux():\n",
    "    print('Linux installation has started \\n')\n",
    "    \n",
    "@InstallDecorator\n",
    "def InstallWindows():\n",
    "    print('Windows installation has started \\n ')\n",
    "    \n",
    "@InstallDecorator\n",
    "def InstallMac():\n",
    "    print('Mac installation has started \\n')"
   ]
  },
  {
   "cell_type": "code",
   "execution_count": 5,
   "metadata": {},
   "outputs": [
    {
     "name": "stdout",
     "output_type": "stream",
     "text": [
      "Please accept terms & conditions...\n",
      "\n",
      "Please enter correct license key...\n",
      "\n",
      "Please enter partitioning choice...\n",
      "\n",
      "Linux installation has started \n",
      "\n"
     ]
    }
   ],
   "source": [
    "# Apply multiple decorator on a single function\n",
    "\n",
    "def InstallDecorator1(func):\n",
    "    def wrapper():\n",
    "        print('Please accept terms & conditions...\\n')\n",
    "        func()\n",
    "    return wrapper\n",
    "\n",
    "def InstallDecorator2(func):\n",
    "    def wrapper():\n",
    "        print('Please enter correct license key...\\n')\n",
    "        return func()\n",
    "    return wrapper\n",
    "\n",
    "def InstallDecorator3(func):\n",
    "    def wrapper():\n",
    "        print('Please enter partitioning choice...\\n')\n",
    "        return func()\n",
    "    return wrapper\n",
    "\n",
    "@InstallDecorator1\n",
    "@InstallDecorator2\n",
    "@InstallDecorator3\n",
    "def InstallLinux():\n",
    "    print('Linux installation has started \\n')\n",
    "    \n",
    "InstallLinux()"
   ]
  },
  {
   "cell_type": "code",
   "execution_count": null,
   "metadata": {
    "collapsed": true
   },
   "outputs": [],
   "source": []
  }
 ],
 "metadata": {
  "kernelspec": {
   "display_name": "Python 3",
   "language": "python",
   "name": "python3"
  },
  "language_info": {
   "codemirror_mode": {
    "name": "ipython",
    "version": 3
   },
   "file_extension": ".py",
   "mimetype": "text/x-python",
   "name": "python",
   "nbconvert_exporter": "python",
   "pygments_lexer": "ipython3",
   "version": "3.6.3"
  }
 },
 "nbformat": 4,
 "nbformat_minor": 2
}
