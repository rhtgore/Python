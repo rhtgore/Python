{
 "cells": [
  {
   "cell_type": "markdown",
   "metadata": {},
   "source": [
    "## Classes & Object "
   ]
  },
  {
   "cell_type": "markdown",
   "metadata": {},
   "source": [
    "- A class is an object constructor or a 'blueprint' for creating objects.\n",
    "- Objects are nothing but encapsulation of variables and functions into a single entity.\n",
    "- Objects get their variables and functions from classes.\n",
    "- To create a class we use the keyword class.\n",
    "- The first string inside the class is docstring which gives the brief description about the class.\n",
    "- All classes have a function called __init__() which is always executed when the class is being initiated.\n",
    "- We can use __init__() function to assign values to object properties or other operations that are necessary to perform when the object is being created.\n",
    "- The self parameter is a reference to the current instance of the class and is used to access class variables.\n",
    "- self must be the first parameter of any function in the class.\n",
    "- The super() builtin function returns a temporary object of the superclass that allows us to access methods of the base class.\n",
    "- super() allows us to avoid using the base class name explicitly and to enable multiple inheritance."
   ]
  },
  {
   "cell_type": "code",
   "execution_count": 1,
   "metadata": {},
   "outputs": [
    {
     "name": "stdout",
     "output_type": "stream",
     "text": [
      "10\n"
     ]
    }
   ],
   "source": [
    "# create a class with property \"var1\"\n",
    "class myclass:\n",
    "    var1 = 10\n",
    "    \n",
    "obj1 = myclass() # Create an object of class \"myclass()\"\n",
    "print(obj1.var1)"
   ]
  },
  {
   "cell_type": "code",
   "execution_count": 2,
   "metadata": {},
   "outputs": [
    {
     "name": "stdout",
     "output_type": "stream",
     "text": [
      "Name: Rohit\n",
      "Employee Id: 210720\n",
      "Thanks for joining ABC company Rohit!!\n"
     ]
    }
   ],
   "source": [
    "# create an employee class\n",
    "class Employee:\n",
    "    def __init__(self,name,empid): # __init__ function is used to assign values for name and empid\n",
    "        self.name = name\n",
    "        self.empid = empid\n",
    "    def greet(self): # class method\n",
    "        print('Thanks for joining ABC company {}!!'.format(self.name))\n",
    "        \n",
    "emp1 = Employee('Rohit','210720')  # create an employee object\n",
    "\n",
    "print('Name:',emp1.name)\n",
    "print('Employee Id:',emp1.empid)\n",
    "emp1.greet()\n"
   ]
  },
  {
   "cell_type": "code",
   "execution_count": 3,
   "metadata": {},
   "outputs": [
    {
     "data": {
      "text/plain": [
       "'Gore'"
      ]
     },
     "execution_count": 3,
     "metadata": {},
     "output_type": "execute_result"
    }
   ],
   "source": [
    "emp1.name = 'Gore' # Modify object properties\n",
    "emp1.name"
   ]
  },
  {
   "cell_type": "code",
   "execution_count": 4,
   "metadata": {},
   "outputs": [
    {
     "ename": "AttributeError",
     "evalue": "'Employee' object has no attribute 'empid'",
     "output_type": "error",
     "traceback": [
      "\u001b[1;31m---------------------------------------------------------------------------\u001b[0m",
      "\u001b[1;31mAttributeError\u001b[0m                            Traceback (most recent call last)",
      "\u001b[1;32m<ipython-input-4-61831a8fc159>\u001b[0m in \u001b[0;36m<module>\u001b[1;34m()\u001b[0m\n\u001b[0;32m      1\u001b[0m \u001b[1;32mdel\u001b[0m \u001b[0memp1\u001b[0m\u001b[1;33m.\u001b[0m\u001b[0mempid\u001b[0m \u001b[1;31m# delete object properties\u001b[0m\u001b[1;33m\u001b[0m\u001b[0m\n\u001b[1;32m----> 2\u001b[1;33m \u001b[0memp1\u001b[0m\u001b[1;33m.\u001b[0m\u001b[0mempid\u001b[0m\u001b[1;33m\u001b[0m\u001b[0m\n\u001b[0m",
      "\u001b[1;31mAttributeError\u001b[0m: 'Employee' object has no attribute 'empid'"
     ]
    }
   ],
   "source": [
    "del emp1.empid # delete object properties\n",
    "emp1.empid"
   ]
  },
  {
   "cell_type": "code",
   "execution_count": 5,
   "metadata": {},
   "outputs": [
    {
     "ename": "NameError",
     "evalue": "name 'emp1' is not defined",
     "output_type": "error",
     "traceback": [
      "\u001b[1;31m---------------------------------------------------------------------------\u001b[0m",
      "\u001b[1;31mNameError\u001b[0m                                 Traceback (most recent call last)",
      "\u001b[1;32m<ipython-input-5-0737ead3e01a>\u001b[0m in \u001b[0;36m<module>\u001b[1;34m()\u001b[0m\n\u001b[0;32m      1\u001b[0m \u001b[1;32mdel\u001b[0m \u001b[0memp1\u001b[0m \u001b[1;31m# Delete the object\u001b[0m\u001b[1;33m\u001b[0m\u001b[0m\n\u001b[1;32m----> 2\u001b[1;33m \u001b[0memp1\u001b[0m\u001b[1;33m\u001b[0m\u001b[0m\n\u001b[0m",
      "\u001b[1;31mNameError\u001b[0m: name 'emp1' is not defined"
     ]
    }
   ],
   "source": [
    "del emp1 # Delete the object\n",
    "emp1"
   ]
  },
  {
   "cell_type": "code",
   "execution_count": 6,
   "metadata": {},
   "outputs": [
    {
     "name": "stdout",
     "output_type": "stream",
     "text": [
      "Name :-  Michael\n",
      "Employee ID :-  34162\n",
      "Thanks for joining ABC company Michael!!\n"
     ]
    }
   ],
   "source": [
    "emp2 = Employee(\"Michael\", 34162) # Create an employee object\n",
    "print('Name :- ',emp2.name)\n",
    "print('Employee ID :- ',emp2.empid)\n",
    "emp2.greet()"
   ]
  },
  {
   "cell_type": "code",
   "execution_count": 7,
   "metadata": {},
   "outputs": [
    {
     "data": {
      "text/plain": [
       "'India'"
      ]
     },
     "execution_count": 7,
     "metadata": {},
     "output_type": "execute_result"
    }
   ],
   "source": [
    "emp2.country = 'India' #instance variable can be created manually\n",
    "emp2.country"
   ]
  },
  {
   "cell_type": "markdown",
   "metadata": {},
   "source": [
    "## Inheritance"
   ]
  },
  {
   "cell_type": "markdown",
   "metadata": {},
   "source": [
    "- Inheritance is a powerful feature in object programming.\n",
    "- Inheritance provides code reusability in the program because we can use an existing class (Super class\\Parent class\\Base class) to a new class (sub class \\ child class \\ derived class) instead of creating it from scratch.\n",
    "- The child class inherits data definitions and method from the parent class which facilitates the reuse of features already available. The child class can add few more definitions or redeine a base class method.\n",
    "- Inheritance comes into the picture when a new class possesses the 'IS A' relationship with an existing class. E.g Student is a person. Hence person is the base class and student is derived class."
   ]
  },
  {
   "cell_type": "code",
   "execution_count": 8,
   "metadata": {},
   "outputs": [
    {
     "name": "stdout",
     "output_type": "stream",
     "text": [
      "Student Details\n",
      "---------------\n",
      "Name:\n",
      "Age:\n",
      "Gender:\n",
      "Studentid:\n",
      "Fees:\n",
      "\n",
      "Employee Details\n",
      "---------------\n",
      "Name:\n",
      "Age:\n",
      "Gender:\n",
      "Employee ID :- 456\n",
      "Salary :- 80000\n"
     ]
    }
   ],
   "source": [
    "# create base class\n",
    "class Person:\n",
    "    def __init__(self, name, age, gender):\n",
    "        self.name = name\n",
    "        self.age = age\n",
    "        self.gender = gender\n",
    "    def personinfo(self):\n",
    "        print('Name:'.format(self.name))\n",
    "        print('Age:'.format(self.age))\n",
    "        print('Gender:'.format(self.gender))\n",
    "    \n",
    "        \n",
    "class Student(Person): # Derived class\n",
    "    def __init__(self,name,age,gender, studentid, fees):\n",
    "        Person.__init__(self, name, age, gender)\n",
    "        self.studentid = studentid\n",
    "        self.fees = fees\n",
    "        \n",
    "    def Studentinfo(self):\n",
    "        print('Studentid:'.format(self.studentid))\n",
    "        print('Fees:'.format(self.fees))\n",
    "\n",
    "class teacher(Person): # Child Class\n",
    "    def __init__(self,name,age,gender,empid,salary):\n",
    "        Person.__init__(self,name,age,gender)\n",
    "        self.empid = empid\n",
    "        self.salary = salary\n",
    "    def TeacherInfo(self):\n",
    "        print('Employee ID :- {}'.format(self.empid))\n",
    "        print('Salary :- {}'.format(self.salary))\n",
    "        \n",
    "        \n",
    "        \n",
    "stud1 = Student('Rohit',27,'Male',210,3000)\n",
    "print('Student Details')\n",
    "print('---------------')\n",
    "stud1.personinfo()\n",
    "stud1.Studentinfo()\n",
    "print()\n",
    "\n",
    "\n",
    "teacher1 = teacher('Basit' , 36 , 'Male' , 456 , 80000)\n",
    "print('Employee Details')\n",
    "print('---------------')\n",
    "teacher1.personinfo() # PersonInfo() method presnt in Parent Class will be accessible by child class\n",
    "teacher1.TeacherInfo()\n",
    "        "
   ]
  },
  {
   "cell_type": "code",
   "execution_count": 9,
   "metadata": {},
   "outputs": [
    {
     "name": "stdout",
     "output_type": "stream",
     "text": [
      "Name :- Rohit\n",
      "Age :- 24\n",
      "Gender :- Male\n",
      "Student ID :- 123\n",
      "Fees :- 1200\n"
     ]
    }
   ],
   "source": [
    "# super() builtin function allows us to access methods of the base class.\n",
    "class person: # Parent Class\n",
    "    def __init__(self, name , age , gender):\n",
    "        self.name = name\n",
    "        self.age = age\n",
    "        self.gender = gender\n",
    "    def PersonInfo(self):\n",
    "        print('Name :- {}'.format(self.name))\n",
    "        print('Age :- {}'.format(self.age))\n",
    "        print('Gender :- {}'.format(self.gender))\n",
    "class student(person): # Child Class\n",
    "    def __init__(self,name,age,gender,studentid,fees):\n",
    "        super().__init__(name,age,gender)\n",
    "        self.studentid = studentid\n",
    "        self.fees = fees\n",
    "    def StudentInfo(self):\n",
    "        super().PersonInfo()\n",
    "        print('Student ID :- {}'.format(self.studentid))\n",
    "        print('Fees :- {}'.format(self.fees))\n",
    "stud = student('Rohit' , 24 , 'Male' , 123 , 1200)\n",
    "stud.StudentInfo()"
   ]
  },
  {
   "cell_type": "markdown",
   "metadata": {},
   "source": [
    "## Multi-level Inheritance "
   ]
  },
  {
   "cell_type": "markdown",
   "metadata": {},
   "source": [
    "- In this type of inheritance, a class can inherit from a child class or derived class.\n",
    "- Multilever inheritance can be of any depth in Python"
   ]
  },
  {
   "cell_type": "code",
   "execution_count": 10,
   "metadata": {},
   "outputs": [
    {
     "name": "stdout",
     "output_type": "stream",
     "text": [
      "Name :- Awya\n",
      "Age :- 36\n",
      "Gender :- Male\n",
      "Employee ID :- 456\n",
      "Salary :- 80000\n",
      "Contract Expiry :- 21-12-2021\n",
      "Contractual Employee Details\n",
      "****************************\n",
      "\n",
      " \n",
      "\n",
      "Fulltime Employee Details\n",
      "****************************\n",
      "Name :- Rohit\n",
      "Age :- 22\n",
      "Gender :- Male\n",
      "Employee ID :- 567\n",
      "Salary :- 70000\n",
      "Work Experience :- 12\n"
     ]
    }
   ],
   "source": [
    "class person: # Parent Class\n",
    "    def __init__(self, name , age , gender):\n",
    "        self.name = name\n",
    "        self.age = age\n",
    "        self.gender = gender\n",
    "    def PersonInfo(self):\n",
    "        print('Name :- {}'.format(self.name))\n",
    "        print('Age :- {}'.format(self.age))\n",
    "        print('Gender :- {}'.format(self.gender))\n",
    "class employee(person): # Child Class\n",
    "    def __init__(self,name,age,gender,empid,salary):\n",
    "        person.__init__(self,name,age,gender)\n",
    "        self.empid = empid\n",
    "        self.salary = salary\n",
    "    def employeeInfo(self):\n",
    "        print('Employee ID :- {}'.format(self.empid))\n",
    "        print('Salary :- {}'.format(self.salary))\n",
    "class fulltime(employee): # Grand Child Class\n",
    "    def __init__(self,name,age,gender,empid,salary,WorkExperience):\n",
    "        employee.__init__(self,name,age,gender,empid,salary)\n",
    "        self.WorkExperience = WorkExperience\n",
    "    def FulltimeInfo(self):\n",
    "        print('Work Experience :- {}'.format(self.WorkExperience))\n",
    "class contractual(employee): # Grand Child Class\n",
    "    def __init__(self,name,age,gender,empid,salary,ContractExpiry):\n",
    "        employee.__init__(self,name,age,gender,empid,salary)\n",
    "        self.ContractExpiry = ContractExpiry\n",
    "    def ContractInfo(self):\n",
    "        print('Contract Expiry :- {}'.format(self.ContractExpiry))\n",
    "        print('Contractual Employee Details')\n",
    "        print('****************************')\n",
    "contract1 = contractual('Awya' , 36 , 'Male' , 456 , 80000,'21-12-2021')\n",
    "contract1.PersonInfo()\n",
    "contract1.employeeInfo()\n",
    "contract1.ContractInfo()\n",
    "print('\\n \\n')\n",
    "print('Fulltime Employee Details')\n",
    "print('****************************')\n",
    "fulltim1= fulltime('Rohit' , 22 , 'Male' , 567 , 70000, 12)\n",
    "fulltim1.PersonInfo()\n",
    "fulltim1.employeeInfo()\n",
    "fulltim1.FulltimeInfo()"
   ]
  },
  {
   "cell_type": "markdown",
   "metadata": {},
   "source": [
    "## Multiple Inheritance "
   ]
  },
  {
   "cell_type": "markdown",
   "metadata": {},
   "source": [
    "- Multiple inheritance is a feature in which a class (derived class) can inherit attributes and methods from more than one parent class.\n",
    "- The derived class inherits all the features of the base case."
   ]
  },
  {
   "cell_type": "code",
   "execution_count": 11,
   "metadata": {},
   "outputs": [
    {
     "name": "stdout",
     "output_type": "stream",
     "text": [
      "My Name :-  Rushi\n",
      "Father : Anil\n",
      "Mother : Laxmi\n"
     ]
    }
   ],
   "source": [
    "# Super Class\n",
    "class Father:\n",
    "    def __init__(self):\n",
    "        self.fathername = str()\n",
    "# Super Class\n",
    "class Mother:\n",
    "    def __init__(self):\n",
    "        self.mothername = str()\n",
    "# Sub Class\n",
    "class Son(Father, Mother):\n",
    "    name = str()\n",
    "    def show(self):\n",
    "        print('My Name :- ',self.name)\n",
    "        print(\"Father :\", self.fathername)\n",
    "        print(\"Mother :\", self.mothername)\n",
    "s1 = Son()\n",
    "s1.name = 'Rushi'\n",
    "s1.fathername = \"Anil\"\n",
    "s1.mothername = \"Laxmi\"\n",
    "s1.show()"
   ]
  },
  {
   "cell_type": "code",
   "execution_count": 12,
   "metadata": {},
   "outputs": [
    {
     "name": "stdout",
     "output_type": "stream",
     "text": [
      "2020-08-09 23:48:55\n"
     ]
    }
   ],
   "source": [
    "class Date:\n",
    "    def __init__(self,date):\n",
    "        self.date = date\n",
    "class Time:\n",
    "    def __init__(self,time):\n",
    "        self.time = time\n",
    "class timestamp(Date,Time):\n",
    "    def __init__(self,date,time):\n",
    "        Date.__init__(self,date)\n",
    "        Time.__init__(self,time)\n",
    "        DateTime = self.date + ' ' + self.time\n",
    "        print(DateTime)\n",
    "datetime1 = timestamp( '2020-08-09', '23:48:55')"
   ]
  },
  {
   "cell_type": "markdown",
   "metadata": {},
   "source": [
    "## Method Overriding "
   ]
  },
  {
   "cell_type": "markdown",
   "metadata": {},
   "source": [
    "- Overriding is a very important part of object oreinted programming because it makes inheritance exploit its full power.\n",
    "- Overriding is the ability of a class (Sub Class / Child Class / Derived Class) to change the implementation of a method provided by one of its parent classes.\n",
    "- When a method in a subclass has the same name, same parameter and same return type as a method in its super-class, then the method in the subclass is said to override the method in the super-class.\n",
    "- The version of a method that is executed will be determined by the object that is used to invoke it.\n",
    "- If an object of a parent class is used to invoke the method, then the version in the parent class will be executed, but if an object of the subclass is used to invoke the method, then the version in the child class will be executed."
   ]
  },
  {
   "cell_type": "code",
   "execution_count": 13,
   "metadata": {},
   "outputs": [
    {
     "name": "stdout",
     "output_type": "stream",
     "text": [
      "Hello Student\n",
      "Hello Person\n"
     ]
    }
   ],
   "source": [
    "class person: # Parent Class\n",
    "    def __init__(self, name , age , gender):\n",
    "        self.name = name\n",
    "        self.age = age\n",
    "        self.gender = gender\n",
    "    def greet(self):\n",
    "        print(\"Hello Person\")\n",
    "class student(person): # Child Class\n",
    "    def __init__(self,name,age,gender,studentid,fees):\n",
    "        person.__init__(self,name,age,gender)\n",
    "        self.studentid = studentid\n",
    "        self.fees = fees\n",
    "    def greet(self):\n",
    "        print(\"Hello Student\")\n",
    "stud = student('Gabriel' , 56 , 'Male' , 45 , 345678)\n",
    "stud.greet() # greet() method defined in subclass will be triggered as \"stud\" is an object of child class\n",
    "\n",
    "person1 = person('Gabriel' , 56 , 'Male')\n",
    "person1.greet() # greet() method defined in superclass will be triggered because \"person1\" is an object of parent class"
   ]
  },
  {
   "cell_type": "code",
   "execution_count": null,
   "metadata": {
    "collapsed": true
   },
   "outputs": [],
   "source": []
  }
 ],
 "metadata": {
  "kernelspec": {
   "display_name": "Python 3",
   "language": "python",
   "name": "python3"
  },
  "language_info": {
   "codemirror_mode": {
    "name": "ipython",
    "version": 3
   },
   "file_extension": ".py",
   "mimetype": "text/x-python",
   "name": "python",
   "nbconvert_exporter": "python",
   "pygments_lexer": "ipython3",
   "version": "3.6.3"
  }
 },
 "nbformat": 4,
 "nbformat_minor": 2
}
