{
 "cells": [
  {
   "cell_type": "markdown",
   "metadata": {},
   "source": [
    "## Numpy"
   ]
  },
  {
   "cell_type": "markdown",
   "metadata": {},
   "source": [
    "1. Python NumPy is a general-purpose array processing package which provides tools for handling the n-dimensional arrays. \n",
    "2. It provides various computing tools such as comprehensive mathematical functions, linear algebra routines. \n",
    "3. NumPy provides both the flexibility of Python and the speed of well-optimized compiled C code. \n",
    "4. It’s easy to use syntax makes it highly accessible and productive for programmers from any background."
   ]
  },
  {
   "cell_type": "code",
   "execution_count": 1,
   "metadata": {
    "collapsed": true
   },
   "outputs": [],
   "source": [
    "# To install numpy \n",
    "# pip install numpy"
   ]
  },
  {
   "cell_type": "code",
   "execution_count": 2,
   "metadata": {
    "collapsed": true
   },
   "outputs": [],
   "source": [
    "# Import numpy library\n",
    "import numpy as np"
   ]
  },
  {
   "cell_type": "code",
   "execution_count": 4,
   "metadata": {
    "collapsed": true
   },
   "outputs": [],
   "source": [
    "# Creating numpy array object\n",
    "arr = np.array( [[ 1, 2, 3],\n",
    "                 [ 4, 2, 5]] )"
   ]
  },
  {
   "cell_type": "code",
   "execution_count": 6,
   "metadata": {},
   "outputs": [
    {
     "data": {
      "text/plain": [
       "numpy.ndarray"
      ]
     },
     "execution_count": 6,
     "metadata": {},
     "output_type": "execute_result"
    }
   ],
   "source": [
    "type(arr)  # type of numpy array object"
   ]
  },
  {
   "cell_type": "code",
   "execution_count": 7,
   "metadata": {},
   "outputs": [
    {
     "data": {
      "text/plain": [
       "2"
      ]
     },
     "execution_count": 7,
     "metadata": {},
     "output_type": "execute_result"
    }
   ],
   "source": [
    "arr.ndim"
   ]
  },
  {
   "cell_type": "code",
   "execution_count": 8,
   "metadata": {},
   "outputs": [
    {
     "data": {
      "text/plain": [
       "(2, 3)"
      ]
     },
     "execution_count": 8,
     "metadata": {},
     "output_type": "execute_result"
    }
   ],
   "source": [
    "arr.shape"
   ]
  },
  {
   "cell_type": "code",
   "execution_count": 9,
   "metadata": {},
   "outputs": [
    {
     "data": {
      "text/plain": [
       "6"
      ]
     },
     "execution_count": 9,
     "metadata": {},
     "output_type": "execute_result"
    }
   ],
   "source": [
    "arr.size"
   ]
  },
  {
   "cell_type": "code",
   "execution_count": 10,
   "metadata": {},
   "outputs": [
    {
     "data": {
      "text/plain": [
       "dtype('int32')"
      ]
     },
     "execution_count": 10,
     "metadata": {},
     "output_type": "execute_result"
    }
   ],
   "source": [
    "arr.dtype"
   ]
  },
  {
   "cell_type": "code",
   "execution_count": 11,
   "metadata": {},
   "outputs": [
    {
     "name": "stdout",
     "output_type": "stream",
     "text": [
      "Array created using passed list:\n",
      " [[1. 2. 4.]\n",
      " [5. 8. 7.]]\n"
     ]
    }
   ],
   "source": [
    "# Creating array from list with type float\n",
    "a = np.array([[1, 2, 4], [5, 8, 7]], dtype = 'float')\n",
    "print (\"Array created using passed list:\\n\", a)"
   ]
  },
  {
   "cell_type": "code",
   "execution_count": 12,
   "metadata": {},
   "outputs": [
    {
     "name": "stdout",
     "output_type": "stream",
     "text": [
      "\n",
      "Array created using passed tuple:\n",
      " [1 3 2]\n"
     ]
    }
   ],
   "source": [
    "# Creating array from tuple\n",
    "b = np.array((1 , 3, 2))\n",
    "print (\"\\nArray created using passed tuple:\\n\", b)"
   ]
  },
  {
   "cell_type": "code",
   "execution_count": 13,
   "metadata": {
    "collapsed": true
   },
   "outputs": [],
   "source": [
    "c = np.zeros((3,4))"
   ]
  },
  {
   "cell_type": "code",
   "execution_count": 14,
   "metadata": {},
   "outputs": [
    {
     "data": {
      "text/plain": [
       "array([[0., 0., 0., 0.],\n",
       "       [0., 0., 0., 0.],\n",
       "       [0., 0., 0., 0.]])"
      ]
     },
     "execution_count": 14,
     "metadata": {},
     "output_type": "execute_result"
    }
   ],
   "source": [
    "c"
   ]
  },
  {
   "cell_type": "code",
   "execution_count": 17,
   "metadata": {
    "collapsed": true
   },
   "outputs": [],
   "source": [
    "d = np.full((3,4),6,dtype='int') # Constant value array with dtype"
   ]
  },
  {
   "cell_type": "code",
   "execution_count": 18,
   "metadata": {},
   "outputs": [
    {
     "data": {
      "text/plain": [
       "array([[6, 6, 6, 6],\n",
       "       [6, 6, 6, 6],\n",
       "       [6, 6, 6, 6]])"
      ]
     },
     "execution_count": 18,
     "metadata": {},
     "output_type": "execute_result"
    }
   ],
   "source": [
    "d"
   ]
  },
  {
   "cell_type": "code",
   "execution_count": 19,
   "metadata": {
    "collapsed": true
   },
   "outputs": [],
   "source": [
    "e = np.full((3,4),6,dtype='float')"
   ]
  },
  {
   "cell_type": "code",
   "execution_count": 20,
   "metadata": {},
   "outputs": [
    {
     "data": {
      "text/plain": [
       "array([[6., 6., 6., 6.],\n",
       "       [6., 6., 6., 6.],\n",
       "       [6., 6., 6., 6.]])"
      ]
     },
     "execution_count": 20,
     "metadata": {},
     "output_type": "execute_result"
    }
   ],
   "source": [
    "e"
   ]
  },
  {
   "cell_type": "code",
   "execution_count": 21,
   "metadata": {
    "collapsed": true
   },
   "outputs": [],
   "source": [
    "f = np.full((3,4),6,dtype='complex')"
   ]
  },
  {
   "cell_type": "code",
   "execution_count": 22,
   "metadata": {},
   "outputs": [
    {
     "data": {
      "text/plain": [
       "array([[6.+0.j, 6.+0.j, 6.+0.j, 6.+0.j],\n",
       "       [6.+0.j, 6.+0.j, 6.+0.j, 6.+0.j],\n",
       "       [6.+0.j, 6.+0.j, 6.+0.j, 6.+0.j]])"
      ]
     },
     "execution_count": 22,
     "metadata": {},
     "output_type": "execute_result"
    }
   ],
   "source": [
    "f"
   ]
  },
  {
   "cell_type": "code",
   "execution_count": 23,
   "metadata": {
    "collapsed": true
   },
   "outputs": [],
   "source": [
    "g = np.random.random((3,3)) # an array with random values"
   ]
  },
  {
   "cell_type": "code",
   "execution_count": 24,
   "metadata": {},
   "outputs": [
    {
     "data": {
      "text/plain": [
       "array([[0.83039418, 0.5187514 , 0.29744542],\n",
       "       [0.45944665, 0.79074908, 0.12459181],\n",
       "       [0.36957142, 0.16108351, 0.06858605]])"
      ]
     },
     "execution_count": 24,
     "metadata": {},
     "output_type": "execute_result"
    }
   ],
   "source": [
    "g"
   ]
  },
  {
   "cell_type": "code",
   "execution_count": 29,
   "metadata": {},
   "outputs": [],
   "source": [
    "h = np.linspace(0,6,10)  # sequence of 10 values in range 0 to 6"
   ]
  },
  {
   "cell_type": "code",
   "execution_count": 30,
   "metadata": {},
   "outputs": [
    {
     "data": {
      "text/plain": [
       "array([0.        , 0.66666667, 1.33333333, 2.        , 2.66666667,\n",
       "       3.33333333, 4.        , 4.66666667, 5.33333333, 6.        ])"
      ]
     },
     "execution_count": 30,
     "metadata": {},
     "output_type": "execute_result"
    }
   ],
   "source": [
    "h"
   ]
  },
  {
   "cell_type": "code",
   "execution_count": 32,
   "metadata": {},
   "outputs": [],
   "source": [
    "newarr = arr.reshape(1,2,3)"
   ]
  },
  {
   "cell_type": "code",
   "execution_count": 33,
   "metadata": {},
   "outputs": [
    {
     "data": {
      "text/plain": [
       "array([[[1, 2, 3],\n",
       "        [4, 2, 5]]])"
      ]
     },
     "execution_count": 33,
     "metadata": {},
     "output_type": "execute_result"
    }
   ],
   "source": [
    "newarr"
   ]
  },
  {
   "cell_type": "code",
   "execution_count": 35,
   "metadata": {},
   "outputs": [
    {
     "data": {
      "text/plain": [
       "3"
      ]
     },
     "execution_count": 35,
     "metadata": {},
     "output_type": "execute_result"
    }
   ],
   "source": [
    "newarr.ndim"
   ]
  },
  {
   "cell_type": "code",
   "execution_count": 36,
   "metadata": {},
   "outputs": [
    {
     "data": {
      "text/plain": [
       "2"
      ]
     },
     "execution_count": 36,
     "metadata": {},
     "output_type": "execute_result"
    }
   ],
   "source": [
    "arr.ndim"
   ]
  },
  {
   "cell_type": "code",
   "execution_count": 38,
   "metadata": {},
   "outputs": [],
   "source": [
    "flarr = arr.flatten()"
   ]
  },
  {
   "cell_type": "code",
   "execution_count": 39,
   "metadata": {},
   "outputs": [
    {
     "data": {
      "text/plain": [
       "array([1, 2, 3, 4, 2, 5])"
      ]
     },
     "execution_count": 39,
     "metadata": {},
     "output_type": "execute_result"
    }
   ],
   "source": [
    "flarr"
   ]
  },
  {
   "cell_type": "code",
   "execution_count": 40,
   "metadata": {},
   "outputs": [
    {
     "data": {
      "text/plain": [
       "list"
      ]
     },
     "execution_count": 40,
     "metadata": {},
     "output_type": "execute_result"
    }
   ],
   "source": [
    "lst = [1,2,3,4]\n",
    "type(lst)"
   ]
  },
  {
   "cell_type": "code",
   "execution_count": 41,
   "metadata": {
    "collapsed": true
   },
   "outputs": [],
   "source": [
    "sample_narr = np.array(lst)"
   ]
  },
  {
   "cell_type": "code",
   "execution_count": 42,
   "metadata": {},
   "outputs": [
    {
     "data": {
      "text/plain": [
       "numpy.ndarray"
      ]
     },
     "execution_count": 42,
     "metadata": {},
     "output_type": "execute_result"
    }
   ],
   "source": [
    "type(sample_narr)"
   ]
  },
  {
   "cell_type": "code",
   "execution_count": 43,
   "metadata": {},
   "outputs": [
    {
     "name": "stdout",
     "output_type": "stream",
     "text": [
      "Numpy multi dimensional array in python\n",
      " [[ 1  2  3  4]\n",
      " [ 5  6  7  8]\n",
      " [ 9 10 11 12]]\n"
     ]
    }
   ],
   "source": [
    "# creating list \n",
    "list_1 = [1, 2, 3, 4]\n",
    "list_2 = [5, 6, 7, 8]\n",
    "list_3 = [9, 10, 11, 12]\n",
    "  \n",
    "# creating numpy array\n",
    "sample_array = np.array([list_1, \n",
    "                         list_2,\n",
    "                         list_3])\n",
    "  \n",
    "print(\"Numpy multi dimensional array in python\\n\",\n",
    "      sample_array)"
   ]
  },
  {
   "cell_type": "code",
   "execution_count": 44,
   "metadata": {},
   "outputs": [
    {
     "data": {
      "text/plain": [
       "2"
      ]
     },
     "execution_count": 44,
     "metadata": {},
     "output_type": "execute_result"
    }
   ],
   "source": [
    "sample_array.ndim"
   ]
  },
  {
   "cell_type": "code",
   "execution_count": 45,
   "metadata": {},
   "outputs": [
    {
     "data": {
      "text/plain": [
       "(3, 4)"
      ]
     },
     "execution_count": 45,
     "metadata": {},
     "output_type": "execute_result"
    }
   ],
   "source": [
    "sample_array.shape"
   ]
  },
  {
   "cell_type": "code",
   "execution_count": 46,
   "metadata": {
    "collapsed": true
   },
   "outputs": [],
   "source": [
    "iterable = (i for i in range(10))"
   ]
  },
  {
   "cell_type": "code",
   "execution_count": 47,
   "metadata": {},
   "outputs": [
    {
     "data": {
      "text/plain": [
       "<generator object <genexpr> at 0x000001F157027518>"
      ]
     },
     "execution_count": 47,
     "metadata": {},
     "output_type": "execute_result"
    }
   ],
   "source": [
    "iterable"
   ]
  },
  {
   "cell_type": "code",
   "execution_count": 49,
   "metadata": {},
   "outputs": [],
   "source": [
    "arr = np.fromiter(iterable,int)"
   ]
  },
  {
   "cell_type": "code",
   "execution_count": 50,
   "metadata": {},
   "outputs": [
    {
     "data": {
      "text/plain": [
       "array([0, 1, 2, 3, 4, 5, 6, 7, 8, 9])"
      ]
     },
     "execution_count": 50,
     "metadata": {},
     "output_type": "execute_result"
    }
   ],
   "source": [
    "arr"
   ]
  },
  {
   "cell_type": "code",
   "execution_count": 51,
   "metadata": {
    "collapsed": true
   },
   "outputs": [],
   "source": [
    "arr = np.arange(1,20,2,dtype='float')"
   ]
  },
  {
   "cell_type": "code",
   "execution_count": 52,
   "metadata": {},
   "outputs": [
    {
     "data": {
      "text/plain": [
       "array([ 1.,  3.,  5.,  7.,  9., 11., 13., 15., 17., 19.])"
      ]
     },
     "execution_count": 52,
     "metadata": {},
     "output_type": "execute_result"
    }
   ],
   "source": [
    "arr"
   ]
  },
  {
   "cell_type": "code",
   "execution_count": 56,
   "metadata": {},
   "outputs": [],
   "source": [
    "arr_empty = np.empty((3,4)) # empty array"
   ]
  },
  {
   "cell_type": "code",
   "execution_count": 57,
   "metadata": {},
   "outputs": [
    {
     "data": {
      "text/plain": [
       "array([[0., 0., 0., 0.],\n",
       "       [0., 0., 0., 0.],\n",
       "       [0., 0., 0., 0.]])"
      ]
     },
     "execution_count": 57,
     "metadata": {},
     "output_type": "execute_result"
    }
   ],
   "source": [
    "arr_empty"
   ]
  },
  {
   "cell_type": "code",
   "execution_count": 58,
   "metadata": {
    "collapsed": true
   },
   "outputs": [],
   "source": [
    "arr_1 = np.ones((3,4),dtype='float') # numpy array with all 1"
   ]
  },
  {
   "cell_type": "code",
   "execution_count": 59,
   "metadata": {},
   "outputs": [
    {
     "data": {
      "text/plain": [
       "array([[1., 1., 1., 1.],\n",
       "       [1., 1., 1., 1.],\n",
       "       [1., 1., 1., 1.]])"
      ]
     },
     "execution_count": 59,
     "metadata": {},
     "output_type": "execute_result"
    }
   ],
   "source": [
    "arr_1"
   ]
  },
  {
   "cell_type": "markdown",
   "metadata": {},
   "source": [
    "### Python Lists vs Numpy arrays"
   ]
  },
  {
   "cell_type": "code",
   "execution_count": 60,
   "metadata": {},
   "outputs": [
    {
     "name": "stdout",
     "output_type": "stream",
     "text": [
      "size of each element in bytes 48\n",
      "Size of the whole list in bytes:  48000\n"
     ]
    }
   ],
   "source": [
    "import sys\n",
    "\n",
    "S = range(1000)\n",
    "\n",
    "print('size of each element in bytes', sys.getsizeof(S))\n",
    "print(\"Size of the whole list in bytes: \",sys.getsizeof(S)*len(S))"
   ]
  },
  {
   "cell_type": "code",
   "execution_count": 61,
   "metadata": {},
   "outputs": [
    {
     "name": "stdout",
     "output_type": "stream",
     "text": [
      "Size of each element of the Numpy array in bytes:  4\n",
      "Size of the whole Numpy array in bytes:  4000\n"
     ]
    }
   ],
   "source": [
    "D= np.arange(1000)\n",
    "\n",
    "print(\"Size of each element of the Numpy array in bytes: \",D.itemsize)\n",
    "print(\"Size of the whole Numpy array in bytes: \",D.size*D.itemsize)"
   ]
  },
  {
   "cell_type": "code",
   "execution_count": 63,
   "metadata": {},
   "outputs": [
    {
     "name": "stdout",
     "output_type": "stream",
     "text": [
      "Time taken by Lists to perform multiplication: 1.991243839263916 seconds\n",
      "Time taken by NumPy Arrays to perform multiplication: 0.0 seconds\n"
     ]
    }
   ],
   "source": [
    "import time\n",
    "\n",
    "size = 10000000\n",
    "list1 = range(size)\n",
    "list2 = range(size)\n",
    "\n",
    "nparray1 = np.array(size)\n",
    "nparray2 = np.array(size)\n",
    "\n",
    "initialTime = time.time()\n",
    "  \n",
    "# multiplying  elements of both the lists and stored in another list\n",
    "resultantList = [(a * b) for a, b in zip(list1, list2)]\n",
    "   \n",
    "# calculating execution time\n",
    "print(\"Time taken by Lists to perform multiplication:\", \n",
    "      (time.time() - initialTime),\n",
    "      \"seconds\")\n",
    "\n",
    "# capturing time before the multiplication of Numpy arrays\n",
    "initialTime = time.time()\n",
    "  \n",
    "# multiplying  elements of both the Numpy arrays and stored in another Numpy array \n",
    "resultantArray = nparray1 * nparray2\n",
    "   \n",
    "# calculating execution time \n",
    "print(\"Time taken by NumPy Arrays to perform multiplication:\",\n",
    "      (time.time() - initialTime),\n",
    "      \"seconds\")"
   ]
  },
  {
   "cell_type": "code",
   "execution_count": 65,
   "metadata": {},
   "outputs": [
    {
     "name": "stdout",
     "output_type": "stream",
     "text": [
      "List don't support list+4\n",
      "Modified arr:  [5 6 7]\n"
     ]
    }
   ],
   "source": [
    "ls = [1,2,3]\n",
    "\n",
    "arr = np.array([1,2,3])\n",
    "\n",
    "try:\n",
    "    ls = ls + 4\n",
    "except(TypeError):\n",
    "    print(\"List don't support list+4\")\n",
    "\n",
    "try:\n",
    "    arr = arr + 4\n",
    "    print('Modified arr: ',arr)\n",
    "except(TypeError):\n",
    "    print(\"Numpy array don't support arr+4\")\n",
    "    "
   ]
  },
  {
   "cell_type": "code",
   "execution_count": 66,
   "metadata": {},
   "outputs": [
    {
     "name": "stdout",
     "output_type": "stream",
     "text": [
      "int32\n"
     ]
    }
   ],
   "source": [
    "print(np.dtype(np.int32))"
   ]
  },
  {
   "cell_type": "code",
   "execution_count": 68,
   "metadata": {},
   "outputs": [
    {
     "name": "stdout",
     "output_type": "stream",
     "text": [
      "array('i', [1, 2, 3])\n"
     ]
    }
   ],
   "source": [
    "# Array creation using array function\n",
    "\n",
    "import array\n",
    "\n",
    "arr = array.array('i', [1,2,3])\n",
    "\n",
    "print(arr)"
   ]
  },
  {
   "cell_type": "code",
   "execution_count": 70,
   "metadata": {},
   "outputs": [
    {
     "name": "stdout",
     "output_type": "stream",
     "text": [
      "1 2 3 "
     ]
    }
   ],
   "source": [
    "for i in range(3):\n",
    "    print(arr[i],end=' ')"
   ]
  },
  {
   "cell_type": "code",
   "execution_count": 71,
   "metadata": {},
   "outputs": [
    {
     "name": "stdout",
     "output_type": "stream",
     "text": [
      "[-2.27995932e-116 -2.55140707e-014]\n",
      "[[-431182737  669826887]\n",
      " [ 554132518 1025292782]]\n",
      "[[1353561568        497          0]\n",
      " [         0    7471201    3014770]\n",
      " [   6553710          0          0]]\n"
     ]
    }
   ],
   "source": [
    "a = np.empty(2)\n",
    "print(a)\n",
    "b = np.empty((2,2),int)\n",
    "print(b)\n",
    "c = np.empty((3,3),int)\n",
    "print(c)"
   ]
  },
  {
   "cell_type": "code",
   "execution_count": 73,
   "metadata": {
    "collapsed": true
   },
   "outputs": [],
   "source": [
    "a = np.zeros([2,2],int)"
   ]
  },
  {
   "cell_type": "code",
   "execution_count": 74,
   "metadata": {},
   "outputs": [
    {
     "data": {
      "text/plain": [
       "array([[0, 0],\n",
       "       [0, 0]])"
      ]
     },
     "execution_count": 74,
     "metadata": {},
     "output_type": "execute_result"
    }
   ],
   "source": [
    "a"
   ]
  },
  {
   "cell_type": "code",
   "execution_count": 75,
   "metadata": {
    "collapsed": true
   },
   "outputs": [],
   "source": [
    "b = np.eye(2, dtype='float')"
   ]
  },
  {
   "cell_type": "code",
   "execution_count": 76,
   "metadata": {},
   "outputs": [
    {
     "data": {
      "text/plain": [
       "array([[1., 0.],\n",
       "       [0., 1.]])"
      ]
     },
     "execution_count": 76,
     "metadata": {},
     "output_type": "execute_result"
    }
   ],
   "source": [
    "b"
   ]
  },
  {
   "cell_type": "code",
   "execution_count": 77,
   "metadata": {
    "collapsed": true
   },
   "outputs": [],
   "source": [
    "x = np.linspace(-4,4,9)"
   ]
  },
  {
   "cell_type": "code",
   "execution_count": 78,
   "metadata": {},
   "outputs": [
    {
     "data": {
      "text/plain": [
       "array([-4., -3., -2., -1.,  0.,  1.,  2.,  3.,  4.])"
      ]
     },
     "execution_count": 78,
     "metadata": {},
     "output_type": "execute_result"
    }
   ],
   "source": [
    "x"
   ]
  },
  {
   "cell_type": "code",
   "execution_count": 79,
   "metadata": {},
   "outputs": [
    {
     "name": "stdout",
     "output_type": "stream",
     "text": [
      "id of arr:  2136057256336\n",
      "id of nc:  2136057256336\n",
      "[2 4 5 6]\n",
      "[2 4 5 6]\n",
      "[12  4  5  6]\n",
      "[12  4  5  6]\n"
     ]
    }
   ],
   "source": [
    "arr = np.array([2, 4, 5, 6])\n",
    "nc = arr\n",
    "\n",
    "print('id of arr: ',id(arr))\n",
    "print('id of nc: ',id(nc))\n",
    "\n",
    "print(arr)\n",
    "print(nc)\n",
    "nc[0] = 12\n",
    "\n",
    "print(arr)\n",
    "print(nc)"
   ]
  },
  {
   "cell_type": "code",
   "execution_count": 81,
   "metadata": {},
   "outputs": [
    {
     "name": "stdout",
     "output_type": "stream",
     "text": [
      "id of arr:  2136057257296\n",
      "id of nc:  2136057256656\n",
      "[2 4 5 6]\n",
      "[2 4 5 6]\n",
      "[2 4 5 6]\n",
      "[12  4  5  6]\n"
     ]
    }
   ],
   "source": [
    "## array copy\n",
    "\n",
    "arr = np.array([2, 4, 5, 6])\n",
    "nc = arr.copy()\n",
    "\n",
    "print('id of arr: ',id(arr))\n",
    "print('id of nc: ',id(nc))\n",
    "\n",
    "print(arr)\n",
    "print(nc)\n",
    "nc[0] = 12\n",
    "\n",
    "print(arr)\n",
    "print(nc)"
   ]
  },
  {
   "cell_type": "code",
   "execution_count": 82,
   "metadata": {},
   "outputs": [
    {
     "name": "stdout",
     "output_type": "stream",
     "text": [
      "id of arr:  2136057257456\n",
      "id of nc:  2136057257296\n",
      "[2 4 5 6]\n",
      "[2 4 5 6]\n",
      "[12  4  5  6]\n",
      "[12  4  5  6]\n"
     ]
    }
   ],
   "source": [
    "## array view shallow copy\n",
    "\n",
    "arr = np.array([2, 4, 5, 6])\n",
    "nc = arr.view()\n",
    "\n",
    "print('id of arr: ',id(arr))\n",
    "print('id of nc: ',id(nc))\n",
    "\n",
    "print(arr)\n",
    "print(nc)\n",
    "nc[0] = 12\n",
    "\n",
    "print(arr)\n",
    "print(nc)"
   ]
  },
  {
   "cell_type": "code",
   "execution_count": 83,
   "metadata": {},
   "outputs": [
    {
     "name": "stdout",
     "output_type": "stream",
     "text": [
      "id of arr:  2136057257136\n",
      "id of nc:  2136057257856\n",
      "[2 4 5 6]\n",
      "[2 4 5 6]\n",
      "[2 4 5 6]\n",
      "[12  4  5  6]\n"
     ]
    }
   ],
   "source": [
    "## numpy copy\n",
    "\n",
    "arr = np.array([2, 4, 5, 6])\n",
    "nc = np.copy(arr)\n",
    "\n",
    "print('id of arr: ',id(arr))\n",
    "print('id of nc: ',id(nc))\n",
    "\n",
    "print(arr)\n",
    "print(nc)\n",
    "nc[0] = 12\n",
    "\n",
    "print(arr)\n",
    "print(nc)"
   ]
  },
  {
   "cell_type": "code",
   "execution_count": 84,
   "metadata": {},
   "outputs": [
    {
     "name": "stdout",
     "output_type": "stream",
     "text": [
      "Original [2 4 5 6]\n",
      "Modified [2 4 5 6 7]\n"
     ]
    }
   ],
   "source": [
    "## Append value in numpy array\n",
    "\n",
    "print('Original',arr)\n",
    "arr = np.append(arr, [7])\n",
    "print('Modified',arr)"
   ]
  },
  {
   "cell_type": "code",
   "execution_count": 85,
   "metadata": {},
   "outputs": [
    {
     "name": "stdout",
     "output_type": "stream",
     "text": [
      "arr1: [1 2 3]\n",
      "arr2 [4 5 6]\n",
      "arr3 [1 2 3 4 5 6]\n"
     ]
    }
   ],
   "source": [
    "# Append two arrays into a new array\n",
    "\n",
    "arr1 = np.array([1,2,3])\n",
    "arr2 = np.array([4,5,6])\n",
    "arr3 = np.append(arr1,arr2)\n",
    "\n",
    "print('arr1:',arr1)\n",
    "print('arr2',arr2)\n",
    "print('arr3',arr3)"
   ]
  },
  {
   "cell_type": "code",
   "execution_count": 89,
   "metadata": {},
   "outputs": [
    {
     "name": "stdout",
     "output_type": "stream",
     "text": [
      "array before swap columns: \n",
      "[[ 0  1  2]\n",
      " [ 3  4  5]\n",
      " [ 6  7  8]\n",
      " [ 9 10 11]]\n",
      "array afte swap columns: \n",
      "[[ 2  1  0]\n",
      " [ 5  4  3]\n",
      " [ 8  7  6]\n",
      " [11 10  9]]\n"
     ]
    }
   ],
   "source": [
    "# Swapping the columns of the array\n",
    "\n",
    "my_array = np.arange(12).reshape((4,3))\n",
    "\n",
    "print('array before swap columns: ')\n",
    "print(my_array)\n",
    "my_array[:,[0,2]] = my_array[:,[2,0]]\n",
    "print('array afte swap columns: ')\n",
    "print(my_array)"
   ]
  },
  {
   "cell_type": "code",
   "execution_count": 102,
   "metadata": {},
   "outputs": [
    {
     "name": "stdout",
     "output_type": "stream",
     "text": [
      "(5, 5)\n",
      "(1, 5, 5, 1, 1)\n"
     ]
    }
   ],
   "source": [
    "# Add new axis to array\n",
    "\n",
    "arr = np.arange(5*5).reshape(5,5)\n",
    "print(arr.shape)\n",
    "\n",
    "arr_5d = arr[np.newaxis, ..., np.newaxis, np.newaxis]\n",
    "print(arr_5d.shape)"
   ]
  },
  {
   "cell_type": "code",
   "execution_count": 103,
   "metadata": {},
   "outputs": [
    {
     "name": "stdout",
     "output_type": "stream",
     "text": [
      "(3, 1, 4)\n"
     ]
    }
   ],
   "source": [
    "# extend_dims of the array \n",
    "x = np.zeros((3, 4))\n",
    "y = np.expand_dims(x, axis=1).shape\n",
    "print(y)"
   ]
  },
  {
   "cell_type": "code",
   "execution_count": 105,
   "metadata": {},
   "outputs": [
    {
     "name": "stdout",
     "output_type": "stream",
     "text": [
      "(5, 5)\n",
      "(1, 5, 5, 1, 1)\n"
     ]
    }
   ],
   "source": [
    "# extend dims of the array\n",
    "arr = np.arange(5*5).reshape(5,5)\n",
    "print(arr.shape)\n",
    "  \n",
    "newaxes = (0, 3, -1)\n",
    "arr_5D = np.expand_dims(arr, axis=newaxes)\n",
    "print(arr_5D.shape)"
   ]
  },
  {
   "cell_type": "code",
   "execution_count": 107,
   "metadata": {},
   "outputs": [
    {
     "name": "stdout",
     "output_type": "stream",
     "text": [
      "1st Input array : \n",
      " [1 2 3]\n",
      "2nd Input array : \n",
      " [4 5 6]\n",
      "Output horizontally stacked array:\n",
      "  [1 2 3 4 5 6]\n"
     ]
    }
   ],
   "source": [
    "# input array\n",
    "in_arr1 = np.array([ 1, 2, 3] )\n",
    "print (\"1st Input array : \\n\", in_arr1) \n",
    "  \n",
    "in_arr2 = np.array([ 4, 5, 6] )\n",
    "print (\"2nd Input array : \\n\", in_arr2) \n",
    "  \n",
    "# Stacking the two arrays horizontally\n",
    "out_arr = np.hstack((in_arr1, in_arr2))\n",
    "print (\"Output horizontally stacked array:\\n \", out_arr)"
   ]
  },
  {
   "cell_type": "code",
   "execution_count": 108,
   "metadata": {},
   "outputs": [
    {
     "name": "stdout",
     "output_type": "stream",
     "text": [
      "1st Input array : \n",
      " [1 2 3]\n",
      "2nd Input array : \n",
      " [4 5 6]\n",
      "Output horizontally stacked array:\n",
      "  [[1 2 3]\n",
      " [4 5 6]]\n"
     ]
    }
   ],
   "source": [
    "# input array\n",
    "in_arr1 = np.array([ 1, 2, 3] )\n",
    "print (\"1st Input array : \\n\", in_arr1) \n",
    "  \n",
    "in_arr2 = np.array([ 4, 5, 6] )\n",
    "print (\"2nd Input array : \\n\", in_arr2) \n",
    "  \n",
    "# Stacking the two arrays vertically\n",
    "out_arr = np.vstack((in_arr1, in_arr2))\n",
    "print (\"Output horizontally stacked array:\\n \", out_arr)"
   ]
  },
  {
   "cell_type": "code",
   "execution_count": 109,
   "metadata": {},
   "outputs": [
    {
     "name": "stdout",
     "output_type": "stream",
     "text": [
      "[1 2 3 4]\n"
     ]
    }
   ],
   "source": [
    "#Concatenate arrays\n",
    "array_1 = np.array([1, 2])\n",
    "array_2 = np.array([3, 4])\n",
    "  \n",
    "array_new = np.concatenate((array_1, array_2))\n",
    "print(array_new)"
   ]
  },
  {
   "cell_type": "code",
   "execution_count": 110,
   "metadata": {},
   "outputs": [
    {
     "name": "stdout",
     "output_type": "stream",
     "text": [
      "[[1 2 5 6]\n",
      " [3 4 7 8]]\n"
     ]
    }
   ],
   "source": [
    "# Concatenate arrays on axis\n",
    "array_1 = np.array([[1, 2], [3, 4]])\n",
    "array_2 = np.array([[5, 6], [7, 8]])\n",
    "  \n",
    "array_new = np.concatenate((array_1, array_2), axis=1)\n",
    "print(array_new)"
   ]
  },
  {
   "cell_type": "code",
   "execution_count": 111,
   "metadata": {},
   "outputs": [
    {
     "name": "stdout",
     "output_type": "stream",
     "text": [
      "[[[1 4]\n",
      "  [2 5]\n",
      "  [3 6]]]\n"
     ]
    }
   ],
   "source": [
    "gfg1 = np.array([1, 2, 3])\n",
    "gfg2 = np.array([4, 5, 6])\n",
    "  \n",
    "# using numpy.dstack() method\n",
    "print(np.dstack((gfg1, gfg2)))"
   ]
  },
  {
   "cell_type": "code",
   "execution_count": 115,
   "metadata": {},
   "outputs": [
    {
     "name": "stdout",
     "output_type": "stream",
     "text": [
      "The array \n",
      "[[0 1 2]\n",
      " [3 4 5]\n",
      " [6 7 8]] \n",
      "gets splitted horizontally to form \n",
      "[array([[0],\n",
      "       [3],\n",
      "       [6]]), array([[1],\n",
      "       [4],\n",
      "       [7]]), array([[2],\n",
      "       [5],\n",
      "       [8]])] \n",
      "The array \n",
      "[[0 1 2]\n",
      " [3 4 5]\n",
      " [6 7 8]] \n",
      "gets splitted horizontally to form \n",
      "[array([[0],\n",
      "       [3],\n",
      "       [6]]), array([[1],\n",
      "       [4],\n",
      "       [7]]), array([[2],\n",
      "       [5],\n",
      "       [8]])] \n"
     ]
    }
   ],
   "source": [
    "# Making of  a 3x3 array\n",
    "a = np.arange(9).reshape(3, 3)\n",
    "  \n",
    "# Horizontal splitting of array \n",
    "# 'a' using np.hsplit().\n",
    "print(\"The array \\n{} \\ngets splitted \\\n",
    "horizontally to form \\n{} \".format(a, np.hsplit(a, 3)))\n",
    "  \n",
    "# Horizontal splitting of array 'a' \n",
    "# using 'split' with axis parameter = 1.\n",
    "print(\"The array \\n{} \\ngets splitted \\\n",
    "horizontally to form \\n{} \".format(a, np.split(a, 3, 1)))"
   ]
  },
  {
   "cell_type": "code",
   "execution_count": 116,
   "metadata": {},
   "outputs": [
    {
     "name": "stdout",
     "output_type": "stream",
     "text": [
      "The array \n",
      "[[0 1 2]\n",
      " [3 4 5]\n",
      " [6 7 8]] \n",
      "gets splitted vertically to form \n",
      "[array([[0, 1, 2]]), array([[3, 4, 5]]), array([[6, 7, 8]])] \n",
      "The array \n",
      "[[0 1 2]\n",
      " [3 4 5]\n",
      " [6 7 8]] \n",
      "gets splitted vertically to form \n",
      "[array([[0, 1, 2]]), array([[3, 4, 5]]), array([[6, 7, 8]])] \n"
     ]
    }
   ],
   "source": [
    "# Making of  a 3x3 array\n",
    "a = np.arange(9).reshape(3, 3)\n",
    "  \n",
    "# Vertical splitting of array 'a'\n",
    "# using np.vsplit().\n",
    "print(\"The array \\n{} \\ngets splitted \\\n",
    "vertically to form \\n{} \".format(a, np.vsplit(a, 3)))\n",
    "  \n",
    "# Vertical splitting of array 'a' \n",
    "# using 'split' with axis parameter = 0.\n",
    "print(\"The array \\n{} \\ngets splitted \\\n",
    "vertically to form \\n{} \".format(a, np.split(a, 3, 0)))"
   ]
  },
  {
   "cell_type": "code",
   "execution_count": 117,
   "metadata": {},
   "outputs": [
    {
     "name": "stdout",
     "output_type": "stream",
     "text": [
      "True\n"
     ]
    }
   ],
   "source": [
    "an_array = np.array([[1, 2], [3, 4]])\n",
    "another_array = np.array([[1, 2], [3, 4]])\n",
    "  \n",
    "comparison = an_array == another_array\n",
    "equal_arrays = comparison.all()\n",
    "  \n",
    "print(equal_arrays)"
   ]
  },
  {
   "cell_type": "code",
   "execution_count": 118,
   "metadata": {},
   "outputs": [
    {
     "name": "stdout",
     "output_type": "stream",
     "text": [
      "Array a:  [101  99  87]\n",
      "Array b:  [897  97 111]\n",
      "a > b\n",
      "[False  True False]\n",
      "a >= b\n",
      "[False  True False]\n",
      "a < b\n",
      "[ True False  True]\n",
      "a <= b\n",
      "[ True False  True]\n"
     ]
    }
   ],
   "source": [
    "a = np.array([101, 99, 87])\n",
    "b = np.array([897, 97, 111])\n",
    "  \n",
    "print(\"Array a: \", a)\n",
    "print(\"Array b: \", b)\n",
    "  \n",
    "print(\"a > b\")\n",
    "print(np.greater(a, b))\n",
    "  \n",
    "print(\"a >= b\")\n",
    "print(np.greater_equal(a, b))\n",
    "  \n",
    "print(\"a < b\")\n",
    "print(np.less(a, b))\n",
    "  \n",
    "print(\"a <= b\")\n",
    "print(np.less_equal(a, b))"
   ]
  },
  {
   "cell_type": "code",
   "execution_count": 119,
   "metadata": {},
   "outputs": [
    {
     "name": "stdout",
     "output_type": "stream",
     "text": [
      "array1  [10 20 30 40]\n",
      "array2  [20 40 60 80]\n",
      "Union of two arrays : [10 20 30 40 60 80]\n"
     ]
    }
   ],
   "source": [
    "arr1 = np.array([10, 20, 30, 40])\n",
    "print(\"array1 \", arr1)\n",
    "  \n",
    "arr2 = np.array([20, 40, 60, 80])\n",
    "print(\"array2 \", arr2)\n",
    "  \n",
    "# print union of the two arrays\n",
    "print(\"Union of two arrays :\", np.union1d(arr1, arr2))"
   ]
  },
  {
   "cell_type": "code",
   "execution_count": 120,
   "metadata": {},
   "outputs": [
    {
     "name": "stdout",
     "output_type": "stream",
     "text": [
      "array1 \n",
      "[[1 2 3]\n",
      " [4 5 6]]\n",
      "array2  [ 0  5 10]\n",
      "Union of two arrays [ 0  1  2  3  4  5  6 10]\n"
     ]
    }
   ],
   "source": [
    "# 2-d array\n",
    "arr1 = np.array([[1, 2, 3], [4, 5, 6]])\n",
    "print(\"array1 \")\n",
    "print(arr1)\n",
    "  \n",
    "arr2 = np.array([0, 5, 10])\n",
    "print(\"array2 \", arr2)\n",
    "  \n",
    "# print union of 2-d array and 1-d array\n",
    "print(\"Union of two arrays\", np.union1d(arr1, arr2))"
   ]
  },
  {
   "cell_type": "code",
   "execution_count": 121,
   "metadata": {},
   "outputs": [
    {
     "name": "stdout",
     "output_type": "stream",
     "text": [
      "Union  [0 1 2 3 4 5 6]\n"
     ]
    }
   ],
   "source": [
    "from functools import reduce\n",
    "  \n",
    "array = reduce(np.union1d, ([1, 2, 3], [1, 3, 5],\n",
    "                            [2, 4, 6], [0, 0, 0]))\n",
    "print(\"Union \", array)"
   ]
  },
  {
   "cell_type": "code",
   "execution_count": 122,
   "metadata": {},
   "outputs": [
    {
     "name": "stdout",
     "output_type": "stream",
     "text": [
      "Original Array :\n",
      "[[11 11 12 11]\n",
      " [13 11 12 11]\n",
      " [16 11 12 11]\n",
      " [11 11 12 11]]\n",
      "Unique Rows:\n",
      "[[11 11 12 11]\n",
      " [13 11 12 11]\n",
      " [16 11 12 11]]\n"
     ]
    }
   ],
   "source": [
    "# Create a 2D numpy array\n",
    "arr2D = np.array([[11, 11, 12, 11],\n",
    "                     [13, 11, 12, 11],\n",
    "                     [16, 11, 12, 11],\n",
    "                     [11, 11, 12, 11]])\n",
    "  \n",
    "print('Original Array :' ,\n",
    "      arr2D, sep = '\\n')\n",
    "  \n",
    "# Get unique rows from\n",
    "# complete 2D-array by \n",
    "# passing axis = 0 in \n",
    "# unique function along\n",
    "# with 2D-array\n",
    "uniqueRows = np.unique(arr2D, \n",
    "                       axis = 0)\n",
    "  \n",
    "# print the output result\n",
    "print('Unique Rows:',\n",
    "      uniqueRows, sep = '\\n')"
   ]
  },
  {
   "cell_type": "code",
   "execution_count": 123,
   "metadata": {},
   "outputs": [
    {
     "name": "stdout",
     "output_type": "stream",
     "text": [
      "[1 2 3 4 6 8]\n"
     ]
    }
   ],
   "source": [
    "a = [1, 2, 2, 4, 3, 6, 4, 8]\n",
    "  \n",
    "# using np.unique() method\n",
    "gfg = np.unique(a)\n",
    "  \n",
    "print(gfg)"
   ]
  },
  {
   "cell_type": "code",
   "execution_count": 125,
   "metadata": {},
   "outputs": [
    {
     "name": "stdout",
     "output_type": "stream",
     "text": [
      "[ 1  5  7  0  6  2  9  0 10]\n"
     ]
    }
   ],
   "source": [
    "gfg = np.array((0, 0, 0, 0, 1, 5, 7, 0, 6, 2, 9, 0, 10, 0, 0))\n",
    "  \n",
    "# without trim parameter\n",
    "# returns an array without leading and trailing zeros \n",
    "  \n",
    "res = np.trim_zeros(gfg)\n",
    "print(res)"
   ]
  },
  {
   "cell_type": "code",
   "execution_count": 127,
   "metadata": {},
   "outputs": [
    {
     "name": "stdout",
     "output_type": "stream",
     "text": [
      "[ 1  5  7  0  6  2  9  0 10  0  0]\n"
     ]
    }
   ],
   "source": [
    "gfg = np.array((0, 0, 0, 0, 1, 5, 7, 0, 6, 2, 9, 0, 10, 0, 0))\n",
    "  \n",
    "# without trim parameter\n",
    "# returns an array without any leading  zeros \n",
    "  \n",
    "res = np.trim_zeros(gfg, 'f')\n",
    "print(res)"
   ]
  },
  {
   "cell_type": "code",
   "execution_count": 129,
   "metadata": {},
   "outputs": [
    {
     "name": "stdout",
     "output_type": "stream",
     "text": [
      "The element wise addition of matrix is : \n",
      "[[ 8 10]\n",
      " [13 15]]\n",
      "The element wise subtraction of matrix is : \n",
      "[[-6 -6]\n",
      " [-5 -5]]\n",
      "The element wise division of matrix is : \n",
      "[[0.14285714 0.25      ]\n",
      " [0.44444444 0.5       ]]\n"
     ]
    }
   ],
   "source": [
    "# initializing matrices\n",
    "x = np.array([[1, 2], [4, 5]])\n",
    "y = np.array([[7, 8], [9, 10]])\n",
    "  \n",
    "# using add() to add matrices\n",
    "print (\"The element wise addition of matrix is : \")\n",
    "print (np.add(x,y))\n",
    "  \n",
    "# using subtract() to subtract matrices\n",
    "print (\"The element wise subtraction of matrix is : \")\n",
    "print (np.subtract(x,y))\n",
    "  \n",
    "# using divide() to divide matrices\n",
    "print (\"The element wise division of matrix is : \")\n",
    "print (np.divide(x,y))"
   ]
  },
  {
   "cell_type": "code",
   "execution_count": 131,
   "metadata": {},
   "outputs": [
    {
     "name": "stdout",
     "output_type": "stream",
     "text": [
      "The element wise multiplication of matrix is : \n",
      "[[ 7 16]\n",
      " [36 50]]\n",
      "The product of matrices is : \n",
      "[[25 28]\n",
      " [73 82]]\n"
     ]
    }
   ],
   "source": [
    "# using multiply() to multiply matrices element wise\n",
    "print (\"The element wise multiplication of matrix is : \")\n",
    "print (np.multiply(x,y))\n",
    "  \n",
    "# using dot() to multiply matrices\n",
    "print (\"The product of matrices is : \")\n",
    "print (np.dot(x,y))"
   ]
  },
  {
   "cell_type": "code",
   "execution_count": 133,
   "metadata": {},
   "outputs": [
    {
     "name": "stdout",
     "output_type": "stream",
     "text": [
      "The element wise square root is : \n",
      "[[1.         1.41421356]\n",
      " [2.         2.23606798]]\n",
      "The summation of all matrix element is : \n",
      "34\n",
      "The column wise summation of all matrix  is : \n",
      "[16 18]\n",
      "The row wise summation of all matrix  is : \n",
      "[15 19]\n",
      "The transpose of given matrix is : \n",
      "[[1 4]\n",
      " [2 5]]\n"
     ]
    }
   ],
   "source": [
    "# using sqrt() to print the square root of matrix\n",
    "print (\"The element wise square root is : \")\n",
    "print (np.sqrt(x))\n",
    "  \n",
    "# using sum() to print summation of all elements of matrix\n",
    "print (\"The summation of all matrix element is : \")\n",
    "print (np.sum(y))\n",
    "  \n",
    "# using sum(axis=0) to print summation of all columns of matrix\n",
    "print (\"The column wise summation of all matrix  is : \")\n",
    "print (np.sum(y,axis=0))\n",
    "  \n",
    "# using sum(axis=1) to print summation of all columns of matrix\n",
    "print (\"The row wise summation of all matrix  is : \")\n",
    "print (np.sum(y,axis=1))\n",
    "  \n",
    "# using \"T\" to transpose the matrix\n",
    "print (\"The transpose of given matrix is : \")\n",
    "print (x.T)"
   ]
  },
  {
   "cell_type": "code",
   "execution_count": 135,
   "metadata": {},
   "outputs": [
    {
     "name": "stdout",
     "output_type": "stream",
     "text": [
      "Output matrix :  [[1. 1. 1. 1.]\n",
      " [1. 1. 1. 1.]\n",
      " [1. 1. 1. 1.]]\n"
     ]
    }
   ],
   "source": [
    "import numpy.matlib\n",
    "# desired 3 x 4 output matrix \n",
    "out_mat = numpy.matlib.ones((3, 4)) \n",
    "print (\"Output matrix : \", out_mat) "
   ]
  },
  {
   "cell_type": "code",
   "execution_count": 137,
   "metadata": {},
   "outputs": [
    {
     "name": "stdout",
     "output_type": "stream",
     "text": [
      "[[3. 3. 3.]\n",
      " [3. 3. 3.]\n",
      " [3. 3. 3.]]\n"
     ]
    }
   ],
   "source": [
    "arr1 = np.eye(3)\n",
    "arr = np.ones((3, 3)) * 3\n",
    "  \n",
    "gfg = arr1.dot( arr )\n",
    "  \n",
    "print( gfg)"
   ]
  },
  {
   "cell_type": "code",
   "execution_count": 138,
   "metadata": {},
   "outputs": [
    {
     "name": "stdout",
     "output_type": "stream",
     "text": [
      "(15+25j)\n"
     ]
    }
   ],
   "source": [
    "# Taking two 1D array\n",
    "a = 3 + 1j\n",
    "b = 7 + 6j\n",
    " \n",
    "# Calculating dot product using dot()\n",
    "print(np.dot(a, b))"
   ]
  },
  {
   "cell_type": "code",
   "execution_count": 139,
   "metadata": {},
   "outputs": [
    {
     "name": "stdout",
     "output_type": "stream",
     "text": [
      "[[5 4]\n",
      " [9 6]]\n"
     ]
    }
   ],
   "source": [
    "# Taking two 2D array\n",
    "# For 2-D arrays it is the matrix product\n",
    "a = [[2, 1], [0, 3]]\n",
    "b = [[1, 1], [3, 2]]\n",
    " \n",
    "# Calculating dot product using dot()\n",
    "print(np.dot(a, b))"
   ]
  },
  {
   "cell_type": "code",
   "execution_count": 140,
   "metadata": {},
   "outputs": [
    {
     "name": "stdout",
     "output_type": "stream",
     "text": [
      "Numpy Matrix is:\n",
      "[[50 29]\n",
      " [30 44]]\n",
      "\n",
      "Determinant of given 2X2 matrix:\n",
      "1330\n"
     ]
    }
   ],
   "source": [
    "# creating a 2X2 Numpy matrix\n",
    "n_array = np.array([[50, 29], [30, 44]])\n",
    "  \n",
    "# Displaying the Matrix\n",
    "print(\"Numpy Matrix is:\")\n",
    "print(n_array)\n",
    "  \n",
    "# calculating the determinant of matrix\n",
    "det = np.linalg.det(n_array)\n",
    "  \n",
    "print(\"\\nDeterminant of given 2X2 matrix:\")\n",
    "print(int(det))"
   ]
  },
  {
   "cell_type": "code",
   "execution_count": 141,
   "metadata": {},
   "outputs": [
    {
     "name": "stdout",
     "output_type": "stream",
     "text": [
      "[[ 4 12]\n",
      " [ 1  3]]\n"
     ]
    }
   ],
   "source": [
    "# make matrix with numpy\n",
    "gfg = np.matrix('[4, 1; 12, 3]')\n",
    "              \n",
    "# applying matrix.transpose() method\n",
    "arr = gfg.transpose()\n",
    "    \n",
    "print(arr)"
   ]
  },
  {
   "cell_type": "code",
   "execution_count": 142,
   "metadata": {},
   "outputs": [
    {
     "name": "stdout",
     "output_type": "stream",
     "text": [
      "Input  number1 :  10\n",
      "Input  number2 :  11\n",
      "bitwise_and of 10 and 11 :  10\n"
     ]
    }
   ],
   "source": [
    "in_num1 = 10\n",
    "in_num2 = 11\n",
    " \n",
    "print (\"Input  number1 : \", in_num1)\n",
    "print (\"Input  number2 : \", in_num2) \n",
    "   \n",
    "out_num = np.bitwise_and(in_num1, in_num2) \n",
    "print (\"bitwise_and of 10 and 11 : \", out_num) "
   ]
  },
  {
   "cell_type": "code",
   "execution_count": 143,
   "metadata": {},
   "outputs": [
    {
     "name": "stdout",
     "output_type": "stream",
     "text": [
      "Input array : \n",
      " [0, 1.5707963267948966, 1.0471975511965976, 3.141592653589793]\n",
      "\n",
      "Cosine values : \n",
      " [ 1.000000e+00  6.123234e-17  5.000000e-01 -1.000000e+00]\n"
     ]
    }
   ],
   "source": [
    "import math\n",
    " \n",
    "in_array = [0, math.pi / 2, np.pi / 3, np.pi]\n",
    "print (\"Input array : \\n\", in_array)\n",
    " \n",
    "cos_Values = np.cos(in_array)\n",
    "print (\"\\nCosine values : \\n\", cos_Values)"
   ]
  },
  {
   "cell_type": "code",
   "execution_count": 146,
   "metadata": {},
   "outputs": [
    {
     "name": "stdout",
     "output_type": "stream",
     "text": [
      "\n",
      " A sequential array with a negative step: \n",
      " [10  8  6  4  2]\n",
      "\n",
      " Elements at these indices are:\n",
      " [4 8 6]\n"
     ]
    }
   ],
   "source": [
    "# Create a sequence of integers from 10 to 1 with a step of -2\n",
    "a = np.arange(10, 1, -2)\n",
    "print(\"\\n A sequential array with a negative step: \\n\",a)\n",
    " \n",
    "# Indexes are specified inside the np.array method.\n",
    "newarr = a[np.array([3, 1, 2 ])]\n",
    "print(\"\\n Elements at these indices are:\\n\",newarr)"
   ]
  },
  {
   "cell_type": "code",
   "execution_count": 148,
   "metadata": {},
   "outputs": [
    {
     "name": "stdout",
     "output_type": "stream",
     "text": [
      "[450 350   0  30]\n"
     ]
    }
   ],
   "source": [
    "A = np.array([5, 7, 3, 1])\n",
    "B = np.array([90, 50, 0, 30])\n",
    " \n",
    "# array are compatible because of same Dimension\n",
    "C = A * B\n",
    "print (C)"
   ]
  },
  {
   "cell_type": "code",
   "execution_count": 149,
   "metadata": {},
   "outputs": [
    {
     "name": "stdout",
     "output_type": "stream",
     "text": [
      "Rank of A: 3\n",
      "\n",
      "Trace of A: 11\n",
      "\n",
      "Determinant of A: -306.0\n",
      "\n",
      "Inverse of A:\n",
      " [[ 0.17647059 -0.00326797 -0.02287582]\n",
      " [ 0.05882353 -0.13071895  0.08496732]\n",
      " [-0.11764706  0.1503268   0.05228758]]\n",
      "\n",
      "Matrix A raised to power 3:\n",
      " [[336 162 228]\n",
      " [406 162 469]\n",
      " [698 702 905]]\n"
     ]
    }
   ],
   "source": [
    "A = np.array([[6, 1, 1],\n",
    "              [4, -2, 5],\n",
    "              [2, 8, 7]])\n",
    " \n",
    "# Rank of a matrix\n",
    "print(\"Rank of A:\", np.linalg.matrix_rank(A))\n",
    " \n",
    "# Trace of matrix A\n",
    "print(\"\\nTrace of A:\", np.trace(A))\n",
    " \n",
    "# Determinant of a matrix\n",
    "print(\"\\nDeterminant of A:\", np.linalg.det(A))\n",
    " \n",
    "# Inverse of matrix A\n",
    "print(\"\\nInverse of A:\\n\", np.linalg.inv(A))\n",
    " \n",
    "print(\"\\nMatrix A raised to power 3:\\n\",\n",
    "           np.linalg.matrix_power(A, 3))"
   ]
  },
  {
   "cell_type": "code",
   "execution_count": 151,
   "metadata": {},
   "outputs": [
    {
     "name": "stdout",
     "output_type": "stream",
     "text": [
      "Dot Product  :  (23-2j)\n"
     ]
    }
   ],
   "source": [
    "# 1D array\n",
    "vector_a = 2 + 3j\n",
    "vector_b = 4 + 5j\n",
    " \n",
    "product = np.vdot(vector_a, vector_b)\n",
    "print(\"Dot Product  : \", product)"
   ]
  },
  {
   "cell_type": "code",
   "execution_count": 152,
   "metadata": {},
   "outputs": [
    {
     "name": "stdout",
     "output_type": "stream",
     "text": [
      "('Solution of linear equations:', array([2., 3.]))\n"
     ]
    }
   ],
   "source": [
    "# Creating an array using array\n",
    "# function\n",
    "a = np.array([[1, 2], [3, 4]])\n",
    " \n",
    "# Creating an array using array\n",
    "# function\n",
    "b = np.array([8, 18])\n",
    " \n",
    "print((\"Solution of linear equations:\", \n",
    "      np.linalg.solve(a, b)))"
   ]
  },
  {
   "cell_type": "code",
   "execution_count": 154,
   "metadata": {},
   "outputs": [
    {
     "name": "stdout",
     "output_type": "stream",
     "text": [
      "Output random float value :  0.103465130358394\n"
     ]
    }
   ],
   "source": [
    "# output random float value\n",
    "out_val = np.random.ranf()\n",
    "print (\"Output random float value : \", out_val)"
   ]
  },
  {
   "cell_type": "code",
   "execution_count": 156,
   "metadata": {},
   "outputs": [
    {
     "name": "stdout",
     "output_type": "stream",
     "text": [
      "Output 3D Array filled with random floats :  [[[0.33278399 0.59155448]\n",
      "  [0.9848847  0.70091828]\n",
      "  [0.0023934  0.13748387]]\n",
      "\n",
      " [[0.50102909 0.76663838]\n",
      "  [0.85652171 0.34303214]\n",
      "  [0.02878668 0.78196703]]\n",
      "\n",
      " [[0.01594798 0.72648663]\n",
      "  [0.47585301 0.90349659]\n",
      "  [0.02968068 0.94592887]]]\n"
     ]
    }
   ],
   "source": [
    "# output array\n",
    "out_arr = np.random.ranf((3, 3, 2))\n",
    "print (\"Output 3D Array filled with random floats : \", out_arr)"
   ]
  },
  {
   "cell_type": "code",
   "execution_count": 157,
   "metadata": {},
   "outputs": [
    {
     "name": "stdout",
     "output_type": "stream",
     "text": [
      "Output random float value :  0.2608748852099769\n"
     ]
    }
   ],
   "source": [
    "# output random value\n",
    "out_val = np.random.random_sample()\n",
    "print (\"Output random float value : \", out_val)"
   ]
  },
  {
   "cell_type": "code",
   "execution_count": 158,
   "metadata": {},
   "outputs": [
    {
     "name": "stdout",
     "output_type": "stream",
     "text": [
      "Output 2D Array filled with random floats :  [[0.47977847 0.42546456 0.29558585]]\n"
     ]
    }
   ],
   "source": [
    "# output array\n",
    "out_arr = np.random.random_sample(size =(1, 3))\n",
    "print (\"Output 2D Array filled with random floats : \", out_arr)"
   ]
  },
  {
   "cell_type": "code",
   "execution_count": 161,
   "metadata": {
    "collapsed": true
   },
   "outputs": [],
   "source": [
    "# Using choice() method\n",
    "gfg = np.random.choice(5, 10, p =[0.2, 0.1, 0.3, 0.4, 0])"
   ]
  },
  {
   "cell_type": "code",
   "execution_count": 162,
   "metadata": {},
   "outputs": [
    {
     "data": {
      "text/plain": [
       "array([3, 0, 3, 0, 1, 1, 0, 0, 2, 0])"
      ]
     },
     "execution_count": 162,
     "metadata": {},
     "output_type": "execute_result"
    }
   ],
   "source": [
    "gfg"
   ]
  },
  {
   "cell_type": "code",
   "execution_count": 168,
   "metadata": {},
   "outputs": [
    {
     "name": "stdout",
     "output_type": "stream",
     "text": [
      "[500, 500, 400, 100, 100, 400, 500, 400, 300, 400]\n"
     ]
    }
   ],
   "source": [
    "import random\n",
    "sampleList = [100, 200, 300, 400, 500]\n",
    "  \n",
    "randomList = random.choices(\n",
    "  sampleList, weights=(10, 20, 30, 40, 50), k=10)\n",
    "  \n",
    "print(randomList)"
   ]
  },
  {
   "cell_type": "code",
   "execution_count": 169,
   "metadata": {},
   "outputs": [
    {
     "name": "stdout",
     "output_type": "stream",
     "text": [
      "[200, 300, 200, 400, 500]\n"
     ]
    }
   ],
   "source": [
    "import random\n",
    "  \n",
    "sampleList = [100, 200, 300, 400, 500]\n",
    "randomList = random.choices(\n",
    "  sampleList, cum_weights=(5, 15, 35, 65, 100), k=5)\n",
    "  \n",
    "print(randomList)"
   ]
  },
  {
   "cell_type": "code",
   "execution_count": 170,
   "metadata": {},
   "outputs": [
    {
     "data": {
      "image/png": "[encoded data removed]",
      "text/plain": [
       "<matplotlib.figure.Figure at 0x1f157048eb8>"
      ]
     },
     "metadata": {},
     "output_type": "display_data"
    }
   ],
   "source": [
    "import matplotlib.pyplot as plt\n",
    "  \n",
    "# Using geometric() method\n",
    "gfg = np.random.geometric(0.65, 1000)\n",
    "  \n",
    "count, bins, ignored = plt.hist(gfg, 40, density = True)\n",
    "plt.show()"
   ]
  },
  {
   "cell_type": "code",
   "execution_count": 171,
   "metadata": {},
   "outputs": [
    {
     "name": "stdout",
     "output_type": "stream",
     "text": [
      "arr = [10 32 30 50 20 82 91 45]\n",
      "i = (array([2], dtype=int64),)\n"
     ]
    }
   ],
   "source": [
    "# creating the array\n",
    "arr = np.array([10, 32, 30, 50, 20, 82, 91, 45])\n",
    "  \n",
    "#  printing arr\n",
    "print(\"arr = {}\".format(arr))\n",
    "  \n",
    "#  looking for value 30 in arr and storing its index in i\n",
    "i = np.where(arr == 30)\n",
    "print(\"i = {}\".format(i))"
   ]
  },
  {
   "cell_type": "code",
   "execution_count": 172,
   "metadata": {},
   "outputs": [
    {
     "name": "stdout",
     "output_type": "stream",
     "text": [
      "arr = [1, 2, 2, 3, 3, 3, 4, 5, 6, 6]\n",
      "left-most index = 3\n",
      "right-most index = 6\n"
     ]
    }
   ],
   "source": [
    "# creating the array\n",
    "arr = [1, 2, 2, 3, 3, 3, 4, 5, 6, 6]\n",
    "print(\"arr = {}\".format(arr))\n",
    "  \n",
    "# left-most 3\n",
    "print(\"left-most index = {}\".format(np.searchsorted(arr, 3, side=\"left\")))\n",
    "  \n",
    "# right-most 3\n",
    "print(\"right-most index = {}\".format(np.searchsorted(arr, 3, side=\"right\")))\n"
   ]
  },
  {
   "cell_type": "code",
   "execution_count": 174,
   "metadata": {},
   "outputs": [
    {
     "name": "stdout",
     "output_type": "stream",
     "text": [
      "[[12 15]\n",
      " [10  1]]\n",
      "Along first axis : \n",
      " [[10  1]\n",
      " [12 15]]\n",
      "\n",
      "Along first axis : \n",
      " [[10 15]\n",
      " [ 1 12]]\n",
      "\n",
      "Along none axis : \n",
      " [ 1 10 12 15]\n"
     ]
    }
   ],
   "source": [
    "# sort along the first axis\n",
    "a = np.array([[12, 15], [10, 1]])\n",
    "print(a)\n",
    "arr1 = np.sort(a, axis = 0)        \n",
    "print (\"Along first axis : \\n\", arr1)        \n",
    "   \n",
    "# sort along the last axis\n",
    "a = np.array([[10, 15], [12, 1]])\n",
    "arr2 = np.sort(a, axis = -1)        \n",
    "print (\"\\nAlong first axis : \\n\", arr2)\n",
    "   \n",
    "a = np.array([[12, 15], [10, 1]])\n",
    "arr1 = np.sort(a, axis = None)        \n",
    "print (\"\\nAlong none axis : \\n\", arr1)"
   ]
  },
  {
   "cell_type": "code",
   "execution_count": 175,
   "metadata": {},
   "outputs": [
    {
     "name": "stdout",
     "output_type": "stream",
     "text": [
      "Original array:\n",
      " [9 3 1 7 4 3 6]\n",
      "Sorted indices of original array-> [2 1 5 4 6 3 0]\n"
     ]
    }
   ],
   "source": [
    "# Numpy array created\n",
    "a = np.array([9, 3, 1, 7, 4, 3, 6])\n",
    " \n",
    "# unsorted array print\n",
    "print('Original array:\\n', a)\n",
    " \n",
    "# Sort array indices\n",
    "b = np.argsort(a)\n",
    "print('Sorted indices of original array->', b)"
   ]
  },
  {
   "cell_type": "code",
   "execution_count": 176,
   "metadata": {},
   "outputs": [
    {
     "name": "stdout",
     "output_type": "stream",
     "text": [
      "Return type: None\n",
      "Original array sorted-> [1 3 3 4 6 7 9]\n"
     ]
    }
   ],
   "source": [
    "# Return type is None\n",
    "print('Return type:', a.sort())\n",
    "  \n",
    "# Sorted array output\n",
    "print('Original array sorted->', a)"
   ]
  },
  {
   "cell_type": "code",
   "execution_count": 177,
   "metadata": {},
   "outputs": [
    {
     "name": "stdout",
     "output_type": "stream",
     "text": [
      "Sine of angles in the array:\n",
      "[0.00000000e+00 5.00000000e-01 7.07106781e-01 8.66025404e-01\n",
      " 1.00000000e+00 1.22464680e-16]\n",
      "Inverse Sine of sine values:\n",
      "[0.0000000e+00 3.0000000e+01 4.5000000e+01 6.0000000e+01 9.0000000e+01\n",
      " 7.0167093e-15]\n",
      "Sine hyperbolic of angles in the array:\n",
      "[ 0.          0.54785347  0.86867096  1.24936705  2.3012989  11.54873936]\n",
      "Inverse Sine hyperbolic:\n",
      "[ 0.          0.52085606  0.76347126  0.94878485  0.74483916 -0.85086591]\n",
      "hypotenuse of right triangle is:\n",
      "5.0\n"
     ]
    }
   ],
   "source": [
    "# create an array of angles\n",
    "angles = np.array([0, 30, 45, 60, 90, 180]) \n",
    "  \n",
    "# conversion of degree into radians\n",
    "# using deg2rad function\n",
    "radians = np.deg2rad(angles)\n",
    "  \n",
    "# sine of angles\n",
    "print('Sine of angles in the array:')\n",
    "sine_value = np.sin(radians)\n",
    "print(np.sin(radians))\n",
    "  \n",
    "# inverse sine of sine values\n",
    "print('Inverse Sine of sine values:')\n",
    "print(np.rad2deg(np.arcsin(sine_value)))\n",
    "  \n",
    "# hyperbolic sine of angles\n",
    "print('Sine hyperbolic of angles in the array:')\n",
    "sineh_value = np.sinh(radians)\n",
    "print(np.sinh(radians))\n",
    "  \n",
    "# inverse sine hyperbolic \n",
    "print('Inverse Sine hyperbolic:')\n",
    "print(np.sin(sineh_value)) \n",
    "  \n",
    "# hypot function demonstration\n",
    "base = 4\n",
    "height = 3\n",
    "print('hypotenuse of right triangle is:')\n",
    "print(np.hypot(base, height))"
   ]
  },
  {
   "cell_type": "code",
   "execution_count": 178,
   "metadata": {},
   "outputs": [
    {
     "name": "stdout",
     "output_type": "stream",
     "text": [
      "arr     : 1 2 3 4 5 6 7 8 9 10\n",
      "mod_arr : 1 0 1 0 1 0 1 0 1 0\n"
     ]
    }
   ],
   "source": [
    "# creating own function\n",
    "def fxn(val):\n",
    "    return (val % 2)\n",
    " \n",
    "# adding into numpy\n",
    "mod_2 = np.frompyfunc(fxn, 1, 1)\n",
    " \n",
    "# creating numpy array\n",
    "arr = np.arange(1, 11)\n",
    "print(\"arr     :\", *arr)\n",
    " \n",
    "# using function over numpy array\n",
    "mod_arr = mod_2(arr)\n",
    "print(\"mod_arr :\", *mod_arr)"
   ]
  },
  {
   "cell_type": "code",
   "execution_count": null,
   "metadata": {
    "collapsed": true
   },
   "outputs": [],
   "source": []
  }
 ],
 "metadata": {
  "kernelspec": {
   "display_name": "Python 3",
   "language": "python",
   "name": "python3"
  },
  "language_info": {
   "codemirror_mode": {
    "name": "ipython",
    "version": 3
   },
   "file_extension": ".py",
   "mimetype": "text/x-python",
   "name": "python",
   "nbconvert_exporter": "python",
   "pygments_lexer": "ipython3",
   "version": "3.6.3"
  }
 },
 "nbformat": 4,
 "nbformat_minor": 2
}
