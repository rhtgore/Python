{
 "cells": [
  {
   "cell_type": "markdown",
   "id": "fc5e9cc4",
   "metadata": {},
   "source": [
    "## Reverse All Strings in String List"
   ]
  },
  {
   "cell_type": "code",
   "execution_count": 1,
   "id": "37a407b0",
   "metadata": {},
   "outputs": [
    {
     "name": "stdout",
     "output_type": "stream",
     "text": [
      "['geeks', 'for', 'geeks', 'is', 'best']\n",
      "['skeeg', 'rof', 'skeeg', 'si', 'tseb']\n"
     ]
    }
   ],
   "source": [
    "## Approach 1: using list comprehension\n",
    "\n",
    "test_list = [\"geeks\", \"for\", \"geeks\", \"is\", \"best\"]\n",
    "\n",
    "res = [item[::-1] for item in test_list]\n",
    "\n",
    "print(test_list)\n",
    "print(res)"
   ]
  },
  {
   "cell_type": "code",
   "execution_count": 2,
   "id": "f88d0225",
   "metadata": {},
   "outputs": [
    {
     "name": "stdout",
     "output_type": "stream",
     "text": [
      "['geeks', 'for', 'geeks', 'is', 'best']\n",
      "['skeeg', 'rof', 'skeeg', 'si', 'tseb']\n"
     ]
    }
   ],
   "source": [
    "## Approach 2: using map\n",
    "\n",
    "test_list = [\"geeks\", \"for\", \"geeks\", \"is\", \"best\"]\n",
    "\n",
    "res = list(map(lambda x: x[::-1], test_list))\n",
    "\n",
    "print(test_list)\n",
    "print(res)"
   ]
  },
  {
   "cell_type": "markdown",
   "id": "246eaae6",
   "metadata": {},
   "source": [
    "## Extract words starting with K in String List"
   ]
  },
  {
   "cell_type": "code",
   "execution_count": 5,
   "id": "33d4bd25",
   "metadata": {},
   "outputs": [
    {
     "name": "stdout",
     "output_type": "stream",
     "text": [
      "['Gfg', 'Gfg', 'geeks', 'G4G']\n"
     ]
    }
   ],
   "source": [
    "## Approach 1: using loop + split()\n",
    "\n",
    "test_list = [\"Gfg is best\", \"Gfg is for geeks\", \"I love G4G\"]\n",
    "\n",
    "k = \"g\"\n",
    "\n",
    "res = []\n",
    "for sub in test_list:\n",
    "    tmp = sub.split()\n",
    "    for ele in tmp:\n",
    "        if ele[0].lower() == k.lower():\n",
    "            res.append(ele)\n",
    "        \n",
    "print(res)"
   ]
  },
  {
   "cell_type": "code",
   "execution_count": 6,
   "id": "51e1d58a",
   "metadata": {},
   "outputs": [
    {
     "name": "stdout",
     "output_type": "stream",
     "text": [
      "['Gfg', 'Gfg', 'geeks', 'G4G']\n"
     ]
    }
   ],
   "source": [
    "## Approach 2: using list comprehension + split()\n",
    "\n",
    "test_list = [\"Gfg is best\", \"Gfg is for geeks\", \"I love G4G\"]\n",
    "\n",
    "k='g'\n",
    "\n",
    "res = [ele for sub in test_list for ele in sub.split() if ele[0].lower() == k.lower()]\n",
    "\n",
    "print(res)"
   ]
  },
  {
   "cell_type": "markdown",
   "id": "d61fd10e",
   "metadata": {},
   "source": [
    "## Prefix frequency in string List"
   ]
  },
  {
   "cell_type": "code",
   "execution_count": 8,
   "id": "1fad8f78",
   "metadata": {},
   "outputs": [
    {
     "name": "stdout",
     "output_type": "stream",
     "text": [
      "3\n"
     ]
    }
   ],
   "source": [
    "## Approach 1: using loop + startwith()\n",
    "\n",
    "test_list = ['gfgisbest', 'geeks', 'gfgfreak', 'gfgCS', 'Gcourses']\n",
    "\n",
    "test_sub = 'gfg'\n",
    "\n",
    "res = 0\n",
    "\n",
    "for ele in test_list:\n",
    "    if ele.startswith(test_sub):\n",
    "        res = res + 1\n",
    "print(res)"
   ]
  },
  {
   "cell_type": "markdown",
   "id": "b7946989",
   "metadata": {},
   "source": [
    "## Split String of list on K character"
   ]
  },
  {
   "cell_type": "code",
   "execution_count": 9,
   "id": "fede5a1e",
   "metadata": {},
   "outputs": [
    {
     "name": "stdout",
     "output_type": "stream",
     "text": [
      "['Gfg', 'is', 'best', 'for', 'Geeks', 'Preparing']\n"
     ]
    }
   ],
   "source": [
    "## Approach 1: using join + split()\n",
    "\n",
    "test_list = ['Gfg is best', 'for Geeks', 'Preparing']\n",
    "K = \" \"\n",
    "\n",
    "res = K.join(test_list).split(K)\n",
    "\n",
    "print(res)"
   ]
  },
  {
   "cell_type": "code",
   "execution_count": null,
   "id": "28a2baf6",
   "metadata": {},
   "outputs": [],
   "source": []
  }
 ],
 "metadata": {
  "kernelspec": {
   "display_name": "Python 3",
   "language": "python",
   "name": "python3"
  },
  "language_info": {
   "codemirror_mode": {
    "name": "ipython",
    "version": 3
   },
   "file_extension": ".py",
   "mimetype": "text/x-python",
   "name": "python",
   "nbconvert_exporter": "python",
   "pygments_lexer": "ipython3",
   "version": "3.6.13"
  }
 },
 "nbformat": 4,
 "nbformat_minor": 5
}
