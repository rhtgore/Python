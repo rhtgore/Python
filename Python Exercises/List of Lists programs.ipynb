{
 "cells": [
  {
   "cell_type": "markdown",
   "id": "660d4f02",
   "metadata": {},
   "source": [
    "## Remove empty List from List"
   ]
  },
  {
   "cell_type": "code",
   "execution_count": 1,
   "id": "35623a78",
   "metadata": {},
   "outputs": [
    {
     "name": "stdout",
     "output_type": "stream",
     "text": [
      "Original list:  [5, 6, [], 3, [], [], 9]\n",
      "Non empty list:  [5, 6, 3, 9]\n"
     ]
    }
   ],
   "source": [
    "## Approach 1: using list comprehension\n",
    "\n",
    "test_list = [5, 6, [], 3, [], [], 9]\n",
    "print(\"Original list: \",test_list)\n",
    "\n",
    "res = [i for i in test_list if i !=[]]\n",
    "\n",
    "print(\"Non empty list: \",res)"
   ]
  },
  {
   "cell_type": "code",
   "execution_count": 2,
   "id": "223b89c0",
   "metadata": {},
   "outputs": [
    {
     "name": "stdout",
     "output_type": "stream",
     "text": [
      "[5, 6, 3, 9]\n"
     ]
    }
   ],
   "source": [
    "## Approach 2: using filter\n",
    "test_list = [5, 6, [], 3, [], [], 9]\n",
    "\n",
    "res = list(filter(None, test_list))\n",
    "\n",
    "print(res)"
   ]
  },
  {
   "cell_type": "code",
   "execution_count": 3,
   "id": "f18b6863",
   "metadata": {},
   "outputs": [
    {
     "name": "stdout",
     "output_type": "stream",
     "text": [
      "[5, 6, 3, 9]\n"
     ]
    }
   ],
   "source": [
    "## Approach 3: using remove()\n",
    "\n",
    "test_list = [5, 6, [], 3, [], [], 9]\n",
    "\n",
    "while [] in test_list:\n",
    "    test_list.remove([])\n",
    "    \n",
    "print(test_list)"
   ]
  },
  {
   "cell_type": "markdown",
   "id": "df219bcd",
   "metadata": {},
   "source": [
    "## Convert List to List of dictionaries"
   ]
  },
  {
   "cell_type": "markdown",
   "id": "f59d2d11",
   "metadata": {},
   "source": [
    "Input : test_list = [“Gfg”, 3, “is”, 8], key_list = [“name”, “id”]\n",
    "Output : [{‘name’: ‘Gfg’, ‘id’: 3}, {‘name’: ‘is’, ‘id’: 8}]"
   ]
  },
  {
   "cell_type": "code",
   "execution_count": 4,
   "id": "53e235b5",
   "metadata": {},
   "outputs": [
    {
     "name": "stdout",
     "output_type": "stream",
     "text": [
      "Original list:  ['Gfg', 3, 'is', 8, 'Best', 10, 'for', 18, 'Geeks', 33]\n",
      "List of dictionaries:  [{'name': 'Gfg', 'id': 3}, {'name': 'is', 'id': 8}, {'name': 'Best', 'id': 10}, {'name': 'for', 'id': 18}, {'name': 'Geeks', 'id': 33}]\n"
     ]
    }
   ],
   "source": [
    "## Approach 1: using loop + dictionary comprehension\n",
    "\n",
    "test_list = [\"Gfg\", 3, \"is\", 8, \"Best\", 10, \"for\", 18, \"Geeks\", 33]\n",
    "\n",
    "print(\"Original list: \", test_list)\n",
    "\n",
    "key_list = ['name', 'id']\n",
    "\n",
    "n = len(test_list)\n",
    "res = []\n",
    "for i in range(0, n, 2):\n",
    "    res.append({key_list[0]:test_list[i], key_list[1]:test_list[i+1]})\n",
    "\n",
    "print(\"List of dictionaries: \", res)"
   ]
  },
  {
   "cell_type": "markdown",
   "id": "1c911090",
   "metadata": {},
   "source": [
    "## Convert Lists of List to Dictionary"
   ]
  },
  {
   "cell_type": "code",
   "execution_count": 8,
   "id": "a6718a47",
   "metadata": {},
   "outputs": [
    {
     "name": "stdout",
     "output_type": "stream",
     "text": [
      "Original List:  [['a', 'b', 1, 2], ['c', 'd', 3, 4], ['e', 'f', 5, 6]]\n",
      "Dictionary:  {('a', 'b'): (1, 2), ('c', 'd'): (3, 4), ('e', 'f'): (5, 6)}\n"
     ]
    }
   ],
   "source": [
    "## Approach 1: using loop\n",
    "\n",
    "test_list = [['a', 'b', 1, 2], ['c', 'd', 3, 4], ['e', 'f', 5, 6]]\n",
    "\n",
    "print(\"Original List: \", test_list)\n",
    "\n",
    "res =dict()\n",
    "\n",
    "for i in test_list:\n",
    "    res[tuple(i[:2])]=tuple(i[2:])\n",
    "\n",
    "print(\"Dictionary: \", res)"
   ]
  },
  {
   "cell_type": "markdown",
   "id": "4a7d2c78",
   "metadata": {},
   "source": [
    "## Uncommon elements in Lists of List"
   ]
  },
  {
   "cell_type": "code",
   "execution_count": 10,
   "id": "840d1e79",
   "metadata": {},
   "outputs": [
    {
     "name": "stdout",
     "output_type": "stream",
     "text": [
      "[[5, 6], [5, 7]]\n"
     ]
    }
   ],
   "source": [
    "## Approach 1: using loop\n",
    "\n",
    "test_list1 = [ [1, 2], [3, 4], [5, 6] ]\n",
    "test_list2 = [ [3, 4], [5, 7], [1, 2] ]\n",
    "\n",
    "res_list = []\n",
    "\n",
    "for i in test_list1:\n",
    "    if i not in test_list2:\n",
    "        res_list.append(i)\n",
    "for i in test_list2:\n",
    "    if i not in test_list1:\n",
    "        res_list.append(i)\n",
    "        \n",
    "print(res_list)"
   ]
  },
  {
   "cell_type": "markdown",
   "id": "208c7411",
   "metadata": {},
   "source": [
    "## program to select Random value form list of lists"
   ]
  },
  {
   "cell_type": "code",
   "execution_count": 11,
   "id": "099b120d",
   "metadata": {},
   "outputs": [
    {
     "name": "stdout",
     "output_type": "stream",
     "text": [
      "4\n"
     ]
    }
   ],
   "source": [
    "## Approach 1: using chain.from_iterable() + random.choice()\n",
    "from itertools import chain\n",
    "import random\n",
    "\n",
    "test_list = [[4, 5, 5], [2, 7, 4], [8, 6, 3]]\n",
    "\n",
    "res = random.choice(list(chain.from_iterable(test_list)))\n",
    "\n",
    "print(res)"
   ]
  },
  {
   "cell_type": "code",
   "execution_count": 15,
   "id": "3c05f7b1",
   "metadata": {},
   "outputs": [
    {
     "name": "stdout",
     "output_type": "stream",
     "text": [
      "7\n"
     ]
    }
   ],
   "source": [
    "## Approach 2: using choice() to get element from particular row\n",
    "\n",
    "test_list = [[4, 5, 5], [2, 7, 4], [8, 6, 3]]\n",
    "\n",
    "r_no = 1\n",
    "res = random.choice(test_list[r_no])\n",
    "print(res)"
   ]
  },
  {
   "cell_type": "markdown",
   "id": "d56ee063",
   "metadata": {},
   "source": [
    "## Reverse Row sort in Lists of List"
   ]
  },
  {
   "cell_type": "code",
   "execution_count": 16,
   "id": "b6347756",
   "metadata": {},
   "outputs": [
    {
     "name": "stdout",
     "output_type": "stream",
     "text": [
      "[[6, 4, 1], [8, 7], [10, 8, 4]]\n"
     ]
    }
   ],
   "source": [
    "## Approach 1: using for loop\n",
    "\n",
    "test_list = [[4, 1, 6], [7, 8], [4, 10, 8]]\n",
    "\n",
    "for ele in test_list:\n",
    "    ele.sort(reverse=True)\n",
    "    \n",
    "print(test_list)"
   ]
  },
  {
   "cell_type": "code",
   "execution_count": 18,
   "id": "1b3d20c7",
   "metadata": {},
   "outputs": [
    {
     "name": "stdout",
     "output_type": "stream",
     "text": [
      "[[6, 4, 1], [8, 7], [10, 8, 4]]\n"
     ]
    }
   ],
   "source": [
    "## Approach 2: using list comprehension + sorted()\n",
    "\n",
    "test_list = [[4, 1, 6], [7, 8], [4, 10, 8]]\n",
    "\n",
    "res = [sorted(sub, reverse=True)for sub in test_list]\n",
    "\n",
    "print(res)"
   ]
  },
  {
   "cell_type": "code",
   "execution_count": 19,
   "id": "838ef4c9",
   "metadata": {},
   "outputs": [
    {
     "name": "stdout",
     "output_type": "stream",
     "text": [
      "[[6, 4, 1], [8, 7], [10, 8, 4]]\n"
     ]
    }
   ],
   "source": [
    "## Approach 3: using map() + sorted()\n",
    "\n",
    "test_list = [[4, 1, 6], [7, 8], [4, 10, 8]]\n",
    "\n",
    "res = list(map(lambda x: sorted(x, reverse=True), test_list))\n",
    "\n",
    "print(res)"
   ]
  },
  {
   "cell_type": "markdown",
   "id": "a5685dd5",
   "metadata": {},
   "source": [
    "## Pair elements with Rear element in Matrix Row"
   ]
  },
  {
   "cell_type": "code",
   "execution_count": 21,
   "id": "9b541d7c",
   "metadata": {},
   "outputs": [
    {
     "name": "stdout",
     "output_type": "stream",
     "text": [
      "Original list:  [[4, 5, 6], [2, 4, 5], [6, 7, 5]]\n",
      "After pairing list:  [[[4, 6], [5, 6]], [[2, 5], [4, 5]], [[6, 5], [7, 5]]]\n"
     ]
    }
   ],
   "source": [
    "test_list = [[4, 5, 6], [2, 4, 5], [6, 7, 5]]\n",
    "\n",
    "print(\"Original list: \", test_list)\n",
    "\n",
    "res = []\n",
    "\n",
    "for sub in test_list:\n",
    "    res.append([[ele, sub[-1]]for ele in sub[:-1]])\n",
    "print(\"After pairing list: \", res)"
   ]
  },
  {
   "cell_type": "code",
   "execution_count": null,
   "id": "11bff4cb",
   "metadata": {},
   "outputs": [],
   "source": []
  }
 ],
 "metadata": {
  "kernelspec": {
   "display_name": "Python 3",
   "language": "python",
   "name": "python3"
  },
  "language_info": {
   "codemirror_mode": {
    "name": "ipython",
    "version": 3
   },
   "file_extension": ".py",
   "mimetype": "text/x-python",
   "name": "python",
   "nbconvert_exporter": "python",
   "pygments_lexer": "ipython3",
   "version": "3.6.13"
  }
 },
 "nbformat": 4,
 "nbformat_minor": 5
}
