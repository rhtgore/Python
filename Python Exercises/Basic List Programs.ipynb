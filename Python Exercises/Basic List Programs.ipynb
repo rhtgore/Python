{
 "cells": [
  {
   "cell_type": "markdown",
   "id": "f862317e",
   "metadata": {},
   "source": [
    "## program to interchange first and last elements in a list"
   ]
  },
  {
   "cell_type": "markdown",
   "id": "97ee92d5",
   "metadata": {},
   "source": [
    "Input : [12, 35, 9, 56, 24]\n",
    "Output : [24, 35, 9, 56, 12]\n",
    "\n",
    "Input : [1, 2, 3]\n",
    "Output : [3, 2, 1]"
   ]
  },
  {
   "cell_type": "code",
   "execution_count": 1,
   "id": "ce745f41",
   "metadata": {},
   "outputs": [
    {
     "data": {
      "text/plain": [
       "[6, 4, 5, 2]"
      ]
     },
     "execution_count": 1,
     "metadata": {},
     "output_type": "execute_result"
    }
   ],
   "source": [
    "##Approach 1: Get length of list and swap 0th element with length-1 element\n",
    "\n",
    "def swapFirstLastElement(lst):\n",
    "    n = len(lst)\n",
    "    \n",
    "    #swapping\n",
    "    tmp = lst[0]\n",
    "    lst[0] = lst[n-1]\n",
    "    lst[n-1] = tmp\n",
    "    \n",
    "    return lst\n",
    "\n",
    "newLst = [2, 4, 5, 6]\n",
    "\n",
    "swapFirstLastElement(newLst)"
   ]
  },
  {
   "cell_type": "code",
   "execution_count": 3,
   "id": "cce6ba1e",
   "metadata": {},
   "outputs": [
    {
     "data": {
      "text/plain": [
       "[6, 4, 5, 2]"
      ]
     },
     "execution_count": 3,
     "metadata": {},
     "output_type": "execute_result"
    }
   ],
   "source": [
    "##Approach 2: swap elements using 0th and -1th element\n",
    "\n",
    "def swapFirstLastElement(lst):\n",
    "    lst[0], lst[-1] = lst[-1], lst[0]\n",
    "    \n",
    "    return lst\n",
    "\n",
    "newLst = [2, 4, 5, 6]\n",
    "\n",
    "swapFirstLastElement(newLst)"
   ]
  },
  {
   "cell_type": "code",
   "execution_count": 4,
   "id": "f28ba330",
   "metadata": {},
   "outputs": [
    {
     "data": {
      "text/plain": [
       "[6, 4, 5, 2]"
      ]
     },
     "execution_count": 4,
     "metadata": {},
     "output_type": "execute_result"
    }
   ],
   "source": [
    "##Approach 3: using * operand.\n",
    "\n",
    "def swapFirstLastElement(lst):\n",
    "    first, *middle, last = lst\n",
    "    lst = [last, *middle, first]\n",
    "    \n",
    "    return lst\n",
    "\n",
    "newLst = [2, 4, 5, 6]\n",
    "\n",
    "swapFirstLastElement(newLst)"
   ]
  },
  {
   "cell_type": "markdown",
   "id": "735b5112",
   "metadata": {},
   "source": [
    "## Program to swap two elements in a list"
   ]
  },
  {
   "cell_type": "markdown",
   "id": "84ac5d9b",
   "metadata": {},
   "source": [
    "Input : List = [23, 65, 19, 90], pos1 = 1, pos2 = 3\n",
    "Output : [19, 65, 23, 90]\n",
    "\n",
    "Input : List = [1, 2, 3, 4, 5], pos1 = 2, pos2 = 5\n",
    "Output : [1, 5, 3, 4, 2]"
   ]
  },
  {
   "cell_type": "code",
   "execution_count": 6,
   "id": "4af5ecaf",
   "metadata": {},
   "outputs": [
    {
     "data": {
      "text/plain": [
       "[23, 20, 19, 25]"
      ]
     },
     "execution_count": 6,
     "metadata": {},
     "output_type": "execute_result"
    }
   ],
   "source": [
    "## Approach 1: Simple swap with comma assignment\n",
    "\n",
    "def swapTwoElementsInList(lst, pos1, pos2):\n",
    "    \n",
    "    lst[pos1-1], lst[pos2-1] = lst[pos2-1], lst[pos1-1]\n",
    "    \n",
    "    return lst\n",
    "\n",
    "newLst = [19, 20, 23, 25]\n",
    "\n",
    "swapTwoElementsInList(newLst, 1, 3)"
   ]
  },
  {
   "cell_type": "markdown",
   "id": "f127c6b3",
   "metadata": {},
   "source": [
    "## Swap elements in String list "
   ]
  },
  {
   "cell_type": "code",
   "execution_count": 21,
   "id": "0212d3ec",
   "metadata": {},
   "outputs": [
    {
     "name": "stdout",
     "output_type": "stream",
     "text": [
      "The original List:  ['fame', 'def', 'me', 'user']\n",
      "The swaped list: ['eamf', 'dfe', 'mf', 'usfr']\n"
     ]
    }
   ],
   "source": [
    "## Approach 1: using replace and list comprehension\n",
    "\n",
    "lst = ['fame', 'def', 'me', 'user']\n",
    "\n",
    "print(\"The original List: \", lst)\n",
    "\n",
    "swaped = [ele.replace(\"f\", \"-\").replace(\"e\", \"f\").replace(\"-\", \"e\") for ele in lst]\n",
    "\n",
    "print('The swaped list:', swaped)"
   ]
  },
  {
   "cell_type": "code",
   "execution_count": 25,
   "id": "b72b94e0",
   "metadata": {},
   "outputs": [
    {
     "name": "stdout",
     "output_type": "stream",
     "text": [
      "The original List:  ['fame', 'def', 'me', 'user']\n",
      "The swaped list: ['eamf', 'dfe', 'mf', 'usfr']\n"
     ]
    }
   ],
   "source": [
    "## Approach 2: join(), replace(), split()\n",
    "\n",
    "lst = ['fame', 'def', 'me', 'user']\n",
    "\n",
    "print(\"The original List: \", lst)\n",
    "\n",
    "res = \",\".join(lst)\n",
    "swaped = res.replace(\"f\", \"-\").replace(\"e\", \"f\").replace(\"-\", \"e\").split(\",\")\n",
    "\n",
    "print('The swaped list:', swaped)\n"
   ]
  },
  {
   "cell_type": "markdown",
   "id": "148a0c7a",
   "metadata": {},
   "source": [
    "## Ways to find length of list "
   ]
  },
  {
   "cell_type": "code",
   "execution_count": 27,
   "id": "5e8f1459",
   "metadata": {},
   "outputs": [
    {
     "name": "stdout",
     "output_type": "stream",
     "text": [
      "Length of lst is 100\n"
     ]
    }
   ],
   "source": [
    "## using counter for loop method\n",
    "\n",
    "lst = [i for i in range(100)]\n",
    "\n",
    "counter = 0\n",
    "for i in lst:\n",
    "    \n",
    "    counter = counter + 1\n",
    "    \n",
    "print(f\"Length of lst is {counter}\")"
   ]
  },
  {
   "cell_type": "code",
   "execution_count": 28,
   "id": "a964ca20",
   "metadata": {},
   "outputs": [
    {
     "name": "stdout",
     "output_type": "stream",
     "text": [
      "Length of lst is 100\n"
     ]
    }
   ],
   "source": [
    "## using len function\n",
    "\n",
    "lst = [i for i in range(100)]\n",
    "\n",
    "length_of_list = len(lst)\n",
    "\n",
    "print(f\"Length of lst is {length_of_list}\")"
   ]
  },
  {
   "cell_type": "code",
   "execution_count": 29,
   "id": "e79122b4",
   "metadata": {},
   "outputs": [
    {
     "name": "stdout",
     "output_type": "stream",
     "text": [
      "Length of lst is 100\n"
     ]
    }
   ],
   "source": [
    "## using length_hint\n",
    "\n",
    "from operator import length_hint\n",
    "\n",
    "lst = [i for i in range(100)]\n",
    "\n",
    "length_of_list = length_hint(lst)\n",
    "\n",
    "print(f\"Length of lst is {length_of_list}\")\n"
   ]
  },
  {
   "cell_type": "code",
   "execution_count": 39,
   "id": "d5f69082",
   "metadata": {},
   "outputs": [
    {
     "name": "stdout",
     "output_type": "stream",
     "text": [
      "Time taken using counter:  2.590947151184082\n",
      "Time taken using len:  0.0\n",
      "Time taken using len_hint:  0.0\n"
     ]
    }
   ],
   "source": [
    "## Performance analysis of counter, len, length_hint \n",
    "\n",
    "from operator import length_hint\n",
    "import time\n",
    "\n",
    "lst = [i for i in range(10000000)]\n",
    "\n",
    "start_time_counter = time.time()\n",
    "counter = 0\n",
    "for i in lst:\n",
    "    \n",
    "    counter = counter + 1\n",
    "end_time_counter = str(time.time() - start_time_counter)\n",
    "\n",
    "start_time_len = time.time()\n",
    "lst_len = len(lst)\n",
    "end_time_len = str(time.time() - start_time_len)\n",
    "\n",
    "start_time_len_hint = time.time()\n",
    "lst_len_hint = length_hint(lst)\n",
    "end_time_len_hint = str(time.time() - start_time_len_hint)\n",
    "\n",
    "print(\"Time taken using counter: \", end_time_counter)\n",
    "print(\"Time taken using len: \", end_time_len)\n",
    "print(\"Time taken using len_hint: \", end_time_len_hint)\n"
   ]
  },
  {
   "cell_type": "markdown",
   "id": "4ed7eea6",
   "metadata": {},
   "source": [
    "## Maximum of two numbers "
   ]
  },
  {
   "cell_type": "code",
   "execution_count": 41,
   "id": "b997a671",
   "metadata": {},
   "outputs": [
    {
     "data": {
      "text/plain": [
       "6"
      ]
     },
     "execution_count": 41,
     "metadata": {},
     "output_type": "execute_result"
    }
   ],
   "source": [
    "## Approach 1: using if-else \n",
    "\n",
    "def maximum(a, b):\n",
    "    \n",
    "    if a>b:\n",
    "        return a\n",
    "    else:\n",
    "        return b\n",
    "\n",
    "maximum(5, 6)"
   ]
  },
  {
   "cell_type": "code",
   "execution_count": 42,
   "id": "00f5b34e",
   "metadata": {},
   "outputs": [
    {
     "data": {
      "text/plain": [
       "6"
      ]
     },
     "execution_count": 42,
     "metadata": {},
     "output_type": "execute_result"
    }
   ],
   "source": [
    "## Approach 2: using max() function\n",
    "\n",
    "max(5,6)"
   ]
  },
  {
   "cell_type": "code",
   "execution_count": 43,
   "id": "a815d190",
   "metadata": {},
   "outputs": [
    {
     "name": "stdout",
     "output_type": "stream",
     "text": [
      "6\n"
     ]
    }
   ],
   "source": [
    "## Approach 3: using ternary operator\n",
    "\n",
    "a = 5\n",
    "b = 6\n",
    "\n",
    "print(a if a>b else b)"
   ]
  },
  {
   "cell_type": "code",
   "execution_count": 45,
   "id": "0d4a89a9",
   "metadata": {},
   "outputs": [
    {
     "name": "stdout",
     "output_type": "stream",
     "text": [
      "6\n"
     ]
    }
   ],
   "source": [
    "## Approach 4: using lambda function\n",
    "\n",
    "a = 5\n",
    "b = 6\n",
    "\n",
    "maximum = lambda a,b: a if a>b else b\n",
    "\n",
    "print(maximum(a,b))"
   ]
  },
  {
   "cell_type": "markdown",
   "id": "f1955065",
   "metadata": {},
   "source": [
    "## Minimum of two numbers"
   ]
  },
  {
   "cell_type": "code",
   "execution_count": 47,
   "id": "eed98046",
   "metadata": {},
   "outputs": [
    {
     "data": {
      "text/plain": [
       "5"
      ]
     },
     "execution_count": 47,
     "metadata": {},
     "output_type": "execute_result"
    }
   ],
   "source": [
    "## Approach 1: using if-else\n",
    "\n",
    "def minimum(a, b):\n",
    "\n",
    "    if a<b:\n",
    "        return a\n",
    "    else:\n",
    "        return b\n",
    "    \n",
    "minimum(5,6)"
   ]
  },
  {
   "cell_type": "code",
   "execution_count": 48,
   "id": "b434e9b4",
   "metadata": {},
   "outputs": [
    {
     "data": {
      "text/plain": [
       "5"
      ]
     },
     "execution_count": 48,
     "metadata": {},
     "output_type": "execute_result"
    }
   ],
   "source": [
    "## Approach 2: usig min function\n",
    "\n",
    "min(5,6)"
   ]
  },
  {
   "cell_type": "code",
   "execution_count": 49,
   "id": "d4922524",
   "metadata": {},
   "outputs": [
    {
     "name": "stdout",
     "output_type": "stream",
     "text": [
      "5\n"
     ]
    }
   ],
   "source": [
    "## Approach 3: using ternary operator\n",
    "a=5\n",
    "b=6\n",
    "print(a if a<b else b)"
   ]
  },
  {
   "cell_type": "code",
   "execution_count": 50,
   "id": "ac769c7e",
   "metadata": {},
   "outputs": [
    {
     "data": {
      "text/plain": [
       "5"
      ]
     },
     "execution_count": 50,
     "metadata": {},
     "output_type": "execute_result"
    }
   ],
   "source": [
    "## Approach 4: using lambda function\n",
    "\n",
    "a=5\n",
    "b=6\n",
    "\n",
    "minimum = lambda a,b: a if a<b else b\n",
    "\n",
    "minimum(a,b)"
   ]
  },
  {
   "cell_type": "markdown",
   "id": "5785feb6",
   "metadata": {},
   "source": [
    "## Check if element exists in list "
   ]
  },
  {
   "cell_type": "code",
   "execution_count": 52,
   "id": "3b0e6fca",
   "metadata": {},
   "outputs": [
    {
     "name": "stdout",
     "output_type": "stream",
     "text": [
      "Exist\n"
     ]
    }
   ],
   "source": [
    "## Approach 1: if -else\n",
    "\n",
    "lst = [1,2, 3, 5]\n",
    "\n",
    "ele = 5\n",
    "\n",
    "if ele in lst:\n",
    "    print('Exist')\n",
    "else:\n",
    "    print(\"Not Exist\")"
   ]
  },
  {
   "cell_type": "code",
   "execution_count": 53,
   "id": "abc8b38f",
   "metadata": {},
   "outputs": [
    {
     "name": "stdout",
     "output_type": "stream",
     "text": [
      "Exists\n"
     ]
    }
   ],
   "source": [
    "## Approach 2: using count\n",
    "lst = [1,2, 3, 5]\n",
    "\n",
    "ele = 5\n",
    "\n",
    "ele_Count = lst.count(ele)\n",
    "\n",
    "if ele_Count > 0 :\n",
    "    print(\"Exists\")\n",
    "else:\n",
    "    print(\"Not Exists\")\n",
    "    \n"
   ]
  },
  {
   "cell_type": "code",
   "execution_count": 55,
   "id": "e4fc2cee",
   "metadata": {},
   "outputs": [
    {
     "name": "stdout",
     "output_type": "stream",
     "text": [
      "True\n"
     ]
    }
   ],
   "source": [
    "## Approach 3: using any()\n",
    "\n",
    "lst = [1,2, 3, 5]\n",
    "\n",
    "ele = 5\n",
    "\n",
    "result = any(i==ele for i in lst)\n",
    "\n",
    "print(result)"
   ]
  },
  {
   "cell_type": "markdown",
   "id": "9121986d",
   "metadata": {},
   "source": [
    "## Different ways to clear a list"
   ]
  },
  {
   "cell_type": "code",
   "execution_count": 58,
   "id": "81ad83bb",
   "metadata": {},
   "outputs": [
    {
     "name": "stdout",
     "output_type": "stream",
     "text": [
      "lst before clear:  [1, 2, 3, 5]\n",
      "lst after clear:  []\n"
     ]
    }
   ],
   "source": [
    "## Approach 1: using clear()\n",
    "\n",
    "lst = [1, 2, 3, 5]\n",
    "\n",
    "print(\"lst before clear: \", lst)\n",
    "\n",
    "lst.clear()\n",
    "\n",
    "print(\"lst after clear: \", lst)"
   ]
  },
  {
   "cell_type": "code",
   "execution_count": 59,
   "id": "e5a99b84",
   "metadata": {},
   "outputs": [
    {
     "name": "stdout",
     "output_type": "stream",
     "text": [
      "lst before clear:  [1, 2, 3, 5]\n",
      "lst after clear:  []\n"
     ]
    }
   ],
   "source": [
    "## Approach 2: using *=0\n",
    "\n",
    "lst = [1, 2, 3, 5]\n",
    "\n",
    "print(\"lst before clear: \", lst)\n",
    "\n",
    "lst *=0\n",
    "\n",
    "print(\"lst after clear: \", lst)"
   ]
  },
  {
   "cell_type": "code",
   "execution_count": 60,
   "id": "77bd4418",
   "metadata": {},
   "outputs": [
    {
     "name": "stdout",
     "output_type": "stream",
     "text": [
      "lst before clear:  [1, 2, 3, 5]\n",
      "lst after clear:  []\n"
     ]
    }
   ],
   "source": [
    "## Approach 3: using del\n",
    "\n",
    "lst = [1, 2, 3, 5]\n",
    "\n",
    "print(\"lst before clear: \", lst)\n",
    "\n",
    "del lst[:]\n",
    "\n",
    "print(\"lst after clear: \", lst)"
   ]
  },
  {
   "cell_type": "markdown",
   "id": "f410c40f",
   "metadata": {},
   "source": [
    "## Reversing a List "
   ]
  },
  {
   "cell_type": "code",
   "execution_count": 65,
   "id": "95dea760",
   "metadata": {},
   "outputs": [
    {
     "name": "stdout",
     "output_type": "stream",
     "text": [
      "[10, 11, 12, 13, 14, 15]\n",
      "[15, 14, 13, 12, 11, 10]\n"
     ]
    }
   ],
   "source": [
    "## Approach 1: using reversed()\n",
    "\n",
    "lst = [10, 11, 12, 13, 14, 15]\n",
    "print(lst)\n",
    "print(list(reversed(lst)))"
   ]
  },
  {
   "cell_type": "code",
   "execution_count": 66,
   "id": "9db935da",
   "metadata": {},
   "outputs": [
    {
     "name": "stdout",
     "output_type": "stream",
     "text": [
      "[10, 11, 12, 13, 14, 15]\n",
      "[15, 14, 13, 12, 11, 10]\n"
     ]
    }
   ],
   "source": [
    "## Approach 2: using insert()\n",
    "\n",
    "lst = [10, 11, 12, 13, 14, 15]\n",
    "print(lst)\n",
    "\n",
    "l = []\n",
    "\n",
    "for i in lst:\n",
    "    l.insert(0, i)\n",
    "\n",
    "print(l)"
   ]
  },
  {
   "cell_type": "code",
   "execution_count": 67,
   "id": "298c8fe3",
   "metadata": {},
   "outputs": [
    {
     "name": "stdout",
     "output_type": "stream",
     "text": [
      "[10, 11, 12, 13, 14, 15]\n",
      "[15, 14, 13, 12, 11, 10]\n"
     ]
    }
   ],
   "source": [
    "## Approach 3: using slicing technique\n",
    "\n",
    "lst = [10, 11, 12, 13, 14, 15]\n",
    "print(lst)\n",
    "\n",
    "print(lst[::-1])"
   ]
  },
  {
   "cell_type": "code",
   "execution_count": 68,
   "id": "5e32f667",
   "metadata": {},
   "outputs": [
    {
     "name": "stdout",
     "output_type": "stream",
     "text": [
      "[10, 11, 12, 13, 14, 15]\n",
      "[15, 14, 13, 12, 11, 10]\n"
     ]
    }
   ],
   "source": [
    "## Approach 4: using list comprehension\n",
    "\n",
    "lst = [10, 11, 12, 13, 14, 15]\n",
    "print(lst)\n",
    "\n",
    "rev_lst = [lst[len(lst) - i] for i in range(1, len(lst)+1)]\n",
    "\n",
    "print(rev_lst)"
   ]
  },
  {
   "cell_type": "markdown",
   "id": "ef704982",
   "metadata": {},
   "source": [
    "## Cloning or Copying a list"
   ]
  },
  {
   "cell_type": "code",
   "execution_count": 69,
   "id": "bd74fbe7",
   "metadata": {},
   "outputs": [
    {
     "name": "stdout",
     "output_type": "stream",
     "text": [
      "[10, 11, 12, 13, 14, 15]\n",
      "[10, 11, 12, 13, 14, 15]\n"
     ]
    }
   ],
   "source": [
    "## Approach 1: slicing\n",
    "\n",
    "lst = [10, 11, 12, 13, 14, 15]\n",
    "print(lst)\n",
    "newlst = lst[:]\n",
    "print(newlst)"
   ]
  },
  {
   "cell_type": "code",
   "execution_count": 75,
   "id": "62d2bb01",
   "metadata": {},
   "outputs": [
    {
     "name": "stdout",
     "output_type": "stream",
     "text": [
      "[10, 11, 12, 13, 14, 15]\n",
      "[10, 11, 12, 13, 14, 15]\n"
     ]
    }
   ],
   "source": [
    "## Approach 2: using = assignment operator \n",
    "\n",
    "lst = [10, 11, 12, 13, 14, 15]\n",
    "print(lst)\n",
    "newlst = lst\n",
    "print(newlst)"
   ]
  },
  {
   "cell_type": "code",
   "execution_count": 77,
   "id": "4b55ce07",
   "metadata": {},
   "outputs": [
    {
     "name": "stdout",
     "output_type": "stream",
     "text": [
      "[10, 11, 12, 13, 14, 15]\n",
      "[10, 11, 12, 13, 14, 15]\n"
     ]
    }
   ],
   "source": [
    "## Approach 3: using shallow copy\n",
    "\n",
    "import copy \n",
    "\n",
    "lst = [10, 11, 12, 13, 14, 15]\n",
    "print(lst)\n",
    "newlst = copy.copy(lst)\n",
    "print(newlst)"
   ]
  },
  {
   "cell_type": "code",
   "execution_count": 78,
   "id": "76c0f109",
   "metadata": {},
   "outputs": [
    {
     "name": "stdout",
     "output_type": "stream",
     "text": [
      "[10, 11, 12, 13, 14, 15]\n",
      "[10, 11, 12, 13, 14, 15]\n"
     ]
    }
   ],
   "source": [
    "## Approach 4: using append\n",
    "\n",
    "lst = [10, 11, 12, 13, 14, 15]\n",
    "print(lst)\n",
    "newlst = []\n",
    "for i in lst: newlst.append(i)\n",
    "print(newlst)"
   ]
  },
  {
   "cell_type": "code",
   "execution_count": 79,
   "id": "57f8b91e",
   "metadata": {},
   "outputs": [
    {
     "name": "stdout",
     "output_type": "stream",
     "text": [
      "[10, 11, 12, 13, 14, 15]\n",
      "[10, 11, 12, 13, 14, 15]\n"
     ]
    }
   ],
   "source": [
    "## Approach 5: using copy methon\n",
    "lst = [10, 11, 12, 13, 14, 15]\n",
    "print(lst)\n",
    "newlst = lst.copy()\n",
    "print(newlst)"
   ]
  },
  {
   "cell_type": "code",
   "execution_count": 80,
   "id": "ba7465dc",
   "metadata": {},
   "outputs": [
    {
     "name": "stdout",
     "output_type": "stream",
     "text": [
      "[10, 11, 12, 13, 14, 15, [1, 4]]\n",
      "[10, 11, 12, 13, 14, 15, [1, 4]]\n"
     ]
    }
   ],
   "source": [
    "## Approach 6: using deep copy\n",
    "\n",
    "import copy\n",
    "\n",
    "lst = [10, 11, 12, 13, 14, 15, [1,4]]\n",
    "print(lst)\n",
    "newlst = copy.deepcopy(lst)\n",
    "print(newlst)"
   ]
  },
  {
   "cell_type": "markdown",
   "id": "38e65f10",
   "metadata": {},
   "source": [
    "## Count occurrences of an element in a list"
   ]
  },
  {
   "cell_type": "code",
   "execution_count": 81,
   "id": "5e214a62",
   "metadata": {},
   "outputs": [
    {
     "data": {
      "text/plain": [
       "3"
      ]
     },
     "execution_count": 81,
     "metadata": {},
     "output_type": "execute_result"
    }
   ],
   "source": [
    "## Approach 1: using loop \n",
    "\n",
    "def countX(lst, x):\n",
    "    count = 0\n",
    "    for i in lst:\n",
    "        if (x == i):\n",
    "            count = count+1\n",
    "    return count\n",
    "\n",
    "lst = [1, 2, 3, 3, 3, 4, 4]\n",
    "x = 3\n",
    "\n",
    "countX(lst, x)"
   ]
  },
  {
   "cell_type": "code",
   "execution_count": 82,
   "id": "1ad825ed",
   "metadata": {},
   "outputs": [
    {
     "data": {
      "text/plain": [
       "3"
      ]
     },
     "execution_count": 82,
     "metadata": {},
     "output_type": "execute_result"
    }
   ],
   "source": [
    "## Approach 2: using count()\n",
    "\n",
    "lst = [1, 2, 3, 3, 3, 4, 4]\n",
    "x = 3\n",
    "\n",
    "lst.count(3)"
   ]
  },
  {
   "cell_type": "code",
   "execution_count": 84,
   "id": "3fb0798f",
   "metadata": {},
   "outputs": [
    {
     "name": "stdout",
     "output_type": "stream",
     "text": [
      "Counter({3: 3, 4: 2, 1: 1, 2: 1})\n",
      "3\n"
     ]
    }
   ],
   "source": [
    "## Approach 3: using collections Counter\n",
    "\n",
    "from collections import Counter\n",
    "lst = [1, 2, 3, 3, 3, 4, 4]\n",
    "x = 3\n",
    "cntr = Counter(lst)\n",
    "print(cntr)\n",
    "print(cntr[x])"
   ]
  },
  {
   "cell_type": "code",
   "execution_count": 85,
   "id": "646d8869",
   "metadata": {},
   "outputs": [
    {
     "data": {
      "text/plain": [
       "3"
      ]
     },
     "execution_count": 85,
     "metadata": {},
     "output_type": "execute_result"
    }
   ],
   "source": [
    "## Approach 4: using countOf()\n",
    "\n",
    "import operator as op\n",
    "lst = [1, 2, 3, 3, 3, 4, 4]\n",
    "x = 3\n",
    "op.countOf(lst, x)"
   ]
  },
  {
   "cell_type": "markdown",
   "id": "f34c123b",
   "metadata": {},
   "source": [
    "## Sum of number digits in List"
   ]
  },
  {
   "cell_type": "code",
   "execution_count": 86,
   "id": "1815a8ad",
   "metadata": {},
   "outputs": [
    {
     "name": "stdout",
     "output_type": "stream",
     "text": [
      "[23, 45, 95, 12, 41]\n",
      "[5, 9, 14, 3, 5]\n"
     ]
    }
   ],
   "source": [
    "## Approach 1: using loop + str()\n",
    "\n",
    "lst = [23, 45, 95, 12, 41]\n",
    "\n",
    "res=[]\n",
    "\n",
    "for ele in lst:\n",
    "    sum = 0\n",
    "    for i in str(ele):\n",
    "        sum += int(i)\n",
    "    res.append(sum)\n",
    "print(lst)\n",
    "print(res)"
   ]
  },
  {
   "cell_type": "markdown",
   "id": "5e29335b",
   "metadata": {},
   "source": [
    "## Multiply all numbers in the list"
   ]
  },
  {
   "cell_type": "code",
   "execution_count": 93,
   "id": "3d027156",
   "metadata": {},
   "outputs": [
    {
     "name": "stdout",
     "output_type": "stream",
     "text": [
      "6\n",
      "24\n"
     ]
    }
   ],
   "source": [
    "## Approach 1: using traversal\n",
    "\n",
    "def multiplyList(lst):\n",
    "    res = 1\n",
    "    for i in lst:\n",
    "        res *=i\n",
    "    return res\n",
    "\n",
    "\n",
    "list1 = [1, 2, 3]\n",
    "list2 = [3, 2, 4]\n",
    "\n",
    "print(multiplyList(list1))\n",
    "print(multiplyList(list2))\n"
   ]
  },
  {
   "cell_type": "code",
   "execution_count": 94,
   "id": "158e8758",
   "metadata": {},
   "outputs": [
    {
     "name": "stdout",
     "output_type": "stream",
     "text": [
      "6\n",
      "24\n"
     ]
    }
   ],
   "source": [
    "## Approach 2: using numpy prod()\n",
    "\n",
    "import numpy as np\n",
    "\n",
    "list1 = [1, 2, 3]\n",
    "list2 = [3, 2, 4]\n",
    "\n",
    "print(np.prod(list1))\n",
    "print(np.prod(list2))"
   ]
  },
  {
   "cell_type": "code",
   "execution_count": 97,
   "id": "1c6fa249",
   "metadata": {},
   "outputs": [
    {
     "name": "stdout",
     "output_type": "stream",
     "text": [
      "6\n",
      "24\n"
     ]
    }
   ],
   "source": [
    "## Approach 3: using reduce function\n",
    "\n",
    "from functools import reduce\n",
    "\n",
    "list1 = [1, 2, 3]\n",
    "list2 = [3, 2, 4]\n",
    "\n",
    "res1 = reduce((lambda x, y: x*y), list1)\n",
    "res2 = reduce((lambda x, y: x*y), list2)\n",
    "\n",
    "print(res1)\n",
    "print(res2)"
   ]
  },
  {
   "cell_type": "markdown",
   "id": "e1f11e14",
   "metadata": {},
   "source": [
    "## program to find second largest number in a list"
   ]
  },
  {
   "cell_type": "code",
   "execution_count": 105,
   "id": "b2e6cfe7",
   "metadata": {},
   "outputs": [
    {
     "name": "stdout",
     "output_type": "stream",
     "text": [
      "[10, 20, 20, 4, 45, 45, 45, 99, 99]\n",
      "[99, 4, 10, 45, 20]\n",
      "[4, 10, 20, 45, 99]\n",
      "45\n"
     ]
    }
   ],
   "source": [
    "## Approach 1: using set and sort\n",
    "list1 = [10, 20, 20, 4, 45, 45, 45, 99, 99]\n",
    "print(list1)\n",
    "list2 = list(set(list1))\n",
    "print(list2)\n",
    "list2.sort()\n",
    "print(list2)\n",
    "print(list2[-2])"
   ]
  },
  {
   "cell_type": "code",
   "execution_count": 106,
   "id": "bc18eaa5",
   "metadata": {},
   "outputs": [
    {
     "name": "stdout",
     "output_type": "stream",
     "text": [
      "[10, 20, 20, 4, 45, 45, 45, 99, 99]\n",
      "[99, 4, 10, 45, 20]\n",
      "[4, 10, 45, 20]\n",
      "45\n"
     ]
    }
   ],
   "source": [
    "## Approach 2: by removing max \n",
    "\n",
    "list1 = [10, 20, 20, 4, 45, 45, 45, 99, 99]\n",
    "print(list1)\n",
    "list2 = list(set(list1))\n",
    "print(list2)\n",
    "list2.remove(max(list2))\n",
    "print(list2)\n",
    "print(max(list2))"
   ]
  },
  {
   "cell_type": "markdown",
   "id": "6079a835",
   "metadata": {},
   "source": [
    "## Remove empty tuples from a list"
   ]
  },
  {
   "cell_type": "code",
   "execution_count": 109,
   "id": "eb5c705c",
   "metadata": {},
   "outputs": [
    {
     "data": {
      "text/plain": [
       "[('ram', '15', '8'), ('laxman', 'sita'), ('krishna', 'akbar', '45'), ('', '')]"
      ]
     },
     "execution_count": 109,
     "metadata": {},
     "output_type": "execute_result"
    }
   ],
   "source": [
    "## Approach 1: using list comprehension\n",
    "\n",
    "def Remove(tuples):\n",
    "    tuples = [i for i in tuples if i]\n",
    "    return tuples\n",
    "\n",
    "tuples = [(), ('ram','15','8'), (), ('laxman', 'sita'),\n",
    "          ('krishna', 'akbar', '45'), ('',''),()]\n",
    "\n",
    "Remove(tuples)"
   ]
  },
  {
   "cell_type": "code",
   "execution_count": 111,
   "id": "c5ad0822",
   "metadata": {},
   "outputs": [
    {
     "name": "stdout",
     "output_type": "stream",
     "text": [
      "[('ram', '15', '8'), ('laxman', 'sita'), ('krishna', 'akbar', '45'), ('', '')]\n"
     ]
    }
   ],
   "source": [
    "## Approach 2: using filter\n",
    "\n",
    "tuples = [(), ('ram','15','8'), (), ('laxman', 'sita'),\n",
    "          ('krishna', 'akbar', '45'), ('',''),()]\n",
    "\n",
    "tuples = list(filter(None, tuples))\n",
    "print(tuples)"
   ]
  },
  {
   "cell_type": "markdown",
   "id": "fedac0c6",
   "metadata": {},
   "source": [
    "## Program to print duplicates from a list of integers"
   ]
  },
  {
   "cell_type": "code",
   "execution_count": 112,
   "id": "8f6b79c7",
   "metadata": {},
   "outputs": [
    {
     "data": {
      "text/plain": [
       "[20, 30, -20, 60]"
      ]
     },
     "execution_count": 112,
     "metadata": {},
     "output_type": "execute_result"
    }
   ],
   "source": [
    "## Approach 1: using Brute Force method\n",
    "\n",
    "def repeated(lst):\n",
    "    n = len(lst)\n",
    "    repeated = []\n",
    "    \n",
    "    for i in range(n):\n",
    "        k = i+1\n",
    "        for j in range(k, n):\n",
    "            if lst[i] == lst[j] and lst[i] not in repeated:\n",
    "                repeated.append(lst[i])\n",
    "    return repeated\n",
    "\n",
    "list1 = [10, 20, 30, 20, 20, 30, 40,\n",
    "         50, -20, 60, 60, -20, -20]\n",
    "\n",
    "repeated(list1)"
   ]
  },
  {
   "cell_type": "code",
   "execution_count": 113,
   "id": "da6931ee",
   "metadata": {},
   "outputs": [
    {
     "name": "stdout",
     "output_type": "stream",
     "text": [
      "[20, 30, -20, 60]\n"
     ]
    }
   ],
   "source": [
    "## Approach 2: using collections Counter\n",
    "\n",
    "from collections import Counter\n",
    "list1 = [10, 20, 30, 20, 20, 30, 40,\n",
    "         50, -20, 60, 60, -20, -20]\n",
    "\n",
    "cntr = Counter(list1)\n",
    "\n",
    "repeated = [i for i in cntr if cntr[i] > 1]\n",
    "\n",
    "print(repeated)"
   ]
  },
  {
   "cell_type": "code",
   "execution_count": 114,
   "id": "d27f47e1",
   "metadata": {},
   "outputs": [
    {
     "name": "stdout",
     "output_type": "stream",
     "text": [
      "[1, 2, 5, 9]\n"
     ]
    }
   ],
   "source": [
    "## Approach 3: using count()\n",
    "\n",
    "list = [1, 2, 1, 2, 3, 4, 5, 1, 1, 2, 5, 6, 7, 8, 9, 9]\n",
    "\n",
    "new = []\n",
    "\n",
    "for i in list:\n",
    "    \n",
    "    if list.count(i) > 1:\n",
    "        if i not in new:\n",
    "            new.append(i)\n",
    "print(new)"
   ]
  },
  {
   "cell_type": "code",
   "execution_count": 115,
   "id": "26f605c8",
   "metadata": {},
   "outputs": [
    {
     "data": {
      "text/plain": [
       "[1, 2, 5, 9]"
      ]
     },
     "execution_count": 115,
     "metadata": {},
     "output_type": "execute_result"
    }
   ],
   "source": [
    "## Approach 4: using list - dictionary \n",
    "\n",
    "def duplicate(list):\n",
    "    new_dict, new_list = {}, []\n",
    "    \n",
    "    for i in list:\n",
    "        if i not in new_dict:\n",
    "            new_dict[i] = 1\n",
    "        else:\n",
    "            new_dict[i] +=1\n",
    "    \n",
    "    for key, value in new_dict.items():\n",
    "        if value > 1:\n",
    "            new_list.append(key)\n",
    "    return new_list\n",
    "\n",
    "\n",
    "list = [1, 2, 1, 2, 3, 4, 5, 1, 1, 2, 5, 6, 7, 8, 9, 9]\n",
    "\n",
    "duplicate(list)"
   ]
  },
  {
   "cell_type": "code",
   "execution_count": null,
   "id": "b8448c04",
   "metadata": {},
   "outputs": [],
   "source": []
  }
 ],
 "metadata": {
  "kernelspec": {
   "display_name": "Python 3",
   "language": "python",
   "name": "python3"
  },
  "language_info": {
   "codemirror_mode": {
    "name": "ipython",
    "version": 3
   },
   "file_extension": ".py",
   "mimetype": "text/x-python",
   "name": "python",
   "nbconvert_exporter": "python",
   "pygments_lexer": "ipython3",
   "version": "3.6.13"
  }
 },
 "nbformat": 4,
 "nbformat_minor": 5
}
