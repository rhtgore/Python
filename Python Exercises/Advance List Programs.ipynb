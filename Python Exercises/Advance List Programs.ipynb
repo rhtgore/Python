{
 "cells": [
  {
   "cell_type": "markdown",
   "id": "11b8770c",
   "metadata": {},
   "source": [
    "## How to count unique values inside a list"
   ]
  },
  {
   "cell_type": "code",
   "execution_count": 2,
   "id": "94ab3d54",
   "metadata": {},
   "outputs": [
    {
     "name": "stdout",
     "output_type": "stream",
     "text": [
      "5\n",
      "[1, 2, 5, 8, 4]\n"
     ]
    }
   ],
   "source": [
    "## Approach 1: Brute force approach\n",
    "\n",
    "input_list = [1, 2, 2, 5, 8, 4, 4, 8]\n",
    "\n",
    "res = []\n",
    "count = 0\n",
    "\n",
    "for i in input_list:\n",
    "    if i not in res:\n",
    "        count += 1\n",
    "        res.append(i)\n",
    "print(count)\n",
    "print(res)"
   ]
  },
  {
   "cell_type": "code",
   "execution_count": 4,
   "id": "aa032f1a",
   "metadata": {},
   "outputs": [
    {
     "name": "stdout",
     "output_type": "stream",
     "text": [
      "dict_keys([1, 2, 5, 8, 4])\n",
      "5\n"
     ]
    }
   ],
   "source": [
    "## Approach 2: using collections Counter()\n",
    "\n",
    "from collections import Counter\n",
    "input_list = [1, 2, 2, 5, 8, 4, 4, 8]\n",
    "items = Counter(input_list).keys()\n",
    "print(items)\n",
    "print(len(items))"
   ]
  },
  {
   "cell_type": "code",
   "execution_count": 7,
   "id": "60d34c7d",
   "metadata": {},
   "outputs": [
    {
     "name": "stdout",
     "output_type": "stream",
     "text": [
      "5\n",
      "{1, 2, 4, 5, 8}\n"
     ]
    }
   ],
   "source": [
    "## Approach 3: using set()\n",
    "\n",
    "input_list = [1, 2, 2, 5, 8, 4, 4, 8]\n",
    "\n",
    "nw_set = set(input_list)\n",
    "print(len(nw_set))\n",
    "print(nw_set)"
   ]
  },
  {
   "cell_type": "markdown",
   "id": "7bddf0b3",
   "metadata": {},
   "source": [
    "## List product excluding duplicates"
   ]
  },
  {
   "cell_type": "code",
   "execution_count": 8,
   "id": "2378ddf5",
   "metadata": {},
   "outputs": [
    {
     "data": {
      "text/plain": [
       "90"
      ]
     },
     "execution_count": 8,
     "metadata": {},
     "output_type": "execute_result"
    }
   ],
   "source": [
    "## Approach 1: Naive method\n",
    "\n",
    "def prod(val):\n",
    "    res = 1\n",
    "    for i in val:\n",
    "        res *= i\n",
    "    return res\n",
    "\n",
    "test_list = [1, 3, 5, 6, 3, 5, 6, 1]\n",
    "\n",
    "res = []\n",
    "for i in test_list:\n",
    "    if i not in  res:\n",
    "        res.append(i)\n",
    "prod(res)"
   ]
  },
  {
   "cell_type": "code",
   "execution_count": 12,
   "id": "85faa3f0",
   "metadata": {},
   "outputs": [
    {
     "data": {
      "text/plain": [
       "90"
      ]
     },
     "execution_count": 12,
     "metadata": {},
     "output_type": "execute_result"
    }
   ],
   "source": [
    "## Approach 2: using set() and functools.reduce()\n",
    "\n",
    "from functools import reduce\n",
    "test_list = [1, 3, 5, 6, 3, 5, 6, 1]\n",
    "reduce(lambda x,y: x*y, set(test_list))"
   ]
  },
  {
   "cell_type": "markdown",
   "id": "b2028126",
   "metadata": {},
   "source": [
    "## Extract elements with Frequency greater than K"
   ]
  },
  {
   "cell_type": "code",
   "execution_count": 14,
   "id": "8e3c7318",
   "metadata": {},
   "outputs": [
    {
     "name": "stdout",
     "output_type": "stream",
     "text": [
      "[4, 3]\n"
     ]
    }
   ],
   "source": [
    "## Approach 1: using collections Counter + list comprehension\n",
    "\n",
    "from collections import Counter\n",
    "test_list = [4, 6, 4, 3, 3, 4, 3, 7, 8, 8]\n",
    "\n",
    "K=2\n",
    "\n",
    "res = [key for key, value in Counter(test_list).items() if value > K]\n",
    "\n",
    "print(res)"
   ]
  },
  {
   "cell_type": "markdown",
   "id": "c8e4f551",
   "metadata": {},
   "source": [
    "## Test if List contains elements in Range"
   ]
  },
  {
   "cell_type": "code",
   "execution_count": 15,
   "id": "cb93d2c5",
   "metadata": {},
   "outputs": [
    {
     "name": "stdout",
     "output_type": "stream",
     "text": [
      "True\n"
     ]
    }
   ],
   "source": [
    "## Approach 1:using loop\n",
    "\n",
    "test_list = [4, 5, 6, 7, 3, 9]\n",
    "i, j = 3, 10\n",
    "\n",
    "res = True\n",
    "for ele in test_list:\n",
    "    if ele<i or ele>=j:\n",
    "        res = False\n",
    "        break\n",
    "print(res)"
   ]
  },
  {
   "cell_type": "code",
   "execution_count": 16,
   "id": "0e631107",
   "metadata": {},
   "outputs": [
    {
     "name": "stdout",
     "output_type": "stream",
     "text": [
      "True\n"
     ]
    }
   ],
   "source": [
    "## Approach 2: using all()\n",
    "\n",
    "test_list = [4, 5, 6, 7, 3, 9]\n",
    "i, j = 3, 10\n",
    "\n",
    "res = all(ele>=i and ele<j for ele in test_list)\n",
    "print(res)"
   ]
  },
  {
   "cell_type": "markdown",
   "id": "3494cb83",
   "metadata": {},
   "source": [
    "## program to check if the list contains three consecutive common numbers in Python"
   ]
  },
  {
   "cell_type": "code",
   "execution_count": 17,
   "id": "72c33ae6",
   "metadata": {},
   "outputs": [
    {
     "name": "stdout",
     "output_type": "stream",
     "text": [
      "1\n",
      "22\n"
     ]
    }
   ],
   "source": [
    "## Approach 1: loop\n",
    "\n",
    "arr = [1, 1, 1, 64, 23, 64, 22, 22, 22]\n",
    "\n",
    "n = len(arr)\n",
    "\n",
    "for i in range(n-2):\n",
    "    if arr[i]==arr[i+1] and arr[i+1]==arr[i+2]:\n",
    "        print(arr[i])"
   ]
  },
  {
   "cell_type": "markdown",
   "id": "4121aca4",
   "metadata": {},
   "source": [
    "## program to find the Strongest Neighbour"
   ]
  },
  {
   "cell_type": "markdown",
   "id": "8255ac91",
   "metadata": {},
   "source": [
    "Input: 1 2 2 3 4 5\n",
    "Output: 2 2 3 4 5\n",
    "\n",
    "Input: 5 5\n",
    "Output: 5"
   ]
  },
  {
   "cell_type": "code",
   "execution_count": 18,
   "id": "df65208f",
   "metadata": {},
   "outputs": [
    {
     "data": {
      "text/plain": [
       "[2, 2, 3, 4, 5]"
      ]
     },
     "execution_count": 18,
     "metadata": {},
     "output_type": "execute_result"
    }
   ],
   "source": [
    "def maxAdjacent(lst):\n",
    "    \n",
    "    n = len(lst)\n",
    "    nw_lst = []\n",
    "    for i in range(n-1):\n",
    "        r = max(lst[i], lst[i+1])\n",
    "        nw_lst.append(r)\n",
    "    return nw_lst\n",
    "\n",
    "arr1 = [1,2,2,3,4,5]\n",
    "\n",
    "maxAdjacent(arr1)"
   ]
  },
  {
   "cell_type": "markdown",
   "id": "9a56fa1c",
   "metadata": {},
   "source": [
    "## Program to print all Possible Combinations from the three Digits"
   ]
  },
  {
   "cell_type": "code",
   "execution_count": 19,
   "id": "e2b6c56d",
   "metadata": {},
   "outputs": [
    {
     "name": "stdout",
     "output_type": "stream",
     "text": [
      "1 2 3\n",
      "1 3 2\n",
      "2 1 3\n",
      "2 3 1\n",
      "3 1 2\n",
      "3 2 1\n"
     ]
    }
   ],
   "source": [
    "## Approach 1: Brute force or naive approach\n",
    "\n",
    "def comb(lst):\n",
    "    for i in range(3):\n",
    "        for j in range(3):\n",
    "            for k in range(3):\n",
    "                if (i!=j and j!=k and i!=k):\n",
    "                    print(lst[i], lst[j], lst[k])\n",
    "\n",
    "comb([1, 2, 3])"
   ]
  },
  {
   "cell_type": "code",
   "execution_count": 20,
   "id": "fa2b43e4",
   "metadata": {},
   "outputs": [
    {
     "name": "stdout",
     "output_type": "stream",
     "text": [
      "(1, 2, 3)\n",
      "(1, 3, 2)\n",
      "(2, 1, 3)\n",
      "(2, 3, 1)\n",
      "(3, 1, 2)\n",
      "(3, 2, 1)\n"
     ]
    }
   ],
   "source": [
    "## Approach 2: using itertools.permutations()\n",
    "\n",
    "from itertools import permutations\n",
    "\n",
    "comb = permutations([1, 2, 3], 3)\n",
    "\n",
    "for i in comb:\n",
    "    print(i)"
   ]
  },
  {
   "cell_type": "markdown",
   "id": "d244f92e",
   "metadata": {},
   "source": [
    "## program to get all unique combinations of two Lists"
   ]
  },
  {
   "cell_type": "markdown",
   "id": "3d1a92ad",
   "metadata": {},
   "source": [
    "List_1 = [\"a\",\"b\"]\n",
    "List_2 = [1,2]\n",
    "Unique_combination = [[('a',1),('b',2)],[('a',2),('b',1)]] "
   ]
  },
  {
   "cell_type": "code",
   "execution_count": 22,
   "id": "ec9ae0d6",
   "metadata": {},
   "outputs": [
    {
     "name": "stdout",
     "output_type": "stream",
     "text": [
      "[[('a', 1), ('b', 2)], [('b', 1), ('a', 2)]]\n"
     ]
    }
   ],
   "source": [
    "## Approach 1: using permutation() and zip()\n",
    "\n",
    "from itertools import permutations\n",
    "\n",
    "List_1 = [\"a\",\"b\"]\n",
    "List_2 = [1,2]\n",
    "\n",
    "unique_comb = []\n",
    "\n",
    "permu = permutations(List_1, len(List_2))\n",
    "\n",
    "for comb in permu:\n",
    "    zipped = zip(comb, List_2)\n",
    "    unique_comb.append(list(zipped))\n",
    "\n",
    "print(unique_comb)"
   ]
  },
  {
   "cell_type": "markdown",
   "id": "a5ec91af",
   "metadata": {},
   "source": [
    "## Remove all the occurrences of an element from a list"
   ]
  },
  {
   "cell_type": "code",
   "execution_count": 23,
   "id": "67979e43",
   "metadata": {},
   "outputs": [
    {
     "data": {
      "text/plain": [
       "[3, 4, 6, 5]"
      ]
     },
     "execution_count": 23,
     "metadata": {},
     "output_type": "execute_result"
    }
   ],
   "source": [
    "## Approach 1: using list comprehension\n",
    "\n",
    "def remove_items(lst, item):\n",
    "    res = [i for i in lst if i !=item]\n",
    "    return res\n",
    "test_list = [1, 3, 4, 6, 5, 1]\n",
    "item = 1\n",
    "remove_items(test_list, item)"
   ]
  },
  {
   "cell_type": "code",
   "execution_count": 24,
   "id": "84c32aa9",
   "metadata": {},
   "outputs": [
    {
     "data": {
      "text/plain": [
       "[3, 4, 6, 5]"
      ]
     },
     "execution_count": 24,
     "metadata": {},
     "output_type": "execute_result"
    }
   ],
   "source": [
    "## Approach 2: using filter __ne__\n",
    "\n",
    "def remove_items(lst, item):\n",
    "    res = list(filter((item).__ne__, lst))\n",
    "    return res\n",
    "test_list = [1, 3, 4, 6, 5, 1]\n",
    "item = 1\n",
    "remove_items(test_list, item)"
   ]
  },
  {
   "cell_type": "code",
   "execution_count": null,
   "id": "f9102ff6",
   "metadata": {},
   "outputs": [],
   "source": []
  }
 ],
 "metadata": {
  "kernelspec": {
   "display_name": "Python 3",
   "language": "python",
   "name": "python3"
  },
  "language_info": {
   "codemirror_mode": {
    "name": "ipython",
    "version": 3
   },
   "file_extension": ".py",
   "mimetype": "text/x-python",
   "name": "python",
   "nbconvert_exporter": "python",
   "pygments_lexer": "ipython3",
   "version": "3.6.13"
  }
 },
 "nbformat": 4,
 "nbformat_minor": 5
}
